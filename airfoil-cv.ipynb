{
 "cells": [
  {
   "cell_type": "code",
   "execution_count": 1,
   "id": "482cf9cb",
   "metadata": {
    "_cell_guid": "b1076dfc-b9ad-4769-8c92-a6c4dae69d19",
    "_uuid": "8f2839f25d086af736a60e9eeb907d3b93b6e0e5",
    "execution": {
     "iopub.execute_input": "2023-09-07T01:41:09.059565Z",
     "iopub.status.busy": "2023-09-07T01:41:09.059092Z",
     "iopub.status.idle": "2023-09-07T01:41:09.354834Z",
     "shell.execute_reply": "2023-09-07T01:41:09.353286Z"
    },
    "papermill": {
     "duration": 0.30848,
     "end_time": "2023-09-07T01:41:09.358501",
     "exception": false,
     "start_time": "2023-09-07T01:41:09.050021",
     "status": "completed"
    },
    "tags": []
   },
   "outputs": [],
   "source": [
    "import cv2\n",
    "import numpy as np\n",
    "import matplotlib.pyplot as plt\n",
    "import pandas as pd\n",
    "\n",
    "def calculate_area(file_path):\n",
    "        \n",
    "    image = cv2.imread(file_path)\n",
    "\n",
    "    above_mask = draw_above_mask(image,file_path)\n",
    "    image_crop=image[:,:above_mask.shape[1]]\n",
    "#     above_mask = above_mask[:,:rightmost_x]\n",
    "    # 将图像转换为HSV颜色空间\n",
    "    hsv = cv2.cvtColor(image_crop, cv2.COLOR_BGR2HSV)\n",
    "\n",
    "    # 定义深蓝色范围\n",
    "    lower_dark_blue = np.array([110, 50, 50])  # 深蓝色下限\n",
    "    upper_dark_blue = np.array([130, 255, 255])  # 深蓝色上限\n",
    "\n",
    "    # 创建深蓝色掩码\n",
    "    dark_blue_mask = cv2.inRange(hsv, lower_dark_blue, upper_dark_blue)\n",
    "    \n",
    "    # 与深蓝色区域的掩膜进行按位与操作，获取线上方的深蓝色区域\n",
    "    blue_area_above_line = cv2.bitwise_and(above_mask, dark_blue_mask)\n",
    "    \n",
    "    # 进行膨胀和腐蚀操作，消除噪声\n",
    "    kernel = np.ones((5, 5), np.uint8)\n",
    "    blue_area_above_line = cv2.morphologyEx(blue_area_above_line, cv2.MORPH_OPEN, kernel)\n",
    "\n",
    "    # 计算非零像素数量\n",
    "    blue_area = cv2.countNonZero(blue_area_above_line)\n",
    "    if blue_area>0:\n",
    "        # 获取非零像素的列索引\n",
    "        non_zero_columns = np.nonzero(blue_area_above_line)[1]\n",
    "\n",
    "        # 获取最左边的横坐标\n",
    "        leftmost_x = np.min(non_zero_columns)\n",
    "\n",
    "        start_coor = leftmost_x - 436\n",
    "    else:\n",
    "        start_coor = 0\n",
    "\n",
    "    return blue_area, start_coor"
   ]
  },
  {
   "cell_type": "code",
   "execution_count": 2,
   "id": "52c51b28",
   "metadata": {
    "execution": {
     "iopub.execute_input": "2023-09-07T01:41:09.371879Z",
     "iopub.status.busy": "2023-09-07T01:41:09.371450Z",
     "iopub.status.idle": "2023-09-07T01:41:09.386942Z",
     "shell.execute_reply": "2023-09-07T01:41:09.385676Z"
    },
    "papermill": {
     "duration": 0.025676,
     "end_time": "2023-09-07T01:41:09.390090",
     "exception": false,
     "start_time": "2023-09-07T01:41:09.364414",
     "status": "completed"
    },
    "tags": []
   },
   "outputs": [],
   "source": [
    "import numpy as np\n",
    "\n",
    "def draw_above_mask(image,path):\n",
    "    \n",
    "    filename = path.split(\"/\")[-1].split(\".\")[0]\n",
    "    case_number = filename.split(\"-\")[0]\n",
    "    \n",
    "#     print(\"filename\",filename)\n",
    "    # 读取.dat文件，跳过前65行，从第66行开始读取数据\n",
    "    data = pd.read_csv(\"/kaggle/input/airfoil-geo/\"+case_number+\".dat\", header=None, delimiter='\\s+', skiprows=34, nrows=25)\n",
    "    data = pd.read_csv(\"/kaggle/input/airfoil-geo/\"+case_number+\".dat\", header=None, delimiter='\\s+', skiprows=91, nrows=25)\n",
    "    data = pd.read_csv(\"/kaggle/input/airfoil-geo/\"+case_number+\".dat\", header=None, delimiter='\\s+', skiprows=65, nrows=25)\n",
    "    airfoil_coor=data.values\n",
    "    \n",
    "    scale = [[1190/3,1190/3] for _ in range(len(airfoil_coor))]\n",
    "\n",
    "    airfoil_coor = [[int(x * y ) for x, y in zip(sub_a, sub_b)] for sub_a, sub_b in zip(airfoil_coor, scale)]\n",
    "    \n",
    "    airfoil_coor = [[x + 436, y + 472] for x, y in airfoil_coor]\n",
    "    \n",
    "    # 假设你有一条线的坐标点组成的数组 line_points\n",
    "\n",
    "    # 找到线的最左边的点\n",
    "    leftmost_point = min(airfoil_coor, key=lambda point: point[0])\n",
    "\n",
    "    # 计算对称线的 y 坐标\n",
    "    y_left = leftmost_point[1]\n",
    "    symmetric_line = [[point[0], 2 * y_left - point[1]] for point in airfoil_coor]\n",
    "\n",
    "    symmetric_line.append([symmetric_line[-1][0],0])\n",
    "    symmetric_line.append([symmetric_line[0][0],0])\n",
    "\n",
    "    # 创建一个与画布相同大小的掩膜图像\n",
    "    line_mask = np.zeros_like(image[:, :, 2])\n",
    "\n",
    "    # 将线的坐标数据绘制在掩膜图像上\n",
    "    cv2.fillPoly(line_mask, [np.array(symmetric_line)], 255)\n",
    "        \n",
    "    line_mask = line_mask[:,:int((data.values[0][0]+1)*1190/3)+44]\n",
    "    \n",
    "    # 创建一个与画布相同大小的掩膜图像\n",
    "    line_mask2 = np.zeros_like(image[:, :, 2])\n",
    "\n",
    "    # 将线的坐标数据绘制在掩膜图像上\n",
    "    cv2.polylines(line_mask2, [np.array(symmetric_line)], False, 255, thickness=2)\n",
    "\n",
    "    return line_mask"
   ]
  },
  {
   "cell_type": "code",
   "execution_count": 3,
   "id": "78178d5e",
   "metadata": {
    "execution": {
     "iopub.execute_input": "2023-09-07T01:41:09.406688Z",
     "iopub.status.busy": "2023-09-07T01:41:09.405904Z",
     "iopub.status.idle": "2023-09-07T01:41:09.555319Z",
     "shell.execute_reply": "2023-09-07T01:41:09.554174Z"
    },
    "papermill": {
     "duration": 0.160716,
     "end_time": "2023-09-07T01:41:09.558280",
     "exception": false,
     "start_time": "2023-09-07T01:41:09.397564",
     "status": "completed"
    },
    "tags": []
   },
   "outputs": [
    {
     "data": {
      "text/plain": [
       "(1594, 217)"
      ]
     },
     "execution_count": 3,
     "metadata": {},
     "output_type": "execute_result"
    }
   ],
   "source": [
    "# capture_airfoil(\"/kaggle/input/flowfieldpic/Pic/case411-175.png\")\n",
    "\n",
    "calculate_area(\"/kaggle/input/flowfieldpic/Pic/case419-235.png\")"
   ]
  },
  {
   "cell_type": "code",
   "execution_count": 4,
   "id": "43e5ac15",
   "metadata": {
    "execution": {
     "iopub.execute_input": "2023-09-07T01:41:09.571922Z",
     "iopub.status.busy": "2023-09-07T01:41:09.571237Z",
     "iopub.status.idle": "2023-09-07T01:41:10.109022Z",
     "shell.execute_reply": "2023-09-07T01:41:10.107884Z"
    },
    "papermill": {
     "duration": 0.548707,
     "end_time": "2023-09-07T01:41:10.112709",
     "exception": false,
     "start_time": "2023-09-07T01:41:09.564002",
     "status": "completed"
    },
    "tags": []
   },
   "outputs": [],
   "source": [
    "import os\n",
    "import glob\n",
    "\n",
    "# 指定文件夹路径\n",
    "pic_path = glob.glob(\"/kaggle/input/flowfieldpic/Pic/*\")\n",
    "\n",
    "df = pd.DataFrame(columns=[\"图片名\", '失速面积','失速开始位置'])"
   ]
  },
  {
   "cell_type": "code",
   "execution_count": 5,
   "id": "fb876a65",
   "metadata": {
    "execution": {
     "iopub.execute_input": "2023-09-07T01:41:10.130774Z",
     "iopub.status.busy": "2023-09-07T01:41:10.130268Z",
     "iopub.status.idle": "2023-09-07T05:10:54.797878Z",
     "shell.execute_reply": "2023-09-07T05:10:54.796803Z"
    },
    "papermill": {
     "duration": 12584.680425,
     "end_time": "2023-09-07T05:10:54.801086",
     "exception": false,
     "start_time": "2023-09-07T01:41:10.120661",
     "status": "completed"
    },
    "tags": []
   },
   "outputs": [],
   "source": [
    "# 遍历文件夹中的所有文件\n",
    "for file_path in pic_path:\n",
    "    stall_area,start_coor=calculate_area(file_path)\n",
    "    # 迭代添加行数据\n",
    "    data = {'图片名': file_path,\n",
    "            '失速面积': stall_area,\n",
    "           '失速开始位置':start_coor}\n",
    "    df.loc[len(df)] = data\n",
    "#     print(\"失速面积,失速开始位置\", stall_area,start_coor)\n",
    "    df.to_excel('分类结果.xlsx', index=False)\n",
    "    "
   ]
  },
  {
   "cell_type": "code",
   "execution_count": 6,
   "id": "3b1d678f",
   "metadata": {
    "execution": {
     "iopub.execute_input": "2023-09-07T05:10:54.814230Z",
     "iopub.status.busy": "2023-09-07T05:10:54.813850Z",
     "iopub.status.idle": "2023-09-07T05:10:56.402882Z",
     "shell.execute_reply": "2023-09-07T05:10:56.401761Z"
    },
    "papermill": {
     "duration": 1.59874,
     "end_time": "2023-09-07T05:10:56.405705",
     "exception": false,
     "start_time": "2023-09-07T05:10:54.806965",
     "status": "completed"
    },
    "tags": []
   },
   "outputs": [
    {
     "name": "stdout",
     "output_type": "stream",
     "text": [
      "                                                  图片名  失速面积  失速开始位置\n",
      "0      /kaggle/input/flowfieldpic/Pic/case174-170.png     0       0\n",
      "1      /kaggle/input/flowfieldpic/Pic/case181-130.png     0       0\n",
      "2      /kaggle/input/flowfieldpic/Pic/case289-170.png  4521     194\n",
      "3      /kaggle/input/flowfieldpic/Pic/case462-205.png  5623     165\n",
      "4      /kaggle/input/flowfieldpic/Pic/case306-145.png     0       0\n",
      "...                                               ...   ...     ...\n",
      "14495  /kaggle/input/flowfieldpic/Pic/case296-200.png     0       0\n",
      "14496    /kaggle/input/flowfieldpic/Pic/case7-230.png  2029     236\n",
      "14497  /kaggle/input/flowfieldpic/Pic/case279-230.png  8566      97\n",
      "14498  /kaggle/input/flowfieldpic/Pic/case294-225.png  3833     225\n",
      "14499  /kaggle/input/flowfieldpic/Pic/case259-240.png   920     235\n",
      "\n",
      "[14500 rows x 3 columns]\n"
     ]
    }
   ],
   "source": [
    "print(df)\n",
    "df.to_excel('分类结果.xlsx', index=False)"
   ]
  },
  {
   "cell_type": "code",
   "execution_count": 7,
   "id": "8c51833a",
   "metadata": {
    "_cell_guid": "b1076dfc-b9ad-4769-8c92-a6c4dae69d19",
    "_uuid": "8f2839f25d086af736a60e9eeb907d3b93b6e0e5",
    "execution": {
     "iopub.execute_input": "2023-09-07T05:10:56.419771Z",
     "iopub.status.busy": "2023-09-07T05:10:56.419381Z",
     "iopub.status.idle": "2023-09-07T05:10:56.434437Z",
     "shell.execute_reply": "2023-09-07T05:10:56.433506Z"
    },
    "papermill": {
     "duration": 0.024669,
     "end_time": "2023-09-07T05:10:56.436623",
     "exception": false,
     "start_time": "2023-09-07T05:10:56.411954",
     "status": "completed"
    },
    "tags": []
   },
   "outputs": [],
   "source": [
    "def capture_airfoil(file_path):\n",
    "\n",
    "    image = cv2.imread(file_path)\n",
    "    # 获取图像的高度和宽度\n",
    "    height, width = image.shape[:2]\n",
    "    print(\"height, width:\",height, width)\n",
    "\n",
    "    # 计算要保留的像素范围\n",
    "    top_h=int(0.15*height)\n",
    "    bottom_h=int(0.85*height)\n",
    "\n",
    "    top_w=int(0.15*width)\n",
    "    bottom_w=int(0.85*width)\n",
    "\n",
    "    # 截取图像的上部分\n",
    "    image = image[top_h:bottom_h, top_w:bottom_w]\n",
    "    height, width = image.shape[:2]\n",
    "\n",
    "    # 将图像转换为灰度图像\n",
    "    gray = cv2.cvtColor(image, cv2.COLOR_BGR2GRAY)\n",
    "    \n",
    "    # 创建一个新的图形\n",
    "    plt.figure()\n",
    "\n",
    "    # 将图像显示在图形中\n",
    "    plt.imshow(gray)\n",
    "\n",
    "    # 显示图形\n",
    "    plt.show()\n",
    "\n",
    "    # 对灰度图像进行阈值处理\n",
    "    _, threshold = cv2.threshold(gray, 220, 255, cv2.THRESH_BINARY)\n",
    "    \n",
    "    # 创建一个新的图形\n",
    "    plt.figure()\n",
    "\n",
    "    # 将图像显示在图形中\n",
    "    plt.imshow(threshold)\n",
    "\n",
    "    # 显示图形\n",
    "    plt.show()\n",
    "    \n",
    "    # 进行膨胀和腐蚀操作，消除噪声\n",
    "    kernel = np.ones((5, 5), np.uint8)\n",
    "    threshold = cv2.morphologyEx(threshold, cv2.MORPH_OPEN, kernel)\n",
    "    \n",
    "    # 连通组件分析\n",
    "    num_labels, labels, stats, centroids = cv2.connectedComponentsWithStats(threshold)\n",
    "\n",
    "    # 获取每个区域掩膜的单独最大和最小纵坐标\n",
    "    for i in range(1, num_labels):  # 跳过背景区域（标签0）\n",
    "        min_y = stats[i, 1]\n",
    "        max_y = stats[i, 1] + stats[i, 3]\n",
    "        if(min_y > 0 and max_y < height):\n",
    "            region_mask = np.uint8(labels == i) * 255  # 创建区域掩膜\n",
    "            region_image = cv2.bitwise_and(image, image, mask=region_mask)  # 通过按位与操作提取区域图像    \n",
    "            # 创建一个新的图形\n",
    "            plt.figure()\n",
    "\n",
    "            # 将图像显示在图形中\n",
    "            plt.imshow(region_image)\n",
    "\n",
    "            # 显示图形\n",
    "            plt.show()\n",
    "            \n",
    "            gray_mask = cv2.cvtColor(region_image, cv2.COLOR_BGR2GRAY)\n",
    "            \n",
    "            # 获取非零像素坐标\n",
    "            non_zero_pixels = cv2.findNonZero(gray_mask)\n",
    "\n",
    "            # 获取最左边和最下边的坐标\n",
    "            left_x = np.min(non_zero_pixels[:,:,0])\n",
    "            bottom_y = np.max(non_zero_pixels[:,:,1])\n",
    "\n",
    "            print(\"机翼最左下坐标：({}, {})\".format(left_x, bottom_y))\n",
    "\n",
    "    # 使用Canny边缘检测\n",
    "    edges = cv2.Canny(region_image, 100, 200)\n",
    "\n",
    "    # 寻找最外侧的轮廓\n",
    "    contours, _ = cv2.findContours(edges, cv2.RETR_EXTERNAL, cv2.CHAIN_APPROX_SIMPLE)\n",
    "    \n",
    "    return calculate_area(contours,image,file_path)"
   ]
  }
 ],
 "kernelspec": {
  "display_name": "Python 3",
  "language": "python",
  "name": "python3"
 },
 "language_info": {
  "codemirror_mode": {
   "name": "ipython",
   "version": 3
  },
  "file_extension": ".py",
  "mimetype": "text/x-python",
  "name": "python",
  "nbconvert_exporter": "python",
  "pygments_lexer": "ipython3",
  "version": "3.6.4"
 },
 "metadata": {
  "kernelspec": {
   "display_name": "Python 3",
   "language": "python",
   "name": "python3"
  },
  "language_info": {
   "codemirror_mode": {
    "name": "ipython",
    "version": 3
   },
   "file_extension": ".py",
   "mimetype": "text/x-python",
   "name": "python",
   "nbconvert_exporter": "python",
   "pygments_lexer": "ipython3",
   "version": "3.10.12"
  },
  "papermill": {
   "default_parameters": {},
   "duration": 12600.602321,
   "end_time": "2023-09-07T05:10:57.392908",
   "environment_variables": {},
   "exception": null,
   "input_path": "__notebook__.ipynb",
   "output_path": "__notebook__.ipynb",
   "parameters": {},
   "start_time": "2023-09-07T01:40:56.790587",
   "version": "2.4.0"
  }
 },
 "nbformat": 4,
 "nbformat_minor": 5
}
