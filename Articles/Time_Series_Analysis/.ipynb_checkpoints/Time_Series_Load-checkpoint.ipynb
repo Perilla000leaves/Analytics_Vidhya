{
 "cells": [
  {
   "cell_type": "markdown",
   "metadata": {},
   "source": [
    "# Steps to Tackle a Time Series Problem (with Codes in Python)\n",
    "Note: These are just the codes from article"
   ]
  },
  {
   "cell_type": "markdown",
   "metadata": {},
   "source": [
    "## Loading and Handling TS in Pandas"
   ]
  },
  {
   "cell_type": "code",
   "execution_count": 1,
   "metadata": {},
   "outputs": [],
   "source": [
    "import pandas as pd\n",
    "import warnings\n",
    "import xlrd\n",
    "import sys\n",
    "from pandas.plotting import register_matplotlib_converters\n",
    "import numpy as np\n",
    "from datetime import datetime,timedelta\n",
    "from statsmodels.tsa.arima_model import ARIMA\n",
    "from statsmodels.tsa.arima_model import ARMA\n",
    "import statsmodels.api as sm\n",
    "from sklearn.metrics import mean_squared_error\n",
    "import matplotlib.pylab as plt\n",
    "\n",
    "%matplotlib inline\n",
    "from matplotlib.pylab import rcParams\n",
    "rcParams['figure.figsize'] = 15, 6\n",
    "rcParams['font.sans-serif']=['SimHei']\n",
    "rcParams['axes.unicode_minus'] = False\n",
    "warnings.filterwarnings(action='once')"
   ]
  },
  {
   "cell_type": "code",
   "execution_count": 2,
   "metadata": {},
   "outputs": [
    {
     "name": "stderr",
     "output_type": "stream",
     "text": [
      "C:\\ProgramData\\Anaconda3\\envs\\p36workshop\\lib\\site-packages\\IPython\\core\\interactiveshell.py:3049: DtypeWarning: Columns (1,2) have mixed types. Specify dtype option on import or set low_memory=False.\n",
      "  interactivity=interactivity, compiler=compiler, result=result)\n"
     ]
    },
    {
     "data": {
      "text/html": [
       "<div>\n",
       "<style scoped>\n",
       "    .dataframe tbody tr th:only-of-type {\n",
       "        vertical-align: middle;\n",
       "    }\n",
       "\n",
       "    .dataframe tbody tr th {\n",
       "        vertical-align: top;\n",
       "    }\n",
       "\n",
       "    .dataframe thead th {\n",
       "        text-align: right;\n",
       "    }\n",
       "</style>\n",
       "<table border=\"1\" class=\"dataframe\">\n",
       "  <thead>\n",
       "    <tr style=\"text-align: right;\">\n",
       "      <th></th>\n",
       "      <th>tqlx</th>\n",
       "      <th>tqmc</th>\n",
       "      <th>bs</th>\n",
       "      <th>2017/6/1</th>\n",
       "      <th>2017/6/8</th>\n",
       "      <th>2017/6/15</th>\n",
       "      <th>2017/6/22</th>\n",
       "      <th>2017/6/29</th>\n",
       "      <th>2017/7/6</th>\n",
       "      <th>2017/7/13</th>\n",
       "      <th>...</th>\n",
       "      <th>2019/3/21</th>\n",
       "      <th>2019/3/28</th>\n",
       "      <th>2019/4/4</th>\n",
       "      <th>2019/4/11</th>\n",
       "      <th>2019/4/18</th>\n",
       "      <th>2019/4/25</th>\n",
       "      <th>2019/5/2</th>\n",
       "      <th>2019/5/9</th>\n",
       "      <th>2019/5/16</th>\n",
       "      <th>2019/5/23</th>\n",
       "    </tr>\n",
       "  </thead>\n",
       "  <tbody>\n",
       "    <tr>\n",
       "      <th>0</th>\n",
       "      <td>2</td>\n",
       "      <td>NaN</td>\n",
       "      <td>1001444521</td>\n",
       "      <td>NaN</td>\n",
       "      <td>NaN</td>\n",
       "      <td>NaN</td>\n",
       "      <td>NaN</td>\n",
       "      <td>NaN</td>\n",
       "      <td>NaN</td>\n",
       "      <td>NaN</td>\n",
       "      <td>...</td>\n",
       "      <td>0.000</td>\n",
       "      <td>0.0000</td>\n",
       "      <td>0.0000</td>\n",
       "      <td>0.000</td>\n",
       "      <td>0.0000</td>\n",
       "      <td>0.0000</td>\n",
       "      <td>0.0000</td>\n",
       "      <td>0.0000</td>\n",
       "      <td>0.0000</td>\n",
       "      <td>0.0000</td>\n",
       "    </tr>\n",
       "    <tr>\n",
       "      <th>1</th>\n",
       "      <td>2</td>\n",
       "      <td>NaN</td>\n",
       "      <td>1002035530</td>\n",
       "      <td>NaN</td>\n",
       "      <td>NaN</td>\n",
       "      <td>NaN</td>\n",
       "      <td>NaN</td>\n",
       "      <td>0.0</td>\n",
       "      <td>0.0</td>\n",
       "      <td>0.0</td>\n",
       "      <td>...</td>\n",
       "      <td>0.000</td>\n",
       "      <td>0.0000</td>\n",
       "      <td>0.0000</td>\n",
       "      <td>0.000</td>\n",
       "      <td>0.0000</td>\n",
       "      <td>0.0000</td>\n",
       "      <td>0.0000</td>\n",
       "      <td>0.0000</td>\n",
       "      <td>0.0000</td>\n",
       "      <td>0.0000</td>\n",
       "    </tr>\n",
       "    <tr>\n",
       "      <th>2</th>\n",
       "      <td>2</td>\n",
       "      <td>NaN</td>\n",
       "      <td>1002780124</td>\n",
       "      <td>NaN</td>\n",
       "      <td>NaN</td>\n",
       "      <td>NaN</td>\n",
       "      <td>NaN</td>\n",
       "      <td>NaN</td>\n",
       "      <td>NaN</td>\n",
       "      <td>NaN</td>\n",
       "      <td>...</td>\n",
       "      <td>0.000</td>\n",
       "      <td>0.0000</td>\n",
       "      <td>0.0000</td>\n",
       "      <td>0.000</td>\n",
       "      <td>0.0000</td>\n",
       "      <td>0.0000</td>\n",
       "      <td>0.0000</td>\n",
       "      <td>0.0000</td>\n",
       "      <td>0.0000</td>\n",
       "      <td>0.0000</td>\n",
       "    </tr>\n",
       "    <tr>\n",
       "      <th>3</th>\n",
       "      <td>2</td>\n",
       "      <td>NaN</td>\n",
       "      <td>1000006214</td>\n",
       "      <td>NaN</td>\n",
       "      <td>NaN</td>\n",
       "      <td>NaN</td>\n",
       "      <td>NaN</td>\n",
       "      <td>NaN</td>\n",
       "      <td>NaN</td>\n",
       "      <td>NaN</td>\n",
       "      <td>...</td>\n",
       "      <td>NaN</td>\n",
       "      <td>NaN</td>\n",
       "      <td>NaN</td>\n",
       "      <td>NaN</td>\n",
       "      <td>NaN</td>\n",
       "      <td>NaN</td>\n",
       "      <td>NaN</td>\n",
       "      <td>NaN</td>\n",
       "      <td>NaN</td>\n",
       "      <td>NaN</td>\n",
       "    </tr>\n",
       "    <tr>\n",
       "      <th>4</th>\n",
       "      <td>2</td>\n",
       "      <td>NaN</td>\n",
       "      <td>1002156190</td>\n",
       "      <td>NaN</td>\n",
       "      <td>NaN</td>\n",
       "      <td>NaN</td>\n",
       "      <td>NaN</td>\n",
       "      <td>NaN</td>\n",
       "      <td>NaN</td>\n",
       "      <td>NaN</td>\n",
       "      <td>...</td>\n",
       "      <td>7.862</td>\n",
       "      <td>8.9788</td>\n",
       "      <td>9.9228</td>\n",
       "      <td>7.932</td>\n",
       "      <td>8.6144</td>\n",
       "      <td>6.9024</td>\n",
       "      <td>8.8588</td>\n",
       "      <td>7.6692</td>\n",
       "      <td>8.2404</td>\n",
       "      <td>9.9224</td>\n",
       "    </tr>\n",
       "  </tbody>\n",
       "</table>\n",
       "<p>5 rows × 107 columns</p>\n",
       "</div>"
      ],
      "text/plain": [
       "   tqlx tqmc          bs  2017/6/1  2017/6/8  2017/6/15  2017/6/22  2017/6/29  \\\n",
       "0     2  NaN  1001444521       NaN       NaN        NaN        NaN        NaN   \n",
       "1     2  NaN  1002035530       NaN       NaN        NaN        NaN        0.0   \n",
       "2     2  NaN  1002780124       NaN       NaN        NaN        NaN        NaN   \n",
       "3     2  NaN  1000006214       NaN       NaN        NaN        NaN        NaN   \n",
       "4     2  NaN  1002156190       NaN       NaN        NaN        NaN        NaN   \n",
       "\n",
       "   2017/7/6  2017/7/13  ...  2019/3/21  2019/3/28  2019/4/4  2019/4/11  \\\n",
       "0       NaN        NaN  ...      0.000     0.0000    0.0000      0.000   \n",
       "1       0.0        0.0  ...      0.000     0.0000    0.0000      0.000   \n",
       "2       NaN        NaN  ...      0.000     0.0000    0.0000      0.000   \n",
       "3       NaN        NaN  ...        NaN        NaN       NaN        NaN   \n",
       "4       NaN        NaN  ...      7.862     8.9788    9.9228      7.932   \n",
       "\n",
       "   2019/4/18  2019/4/25  2019/5/2  2019/5/9  2019/5/16  2019/5/23  \n",
       "0     0.0000     0.0000    0.0000    0.0000     0.0000     0.0000  \n",
       "1     0.0000     0.0000    0.0000    0.0000     0.0000     0.0000  \n",
       "2     0.0000     0.0000    0.0000    0.0000     0.0000     0.0000  \n",
       "3        NaN        NaN       NaN       NaN        NaN        NaN  \n",
       "4     8.6144     6.9024    8.8588    7.6692     8.2404     9.9224  \n",
       "\n",
       "[5 rows x 107 columns]"
      ]
     },
     "execution_count": 2,
     "metadata": {},
     "output_type": "execute_result"
    }
   ],
   "source": [
    "data=pd.read_csv('tq_past_load.csv',encoding=\"gb18030\")\n",
    "\n",
    "data.head()"
   ]
  },
  {
   "cell_type": "code",
   "execution_count": 3,
   "metadata": {},
   "outputs": [
    {
     "name": "stderr",
     "output_type": "stream",
     "text": [
      "C:\\ProgramData\\Anaconda3\\envs\\p36workshop\\lib\\site-packages\\ipykernel_launcher.py:5: RuntimeWarning: invalid value encountered in less_equal\n",
      "  \"\"\"\n"
     ]
    },
    {
     "data": {
      "text/html": [
       "<div>\n",
       "<style scoped>\n",
       "    .dataframe tbody tr th:only-of-type {\n",
       "        vertical-align: middle;\n",
       "    }\n",
       "\n",
       "    .dataframe tbody tr th {\n",
       "        vertical-align: top;\n",
       "    }\n",
       "\n",
       "    .dataframe thead th {\n",
       "        text-align: right;\n",
       "    }\n",
       "</style>\n",
       "<table border=\"1\" class=\"dataframe\">\n",
       "  <thead>\n",
       "    <tr style=\"text-align: right;\">\n",
       "      <th></th>\n",
       "      <th>tqlx</th>\n",
       "      <th>tqmc</th>\n",
       "      <th>bs</th>\n",
       "      <th>2017/6/1</th>\n",
       "      <th>2017/6/8</th>\n",
       "      <th>2017/6/15</th>\n",
       "      <th>2017/6/22</th>\n",
       "      <th>2017/6/29</th>\n",
       "      <th>2017/7/6</th>\n",
       "      <th>2017/7/13</th>\n",
       "      <th>...</th>\n",
       "      <th>2019/3/21</th>\n",
       "      <th>2019/3/28</th>\n",
       "      <th>2019/4/4</th>\n",
       "      <th>2019/4/11</th>\n",
       "      <th>2019/4/18</th>\n",
       "      <th>2019/4/25</th>\n",
       "      <th>2019/5/2</th>\n",
       "      <th>2019/5/9</th>\n",
       "      <th>2019/5/16</th>\n",
       "      <th>2019/5/23</th>\n",
       "    </tr>\n",
       "  </thead>\n",
       "  <tbody>\n",
       "    <tr>\n",
       "      <th>4</th>\n",
       "      <td>2</td>\n",
       "      <td>NaN</td>\n",
       "      <td>1002156190</td>\n",
       "      <td>NaN</td>\n",
       "      <td>NaN</td>\n",
       "      <td>NaN</td>\n",
       "      <td>NaN</td>\n",
       "      <td>NaN</td>\n",
       "      <td>NaN</td>\n",
       "      <td>NaN</td>\n",
       "      <td>...</td>\n",
       "      <td>7.862</td>\n",
       "      <td>8.9788</td>\n",
       "      <td>9.9228</td>\n",
       "      <td>7.932</td>\n",
       "      <td>8.6144</td>\n",
       "      <td>6.9024</td>\n",
       "      <td>8.8588</td>\n",
       "      <td>7.6692</td>\n",
       "      <td>8.2404</td>\n",
       "      <td>9.9224</td>\n",
       "    </tr>\n",
       "    <tr>\n",
       "      <th>11</th>\n",
       "      <td>2</td>\n",
       "      <td>欧阳佛莲</td>\n",
       "      <td>2222222223785607</td>\n",
       "      <td>NaN</td>\n",
       "      <td>NaN</td>\n",
       "      <td>NaN</td>\n",
       "      <td>NaN</td>\n",
       "      <td>NaN</td>\n",
       "      <td>NaN</td>\n",
       "      <td>NaN</td>\n",
       "      <td>...</td>\n",
       "      <td>8.444</td>\n",
       "      <td>8.4040</td>\n",
       "      <td>9.8600</td>\n",
       "      <td>9.456</td>\n",
       "      <td>7.2040</td>\n",
       "      <td>9.4520</td>\n",
       "      <td>8.3400</td>\n",
       "      <td>7.7880</td>\n",
       "      <td>6.4520</td>\n",
       "      <td>6.1840</td>\n",
       "    </tr>\n",
       "    <tr>\n",
       "      <th>21</th>\n",
       "      <td>2</td>\n",
       "      <td>深圳市大众建设集团有限公司</td>\n",
       "      <td>2222222223885517</td>\n",
       "      <td>NaN</td>\n",
       "      <td>NaN</td>\n",
       "      <td>NaN</td>\n",
       "      <td>NaN</td>\n",
       "      <td>NaN</td>\n",
       "      <td>NaN</td>\n",
       "      <td>NaN</td>\n",
       "      <td>...</td>\n",
       "      <td>51.588</td>\n",
       "      <td>48.6600</td>\n",
       "      <td>41.8520</td>\n",
       "      <td>61.724</td>\n",
       "      <td>49.5880</td>\n",
       "      <td>54.1200</td>\n",
       "      <td>60.5360</td>\n",
       "      <td>55.5960</td>\n",
       "      <td>63.2440</td>\n",
       "      <td>56.8080</td>\n",
       "    </tr>\n",
       "    <tr>\n",
       "      <th>36</th>\n",
       "      <td>1</td>\n",
       "      <td>#1皇庭世纪#1公变</td>\n",
       "      <td>2222222230117115</td>\n",
       "      <td>NaN</td>\n",
       "      <td>NaN</td>\n",
       "      <td>NaN</td>\n",
       "      <td>NaN</td>\n",
       "      <td>NaN</td>\n",
       "      <td>NaN</td>\n",
       "      <td>NaN</td>\n",
       "      <td>...</td>\n",
       "      <td>NaN</td>\n",
       "      <td>NaN</td>\n",
       "      <td>NaN</td>\n",
       "      <td>NaN</td>\n",
       "      <td>230.1500</td>\n",
       "      <td>237.1000</td>\n",
       "      <td>452.9500</td>\n",
       "      <td>398.4000</td>\n",
       "      <td>469.6000</td>\n",
       "      <td>456.9000</td>\n",
       "    </tr>\n",
       "    <tr>\n",
       "      <th>37</th>\n",
       "      <td>1</td>\n",
       "      <td>#1皇庭世纪#2公变</td>\n",
       "      <td>2222222230122081</td>\n",
       "      <td>NaN</td>\n",
       "      <td>NaN</td>\n",
       "      <td>NaN</td>\n",
       "      <td>NaN</td>\n",
       "      <td>NaN</td>\n",
       "      <td>NaN</td>\n",
       "      <td>NaN</td>\n",
       "      <td>...</td>\n",
       "      <td>NaN</td>\n",
       "      <td>NaN</td>\n",
       "      <td>NaN</td>\n",
       "      <td>NaN</td>\n",
       "      <td>201.5500</td>\n",
       "      <td>200.4500</td>\n",
       "      <td>343.9500</td>\n",
       "      <td>318.3500</td>\n",
       "      <td>371.7000</td>\n",
       "      <td>354.8000</td>\n",
       "    </tr>\n",
       "  </tbody>\n",
       "</table>\n",
       "<p>5 rows × 107 columns</p>\n",
       "</div>"
      ],
      "text/plain": [
       "    tqlx           tqmc                bs  2017/6/1  2017/6/8  2017/6/15  \\\n",
       "4      2            NaN        1002156190       NaN       NaN        NaN   \n",
       "11     2           欧阳佛莲  2222222223785607       NaN       NaN        NaN   \n",
       "21     2  深圳市大众建设集团有限公司  2222222223885517       NaN       NaN        NaN   \n",
       "36     1     #1皇庭世纪#1公变  2222222230117115       NaN       NaN        NaN   \n",
       "37     1     #1皇庭世纪#2公变  2222222230122081       NaN       NaN        NaN   \n",
       "\n",
       "    2017/6/22  2017/6/29  2017/7/6  2017/7/13  ...  2019/3/21  2019/3/28  \\\n",
       "4         NaN        NaN       NaN        NaN  ...      7.862     8.9788   \n",
       "11        NaN        NaN       NaN        NaN  ...      8.444     8.4040   \n",
       "21        NaN        NaN       NaN        NaN  ...     51.588    48.6600   \n",
       "36        NaN        NaN       NaN        NaN  ...        NaN        NaN   \n",
       "37        NaN        NaN       NaN        NaN  ...        NaN        NaN   \n",
       "\n",
       "    2019/4/4  2019/4/11  2019/4/18  2019/4/25  2019/5/2  2019/5/9  2019/5/16  \\\n",
       "4     9.9228      7.932     8.6144     6.9024    8.8588    7.6692     8.2404   \n",
       "11    9.8600      9.456     7.2040     9.4520    8.3400    7.7880     6.4520   \n",
       "21   41.8520     61.724    49.5880    54.1200   60.5360   55.5960    63.2440   \n",
       "36       NaN        NaN   230.1500   237.1000  452.9500  398.4000   469.6000   \n",
       "37       NaN        NaN   201.5500   200.4500  343.9500  318.3500   371.7000   \n",
       "\n",
       "    2019/5/23  \n",
       "4      9.9224  \n",
       "11     6.1840  \n",
       "21    56.8080  \n",
       "36   456.9000  \n",
       "37   354.8000  \n",
       "\n",
       "[5 rows x 107 columns]"
      ]
     },
     "execution_count": 3,
     "metadata": {},
     "output_type": "execute_result"
    }
   ],
   "source": [
    "# 删除含有负值的行\n",
    "datatemp=data.drop(columns=['tqlx','tqmc','bs'])\n",
    "droplist=[]\n",
    "for i in range(len(datatemp.index)):\n",
    "    if (datatemp.iloc[i].values<=np.array(0)).any():\n",
    "        droplist.append(datatemp.iloc[i].name)\n",
    "data=data.drop(labels=droplist)\n",
    "data.head()"
   ]
  },
  {
   "cell_type": "code",
   "execution_count": 4,
   "metadata": {},
   "outputs": [],
   "source": [
    "# datatemp=data.drop(columns=['tqlx','tqmc','bs'])\n",
    "# print((datatemp.index.isin([0])).size)\n",
    "# datatemp[datatemp.index.isin([0])]"
   ]
  },
  {
   "cell_type": "code",
   "execution_count": 5,
   "metadata": {},
   "outputs": [],
   "source": [
    "#每一行的空值用每一行的平均值来填充\n",
    "# for row in data.index:\n",
    "#     data.loc[row].fillna(data.loc[row].drop(['tqlx','tqmc','bs']).mean(),inplace=True)\n",
    "# data.head()"
   ]
  },
  {
   "cell_type": "code",
   "execution_count": 6,
   "metadata": {},
   "outputs": [
    {
     "data": {
      "text/html": [
       "<div>\n",
       "<style scoped>\n",
       "    .dataframe tbody tr th:only-of-type {\n",
       "        vertical-align: middle;\n",
       "    }\n",
       "\n",
       "    .dataframe tbody tr th {\n",
       "        vertical-align: top;\n",
       "    }\n",
       "\n",
       "    .dataframe thead th {\n",
       "        text-align: right;\n",
       "    }\n",
       "</style>\n",
       "<table border=\"1\" class=\"dataframe\">\n",
       "  <thead>\n",
       "    <tr style=\"text-align: right;\">\n",
       "      <th></th>\n",
       "      <th>bs</th>\n",
       "      <th>2017/6/1</th>\n",
       "      <th>2017/6/8</th>\n",
       "      <th>2017/6/15</th>\n",
       "      <th>2017/6/22</th>\n",
       "      <th>2017/6/29</th>\n",
       "      <th>2017/7/6</th>\n",
       "      <th>2017/7/13</th>\n",
       "      <th>2017/7/20</th>\n",
       "      <th>2017/7/27</th>\n",
       "      <th>...</th>\n",
       "      <th>2019/3/21</th>\n",
       "      <th>2019/3/28</th>\n",
       "      <th>2019/4/4</th>\n",
       "      <th>2019/4/11</th>\n",
       "      <th>2019/4/18</th>\n",
       "      <th>2019/4/25</th>\n",
       "      <th>2019/5/2</th>\n",
       "      <th>2019/5/9</th>\n",
       "      <th>2019/5/16</th>\n",
       "      <th>2019/5/23</th>\n",
       "    </tr>\n",
       "  </thead>\n",
       "  <tbody>\n",
       "    <tr>\n",
       "      <th>4</th>\n",
       "      <td>1002156190</td>\n",
       "      <td>NaN</td>\n",
       "      <td>NaN</td>\n",
       "      <td>NaN</td>\n",
       "      <td>NaN</td>\n",
       "      <td>NaN</td>\n",
       "      <td>NaN</td>\n",
       "      <td>NaN</td>\n",
       "      <td>NaN</td>\n",
       "      <td>NaN</td>\n",
       "      <td>...</td>\n",
       "      <td>7.862</td>\n",
       "      <td>8.9788</td>\n",
       "      <td>9.9228</td>\n",
       "      <td>7.932</td>\n",
       "      <td>8.6144</td>\n",
       "      <td>6.9024</td>\n",
       "      <td>8.8588</td>\n",
       "      <td>7.6692</td>\n",
       "      <td>8.2404</td>\n",
       "      <td>9.9224</td>\n",
       "    </tr>\n",
       "    <tr>\n",
       "      <th>11</th>\n",
       "      <td>2222222223785607</td>\n",
       "      <td>NaN</td>\n",
       "      <td>NaN</td>\n",
       "      <td>NaN</td>\n",
       "      <td>NaN</td>\n",
       "      <td>NaN</td>\n",
       "      <td>NaN</td>\n",
       "      <td>NaN</td>\n",
       "      <td>NaN</td>\n",
       "      <td>NaN</td>\n",
       "      <td>...</td>\n",
       "      <td>8.444</td>\n",
       "      <td>8.4040</td>\n",
       "      <td>9.8600</td>\n",
       "      <td>9.456</td>\n",
       "      <td>7.2040</td>\n",
       "      <td>9.4520</td>\n",
       "      <td>8.3400</td>\n",
       "      <td>7.7880</td>\n",
       "      <td>6.4520</td>\n",
       "      <td>6.1840</td>\n",
       "    </tr>\n",
       "    <tr>\n",
       "      <th>21</th>\n",
       "      <td>2222222223885517</td>\n",
       "      <td>NaN</td>\n",
       "      <td>NaN</td>\n",
       "      <td>NaN</td>\n",
       "      <td>NaN</td>\n",
       "      <td>NaN</td>\n",
       "      <td>NaN</td>\n",
       "      <td>NaN</td>\n",
       "      <td>NaN</td>\n",
       "      <td>NaN</td>\n",
       "      <td>...</td>\n",
       "      <td>51.588</td>\n",
       "      <td>48.6600</td>\n",
       "      <td>41.8520</td>\n",
       "      <td>61.724</td>\n",
       "      <td>49.5880</td>\n",
       "      <td>54.1200</td>\n",
       "      <td>60.5360</td>\n",
       "      <td>55.5960</td>\n",
       "      <td>63.2440</td>\n",
       "      <td>56.8080</td>\n",
       "    </tr>\n",
       "    <tr>\n",
       "      <th>36</th>\n",
       "      <td>2222222230117115</td>\n",
       "      <td>NaN</td>\n",
       "      <td>NaN</td>\n",
       "      <td>NaN</td>\n",
       "      <td>NaN</td>\n",
       "      <td>NaN</td>\n",
       "      <td>NaN</td>\n",
       "      <td>NaN</td>\n",
       "      <td>NaN</td>\n",
       "      <td>NaN</td>\n",
       "      <td>...</td>\n",
       "      <td>NaN</td>\n",
       "      <td>NaN</td>\n",
       "      <td>NaN</td>\n",
       "      <td>NaN</td>\n",
       "      <td>230.1500</td>\n",
       "      <td>237.1000</td>\n",
       "      <td>452.9500</td>\n",
       "      <td>398.4000</td>\n",
       "      <td>469.6000</td>\n",
       "      <td>456.9000</td>\n",
       "    </tr>\n",
       "    <tr>\n",
       "      <th>37</th>\n",
       "      <td>2222222230122081</td>\n",
       "      <td>NaN</td>\n",
       "      <td>NaN</td>\n",
       "      <td>NaN</td>\n",
       "      <td>NaN</td>\n",
       "      <td>NaN</td>\n",
       "      <td>NaN</td>\n",
       "      <td>NaN</td>\n",
       "      <td>NaN</td>\n",
       "      <td>NaN</td>\n",
       "      <td>...</td>\n",
       "      <td>NaN</td>\n",
       "      <td>NaN</td>\n",
       "      <td>NaN</td>\n",
       "      <td>NaN</td>\n",
       "      <td>201.5500</td>\n",
       "      <td>200.4500</td>\n",
       "      <td>343.9500</td>\n",
       "      <td>318.3500</td>\n",
       "      <td>371.7000</td>\n",
       "      <td>354.8000</td>\n",
       "    </tr>\n",
       "  </tbody>\n",
       "</table>\n",
       "<p>5 rows × 105 columns</p>\n",
       "</div>"
      ],
      "text/plain": [
       "                  bs  2017/6/1  2017/6/8  2017/6/15  2017/6/22  2017/6/29  \\\n",
       "4         1002156190       NaN       NaN        NaN        NaN        NaN   \n",
       "11  2222222223785607       NaN       NaN        NaN        NaN        NaN   \n",
       "21  2222222223885517       NaN       NaN        NaN        NaN        NaN   \n",
       "36  2222222230117115       NaN       NaN        NaN        NaN        NaN   \n",
       "37  2222222230122081       NaN       NaN        NaN        NaN        NaN   \n",
       "\n",
       "    2017/7/6  2017/7/13  2017/7/20  2017/7/27  ...  2019/3/21  2019/3/28  \\\n",
       "4        NaN        NaN        NaN        NaN  ...      7.862     8.9788   \n",
       "11       NaN        NaN        NaN        NaN  ...      8.444     8.4040   \n",
       "21       NaN        NaN        NaN        NaN  ...     51.588    48.6600   \n",
       "36       NaN        NaN        NaN        NaN  ...        NaN        NaN   \n",
       "37       NaN        NaN        NaN        NaN  ...        NaN        NaN   \n",
       "\n",
       "    2019/4/4  2019/4/11  2019/4/18  2019/4/25  2019/5/2  2019/5/9  2019/5/16  \\\n",
       "4     9.9228      7.932     8.6144     6.9024    8.8588    7.6692     8.2404   \n",
       "11    9.8600      9.456     7.2040     9.4520    8.3400    7.7880     6.4520   \n",
       "21   41.8520     61.724    49.5880    54.1200   60.5360   55.5960    63.2440   \n",
       "36       NaN        NaN   230.1500   237.1000  452.9500  398.4000   469.6000   \n",
       "37       NaN        NaN   201.5500   200.4500  343.9500  318.3500   371.7000   \n",
       "\n",
       "    2019/5/23  \n",
       "4      9.9224  \n",
       "11     6.1840  \n",
       "21    56.8080  \n",
       "36   456.9000  \n",
       "37   354.8000  \n",
       "\n",
       "[5 rows x 105 columns]"
      ]
     },
     "execution_count": 6,
     "metadata": {},
     "output_type": "execute_result"
    }
   ],
   "source": [
    "#tqlx和tqmc在时间序列分析中暂时用不到，删除\n",
    "data_time_series=data.drop(columns=['tqlx','tqmc'])\n",
    "data_time_series.head()"
   ]
  },
  {
   "cell_type": "code",
   "execution_count": 7,
   "metadata": {},
   "outputs": [
    {
     "data": {
      "text/html": [
       "<div>\n",
       "<style scoped>\n",
       "    .dataframe tbody tr th:only-of-type {\n",
       "        vertical-align: middle;\n",
       "    }\n",
       "\n",
       "    .dataframe tbody tr th {\n",
       "        vertical-align: top;\n",
       "    }\n",
       "\n",
       "    .dataframe thead th {\n",
       "        text-align: right;\n",
       "    }\n",
       "</style>\n",
       "<table border=\"1\" class=\"dataframe\">\n",
       "  <thead>\n",
       "    <tr style=\"text-align: right;\">\n",
       "      <th>bs</th>\n",
       "      <th>1002156190</th>\n",
       "      <th>2222222223785607</th>\n",
       "      <th>2222222223885517</th>\n",
       "      <th>2222222230117115</th>\n",
       "      <th>2222222230122081</th>\n",
       "      <th>2222222230117114</th>\n",
       "      <th>2222222230122080</th>\n",
       "      <th>2222222230117113</th>\n",
       "      <th>2222222223656172</th>\n",
       "      <th>2222222223651269</th>\n",
       "      <th>...</th>\n",
       "      <th>2222222223695323</th>\n",
       "      <th>222222222840949</th>\n",
       "      <th>2222222223605328</th>\n",
       "      <th>2222222223785363</th>\n",
       "      <th>2222222230161941</th>\n",
       "      <th>2222222230092052</th>\n",
       "      <th>2222222223655754</th>\n",
       "      <th>2222222223475268</th>\n",
       "      <th>2222222223895336</th>\n",
       "      <th>2222222223785729</th>\n",
       "    </tr>\n",
       "  </thead>\n",
       "  <tbody>\n",
       "    <tr>\n",
       "      <th>bs</th>\n",
       "      <td>1002156190</td>\n",
       "      <td>2222222223785607</td>\n",
       "      <td>2222222223885517</td>\n",
       "      <td>2222222230117115</td>\n",
       "      <td>2222222230122081</td>\n",
       "      <td>2222222230117114</td>\n",
       "      <td>2222222230122080</td>\n",
       "      <td>2222222230117113</td>\n",
       "      <td>2222222223656172</td>\n",
       "      <td>2222222223651269</td>\n",
       "      <td>...</td>\n",
       "      <td>2222222223695323</td>\n",
       "      <td>222222222840949</td>\n",
       "      <td>2222222223605328</td>\n",
       "      <td>2222222223785363</td>\n",
       "      <td>2222222230161941</td>\n",
       "      <td>2222222230092052</td>\n",
       "      <td>2222222223655754</td>\n",
       "      <td>2222222223475268</td>\n",
       "      <td>2222222223895336</td>\n",
       "      <td>2222222223785729</td>\n",
       "    </tr>\n",
       "    <tr>\n",
       "      <th>2017/6/1</th>\n",
       "      <td>NaN</td>\n",
       "      <td>NaN</td>\n",
       "      <td>NaN</td>\n",
       "      <td>NaN</td>\n",
       "      <td>NaN</td>\n",
       "      <td>NaN</td>\n",
       "      <td>NaN</td>\n",
       "      <td>NaN</td>\n",
       "      <td>NaN</td>\n",
       "      <td>NaN</td>\n",
       "      <td>...</td>\n",
       "      <td>NaN</td>\n",
       "      <td>NaN</td>\n",
       "      <td>NaN</td>\n",
       "      <td>NaN</td>\n",
       "      <td>NaN</td>\n",
       "      <td>NaN</td>\n",
       "      <td>NaN</td>\n",
       "      <td>NaN</td>\n",
       "      <td>NaN</td>\n",
       "      <td>NaN</td>\n",
       "    </tr>\n",
       "    <tr>\n",
       "      <th>2017/6/8</th>\n",
       "      <td>NaN</td>\n",
       "      <td>NaN</td>\n",
       "      <td>NaN</td>\n",
       "      <td>NaN</td>\n",
       "      <td>NaN</td>\n",
       "      <td>NaN</td>\n",
       "      <td>NaN</td>\n",
       "      <td>NaN</td>\n",
       "      <td>NaN</td>\n",
       "      <td>NaN</td>\n",
       "      <td>...</td>\n",
       "      <td>NaN</td>\n",
       "      <td>NaN</td>\n",
       "      <td>NaN</td>\n",
       "      <td>NaN</td>\n",
       "      <td>NaN</td>\n",
       "      <td>NaN</td>\n",
       "      <td>NaN</td>\n",
       "      <td>NaN</td>\n",
       "      <td>NaN</td>\n",
       "      <td>NaN</td>\n",
       "    </tr>\n",
       "    <tr>\n",
       "      <th>2017/6/15</th>\n",
       "      <td>NaN</td>\n",
       "      <td>NaN</td>\n",
       "      <td>NaN</td>\n",
       "      <td>NaN</td>\n",
       "      <td>NaN</td>\n",
       "      <td>NaN</td>\n",
       "      <td>NaN</td>\n",
       "      <td>NaN</td>\n",
       "      <td>NaN</td>\n",
       "      <td>NaN</td>\n",
       "      <td>...</td>\n",
       "      <td>NaN</td>\n",
       "      <td>NaN</td>\n",
       "      <td>NaN</td>\n",
       "      <td>NaN</td>\n",
       "      <td>NaN</td>\n",
       "      <td>NaN</td>\n",
       "      <td>NaN</td>\n",
       "      <td>NaN</td>\n",
       "      <td>NaN</td>\n",
       "      <td>NaN</td>\n",
       "    </tr>\n",
       "    <tr>\n",
       "      <th>2017/6/22</th>\n",
       "      <td>NaN</td>\n",
       "      <td>NaN</td>\n",
       "      <td>NaN</td>\n",
       "      <td>NaN</td>\n",
       "      <td>NaN</td>\n",
       "      <td>NaN</td>\n",
       "      <td>NaN</td>\n",
       "      <td>NaN</td>\n",
       "      <td>NaN</td>\n",
       "      <td>NaN</td>\n",
       "      <td>...</td>\n",
       "      <td>NaN</td>\n",
       "      <td>NaN</td>\n",
       "      <td>NaN</td>\n",
       "      <td>NaN</td>\n",
       "      <td>NaN</td>\n",
       "      <td>NaN</td>\n",
       "      <td>NaN</td>\n",
       "      <td>NaN</td>\n",
       "      <td>NaN</td>\n",
       "      <td>NaN</td>\n",
       "    </tr>\n",
       "  </tbody>\n",
       "</table>\n",
       "<p>5 rows × 4609 columns</p>\n",
       "</div>"
      ],
      "text/plain": [
       "bs         1002156190  2222222223785607  2222222223885517  2222222230117115  \\\n",
       "bs         1002156190  2222222223785607  2222222223885517  2222222230117115   \n",
       "2017/6/1          NaN               NaN               NaN               NaN   \n",
       "2017/6/8          NaN               NaN               NaN               NaN   \n",
       "2017/6/15         NaN               NaN               NaN               NaN   \n",
       "2017/6/22         NaN               NaN               NaN               NaN   \n",
       "\n",
       "bs         2222222230122081  2222222230117114  2222222230122080  \\\n",
       "bs         2222222230122081  2222222230117114  2222222230122080   \n",
       "2017/6/1                NaN               NaN               NaN   \n",
       "2017/6/8                NaN               NaN               NaN   \n",
       "2017/6/15               NaN               NaN               NaN   \n",
       "2017/6/22               NaN               NaN               NaN   \n",
       "\n",
       "bs         2222222230117113  2222222223656172  2222222223651269  ...  \\\n",
       "bs         2222222230117113  2222222223656172  2222222223651269  ...   \n",
       "2017/6/1                NaN               NaN               NaN  ...   \n",
       "2017/6/8                NaN               NaN               NaN  ...   \n",
       "2017/6/15               NaN               NaN               NaN  ...   \n",
       "2017/6/22               NaN               NaN               NaN  ...   \n",
       "\n",
       "bs         2222222223695323  222222222840949  2222222223605328  \\\n",
       "bs         2222222223695323  222222222840949  2222222223605328   \n",
       "2017/6/1                NaN              NaN               NaN   \n",
       "2017/6/8                NaN              NaN               NaN   \n",
       "2017/6/15               NaN              NaN               NaN   \n",
       "2017/6/22               NaN              NaN               NaN   \n",
       "\n",
       "bs         2222222223785363  2222222230161941  2222222230092052  \\\n",
       "bs         2222222223785363  2222222230161941  2222222230092052   \n",
       "2017/6/1                NaN               NaN               NaN   \n",
       "2017/6/8                NaN               NaN               NaN   \n",
       "2017/6/15               NaN               NaN               NaN   \n",
       "2017/6/22               NaN               NaN               NaN   \n",
       "\n",
       "bs         2222222223655754  2222222223475268  2222222223895336  \\\n",
       "bs         2222222223655754  2222222223475268  2222222223895336   \n",
       "2017/6/1                NaN               NaN               NaN   \n",
       "2017/6/8                NaN               NaN               NaN   \n",
       "2017/6/15               NaN               NaN               NaN   \n",
       "2017/6/22               NaN               NaN               NaN   \n",
       "\n",
       "bs         2222222223785729  \n",
       "bs         2222222223785729  \n",
       "2017/6/1                NaN  \n",
       "2017/6/8                NaN  \n",
       "2017/6/15               NaN  \n",
       "2017/6/22               NaN  \n",
       "\n",
       "[5 rows x 4609 columns]"
      ]
     },
     "execution_count": 7,
     "metadata": {},
     "output_type": "execute_result"
    }
   ],
   "source": [
    "#转置\n",
    "data_time_series.set_index('bs')\n",
    "data_time_series=data_time_series.T\n",
    "#把标识行设为列名\n",
    "data_time_series.columns = data_time_series.iloc[0]\n",
    "data_time_series.head()"
   ]
  },
  {
   "cell_type": "code",
   "execution_count": 8,
   "metadata": {},
   "outputs": [
    {
     "data": {
      "text/html": [
       "<div>\n",
       "<style scoped>\n",
       "    .dataframe tbody tr th:only-of-type {\n",
       "        vertical-align: middle;\n",
       "    }\n",
       "\n",
       "    .dataframe tbody tr th {\n",
       "        vertical-align: top;\n",
       "    }\n",
       "\n",
       "    .dataframe thead th {\n",
       "        text-align: right;\n",
       "    }\n",
       "</style>\n",
       "<table border=\"1\" class=\"dataframe\">\n",
       "  <thead>\n",
       "    <tr style=\"text-align: right;\">\n",
       "      <th>bs</th>\n",
       "      <th>time_series</th>\n",
       "      <th>1002156190</th>\n",
       "      <th>2222222223785607</th>\n",
       "      <th>2222222223885517</th>\n",
       "      <th>2222222230117115</th>\n",
       "      <th>2222222230122081</th>\n",
       "      <th>2222222230117114</th>\n",
       "      <th>2222222230122080</th>\n",
       "      <th>2222222230117113</th>\n",
       "      <th>2222222223656172</th>\n",
       "      <th>...</th>\n",
       "      <th>2222222223695323</th>\n",
       "      <th>222222222840949</th>\n",
       "      <th>2222222223605328</th>\n",
       "      <th>2222222223785363</th>\n",
       "      <th>2222222230161941</th>\n",
       "      <th>2222222230092052</th>\n",
       "      <th>2222222223655754</th>\n",
       "      <th>2222222223475268</th>\n",
       "      <th>2222222223895336</th>\n",
       "      <th>2222222223785729</th>\n",
       "    </tr>\n",
       "  </thead>\n",
       "  <tbody>\n",
       "    <tr>\n",
       "      <th>0</th>\n",
       "      <td>2017/6/1</td>\n",
       "      <td>NaN</td>\n",
       "      <td>NaN</td>\n",
       "      <td>NaN</td>\n",
       "      <td>NaN</td>\n",
       "      <td>NaN</td>\n",
       "      <td>NaN</td>\n",
       "      <td>NaN</td>\n",
       "      <td>NaN</td>\n",
       "      <td>NaN</td>\n",
       "      <td>...</td>\n",
       "      <td>NaN</td>\n",
       "      <td>NaN</td>\n",
       "      <td>NaN</td>\n",
       "      <td>NaN</td>\n",
       "      <td>NaN</td>\n",
       "      <td>NaN</td>\n",
       "      <td>NaN</td>\n",
       "      <td>NaN</td>\n",
       "      <td>NaN</td>\n",
       "      <td>NaN</td>\n",
       "    </tr>\n",
       "    <tr>\n",
       "      <th>1</th>\n",
       "      <td>2017/6/8</td>\n",
       "      <td>NaN</td>\n",
       "      <td>NaN</td>\n",
       "      <td>NaN</td>\n",
       "      <td>NaN</td>\n",
       "      <td>NaN</td>\n",
       "      <td>NaN</td>\n",
       "      <td>NaN</td>\n",
       "      <td>NaN</td>\n",
       "      <td>NaN</td>\n",
       "      <td>...</td>\n",
       "      <td>NaN</td>\n",
       "      <td>NaN</td>\n",
       "      <td>NaN</td>\n",
       "      <td>NaN</td>\n",
       "      <td>NaN</td>\n",
       "      <td>NaN</td>\n",
       "      <td>NaN</td>\n",
       "      <td>NaN</td>\n",
       "      <td>NaN</td>\n",
       "      <td>NaN</td>\n",
       "    </tr>\n",
       "    <tr>\n",
       "      <th>2</th>\n",
       "      <td>2017/6/15</td>\n",
       "      <td>NaN</td>\n",
       "      <td>NaN</td>\n",
       "      <td>NaN</td>\n",
       "      <td>NaN</td>\n",
       "      <td>NaN</td>\n",
       "      <td>NaN</td>\n",
       "      <td>NaN</td>\n",
       "      <td>NaN</td>\n",
       "      <td>NaN</td>\n",
       "      <td>...</td>\n",
       "      <td>NaN</td>\n",
       "      <td>NaN</td>\n",
       "      <td>NaN</td>\n",
       "      <td>NaN</td>\n",
       "      <td>NaN</td>\n",
       "      <td>NaN</td>\n",
       "      <td>NaN</td>\n",
       "      <td>NaN</td>\n",
       "      <td>NaN</td>\n",
       "      <td>NaN</td>\n",
       "    </tr>\n",
       "    <tr>\n",
       "      <th>3</th>\n",
       "      <td>2017/6/22</td>\n",
       "      <td>NaN</td>\n",
       "      <td>NaN</td>\n",
       "      <td>NaN</td>\n",
       "      <td>NaN</td>\n",
       "      <td>NaN</td>\n",
       "      <td>NaN</td>\n",
       "      <td>NaN</td>\n",
       "      <td>NaN</td>\n",
       "      <td>NaN</td>\n",
       "      <td>...</td>\n",
       "      <td>NaN</td>\n",
       "      <td>NaN</td>\n",
       "      <td>NaN</td>\n",
       "      <td>NaN</td>\n",
       "      <td>NaN</td>\n",
       "      <td>NaN</td>\n",
       "      <td>NaN</td>\n",
       "      <td>NaN</td>\n",
       "      <td>NaN</td>\n",
       "      <td>NaN</td>\n",
       "    </tr>\n",
       "    <tr>\n",
       "      <th>4</th>\n",
       "      <td>2017/6/29</td>\n",
       "      <td>NaN</td>\n",
       "      <td>NaN</td>\n",
       "      <td>NaN</td>\n",
       "      <td>NaN</td>\n",
       "      <td>NaN</td>\n",
       "      <td>NaN</td>\n",
       "      <td>NaN</td>\n",
       "      <td>NaN</td>\n",
       "      <td>NaN</td>\n",
       "      <td>...</td>\n",
       "      <td>NaN</td>\n",
       "      <td>NaN</td>\n",
       "      <td>NaN</td>\n",
       "      <td>NaN</td>\n",
       "      <td>NaN</td>\n",
       "      <td>NaN</td>\n",
       "      <td>NaN</td>\n",
       "      <td>NaN</td>\n",
       "      <td>NaN</td>\n",
       "      <td>NaN</td>\n",
       "    </tr>\n",
       "  </tbody>\n",
       "</table>\n",
       "<p>5 rows × 4610 columns</p>\n",
       "</div>"
      ],
      "text/plain": [
       "bs time_series 1002156190 2222222223785607 2222222223885517 2222222230117115  \\\n",
       "0     2017/6/1        NaN              NaN              NaN              NaN   \n",
       "1     2017/6/8        NaN              NaN              NaN              NaN   \n",
       "2    2017/6/15        NaN              NaN              NaN              NaN   \n",
       "3    2017/6/22        NaN              NaN              NaN              NaN   \n",
       "4    2017/6/29        NaN              NaN              NaN              NaN   \n",
       "\n",
       "bs 2222222230122081 2222222230117114 2222222230122080 2222222230117113  \\\n",
       "0               NaN              NaN              NaN              NaN   \n",
       "1               NaN              NaN              NaN              NaN   \n",
       "2               NaN              NaN              NaN              NaN   \n",
       "3               NaN              NaN              NaN              NaN   \n",
       "4               NaN              NaN              NaN              NaN   \n",
       "\n",
       "bs 2222222223656172  ... 2222222223695323 222222222840949 2222222223605328  \\\n",
       "0               NaN  ...              NaN             NaN              NaN   \n",
       "1               NaN  ...              NaN             NaN              NaN   \n",
       "2               NaN  ...              NaN             NaN              NaN   \n",
       "3               NaN  ...              NaN             NaN              NaN   \n",
       "4               NaN  ...              NaN             NaN              NaN   \n",
       "\n",
       "bs 2222222223785363 2222222230161941 2222222230092052 2222222223655754  \\\n",
       "0               NaN              NaN              NaN              NaN   \n",
       "1               NaN              NaN              NaN              NaN   \n",
       "2               NaN              NaN              NaN              NaN   \n",
       "3               NaN              NaN              NaN              NaN   \n",
       "4               NaN              NaN              NaN              NaN   \n",
       "\n",
       "bs 2222222223475268 2222222223895336 2222222223785729  \n",
       "0               NaN              NaN              NaN  \n",
       "1               NaN              NaN              NaN  \n",
       "2               NaN              NaN              NaN  \n",
       "3               NaN              NaN              NaN  \n",
       "4               NaN              NaN              NaN  \n",
       "\n",
       "[5 rows x 4610 columns]"
      ]
     },
     "execution_count": 8,
     "metadata": {},
     "output_type": "execute_result"
    }
   ],
   "source": [
    "data_time_series.drop(index='bs',inplace=True)\n",
    "data_time_series.index.names=['time_series']\n",
    "data_time_series=data_time_series.reset_index()\n",
    "data_time_series.head()"
   ]
  },
  {
   "cell_type": "markdown",
   "metadata": {},
   "source": [
    "Reading as datetime format:"
   ]
  },
  {
   "cell_type": "code",
   "execution_count": 9,
   "metadata": {},
   "outputs": [
    {
     "data": {
      "text/html": [
       "<div>\n",
       "<style scoped>\n",
       "    .dataframe tbody tr th:only-of-type {\n",
       "        vertical-align: middle;\n",
       "    }\n",
       "\n",
       "    .dataframe tbody tr th {\n",
       "        vertical-align: top;\n",
       "    }\n",
       "\n",
       "    .dataframe thead th {\n",
       "        text-align: right;\n",
       "    }\n",
       "</style>\n",
       "<table border=\"1\" class=\"dataframe\">\n",
       "  <thead>\n",
       "    <tr style=\"text-align: right;\">\n",
       "      <th>bs</th>\n",
       "      <th>time_series</th>\n",
       "      <th>1002156190</th>\n",
       "      <th>2222222223785607</th>\n",
       "      <th>2222222223885517</th>\n",
       "      <th>2222222230117115</th>\n",
       "      <th>2222222230122081</th>\n",
       "      <th>2222222230117114</th>\n",
       "      <th>2222222230122080</th>\n",
       "      <th>2222222230117113</th>\n",
       "      <th>2222222223656172</th>\n",
       "      <th>...</th>\n",
       "      <th>2222222223695323</th>\n",
       "      <th>222222222840949</th>\n",
       "      <th>2222222223605328</th>\n",
       "      <th>2222222223785363</th>\n",
       "      <th>2222222230161941</th>\n",
       "      <th>2222222230092052</th>\n",
       "      <th>2222222223655754</th>\n",
       "      <th>2222222223475268</th>\n",
       "      <th>2222222223895336</th>\n",
       "      <th>2222222223785729</th>\n",
       "    </tr>\n",
       "  </thead>\n",
       "  <tbody>\n",
       "    <tr>\n",
       "      <th>0</th>\n",
       "      <td>2017/6/1</td>\n",
       "      <td>NaN</td>\n",
       "      <td>NaN</td>\n",
       "      <td>NaN</td>\n",
       "      <td>NaN</td>\n",
       "      <td>NaN</td>\n",
       "      <td>NaN</td>\n",
       "      <td>NaN</td>\n",
       "      <td>NaN</td>\n",
       "      <td>NaN</td>\n",
       "      <td>...</td>\n",
       "      <td>NaN</td>\n",
       "      <td>NaN</td>\n",
       "      <td>NaN</td>\n",
       "      <td>NaN</td>\n",
       "      <td>NaN</td>\n",
       "      <td>NaN</td>\n",
       "      <td>NaN</td>\n",
       "      <td>NaN</td>\n",
       "      <td>NaN</td>\n",
       "      <td>NaN</td>\n",
       "    </tr>\n",
       "    <tr>\n",
       "      <th>1</th>\n",
       "      <td>2017/6/8</td>\n",
       "      <td>NaN</td>\n",
       "      <td>NaN</td>\n",
       "      <td>NaN</td>\n",
       "      <td>NaN</td>\n",
       "      <td>NaN</td>\n",
       "      <td>NaN</td>\n",
       "      <td>NaN</td>\n",
       "      <td>NaN</td>\n",
       "      <td>NaN</td>\n",
       "      <td>...</td>\n",
       "      <td>NaN</td>\n",
       "      <td>NaN</td>\n",
       "      <td>NaN</td>\n",
       "      <td>NaN</td>\n",
       "      <td>NaN</td>\n",
       "      <td>NaN</td>\n",
       "      <td>NaN</td>\n",
       "      <td>NaN</td>\n",
       "      <td>NaN</td>\n",
       "      <td>NaN</td>\n",
       "    </tr>\n",
       "    <tr>\n",
       "      <th>2</th>\n",
       "      <td>2017/6/15</td>\n",
       "      <td>NaN</td>\n",
       "      <td>NaN</td>\n",
       "      <td>NaN</td>\n",
       "      <td>NaN</td>\n",
       "      <td>NaN</td>\n",
       "      <td>NaN</td>\n",
       "      <td>NaN</td>\n",
       "      <td>NaN</td>\n",
       "      <td>NaN</td>\n",
       "      <td>...</td>\n",
       "      <td>NaN</td>\n",
       "      <td>NaN</td>\n",
       "      <td>NaN</td>\n",
       "      <td>NaN</td>\n",
       "      <td>NaN</td>\n",
       "      <td>NaN</td>\n",
       "      <td>NaN</td>\n",
       "      <td>NaN</td>\n",
       "      <td>NaN</td>\n",
       "      <td>NaN</td>\n",
       "    </tr>\n",
       "    <tr>\n",
       "      <th>3</th>\n",
       "      <td>2017/6/22</td>\n",
       "      <td>NaN</td>\n",
       "      <td>NaN</td>\n",
       "      <td>NaN</td>\n",
       "      <td>NaN</td>\n",
       "      <td>NaN</td>\n",
       "      <td>NaN</td>\n",
       "      <td>NaN</td>\n",
       "      <td>NaN</td>\n",
       "      <td>NaN</td>\n",
       "      <td>...</td>\n",
       "      <td>NaN</td>\n",
       "      <td>NaN</td>\n",
       "      <td>NaN</td>\n",
       "      <td>NaN</td>\n",
       "      <td>NaN</td>\n",
       "      <td>NaN</td>\n",
       "      <td>NaN</td>\n",
       "      <td>NaN</td>\n",
       "      <td>NaN</td>\n",
       "      <td>NaN</td>\n",
       "    </tr>\n",
       "    <tr>\n",
       "      <th>4</th>\n",
       "      <td>2017/6/29</td>\n",
       "      <td>NaN</td>\n",
       "      <td>NaN</td>\n",
       "      <td>NaN</td>\n",
       "      <td>NaN</td>\n",
       "      <td>NaN</td>\n",
       "      <td>NaN</td>\n",
       "      <td>NaN</td>\n",
       "      <td>NaN</td>\n",
       "      <td>NaN</td>\n",
       "      <td>...</td>\n",
       "      <td>NaN</td>\n",
       "      <td>NaN</td>\n",
       "      <td>NaN</td>\n",
       "      <td>NaN</td>\n",
       "      <td>NaN</td>\n",
       "      <td>NaN</td>\n",
       "      <td>NaN</td>\n",
       "      <td>NaN</td>\n",
       "      <td>NaN</td>\n",
       "      <td>NaN</td>\n",
       "    </tr>\n",
       "  </tbody>\n",
       "</table>\n",
       "<p>5 rows × 4610 columns</p>\n",
       "</div>"
      ],
      "text/plain": [
       "bs time_series 1002156190 2222222223785607 2222222223885517 2222222230117115  \\\n",
       "0     2017/6/1        NaN              NaN              NaN              NaN   \n",
       "1     2017/6/8        NaN              NaN              NaN              NaN   \n",
       "2    2017/6/15        NaN              NaN              NaN              NaN   \n",
       "3    2017/6/22        NaN              NaN              NaN              NaN   \n",
       "4    2017/6/29        NaN              NaN              NaN              NaN   \n",
       "\n",
       "bs 2222222230122081 2222222230117114 2222222230122080 2222222230117113  \\\n",
       "0               NaN              NaN              NaN              NaN   \n",
       "1               NaN              NaN              NaN              NaN   \n",
       "2               NaN              NaN              NaN              NaN   \n",
       "3               NaN              NaN              NaN              NaN   \n",
       "4               NaN              NaN              NaN              NaN   \n",
       "\n",
       "bs 2222222223656172  ... 2222222223695323 222222222840949 2222222223605328  \\\n",
       "0               NaN  ...              NaN             NaN              NaN   \n",
       "1               NaN  ...              NaN             NaN              NaN   \n",
       "2               NaN  ...              NaN             NaN              NaN   \n",
       "3               NaN  ...              NaN             NaN              NaN   \n",
       "4               NaN  ...              NaN             NaN              NaN   \n",
       "\n",
       "bs 2222222223785363 2222222230161941 2222222230092052 2222222223655754  \\\n",
       "0               NaN              NaN              NaN              NaN   \n",
       "1               NaN              NaN              NaN              NaN   \n",
       "2               NaN              NaN              NaN              NaN   \n",
       "3               NaN              NaN              NaN              NaN   \n",
       "4               NaN              NaN              NaN              NaN   \n",
       "\n",
       "bs 2222222223475268 2222222223895336 2222222223785729  \n",
       "0               NaN              NaN              NaN  \n",
       "1               NaN              NaN              NaN  \n",
       "2               NaN              NaN              NaN  \n",
       "3               NaN              NaN              NaN  \n",
       "4               NaN              NaN              NaN  \n",
       "\n",
       "[5 rows x 4610 columns]"
      ]
     },
     "execution_count": 9,
     "metadata": {},
     "output_type": "execute_result"
    }
   ],
   "source": [
    "data_time_series.reset_index()\n",
    "data_time_series.head()"
   ]
  },
  {
   "cell_type": "code",
   "execution_count": 10,
   "metadata": {},
   "outputs": [
    {
     "data": {
      "text/html": [
       "<div>\n",
       "<style scoped>\n",
       "    .dataframe tbody tr th:only-of-type {\n",
       "        vertical-align: middle;\n",
       "    }\n",
       "\n",
       "    .dataframe tbody tr th {\n",
       "        vertical-align: top;\n",
       "    }\n",
       "\n",
       "    .dataframe thead th {\n",
       "        text-align: right;\n",
       "    }\n",
       "</style>\n",
       "<table border=\"1\" class=\"dataframe\">\n",
       "  <thead>\n",
       "    <tr style=\"text-align: right;\">\n",
       "      <th>bs</th>\n",
       "      <th>1002156190</th>\n",
       "      <th>2222222223785607</th>\n",
       "      <th>2222222223885517</th>\n",
       "      <th>2222222230117115</th>\n",
       "      <th>2222222230122081</th>\n",
       "      <th>2222222230117114</th>\n",
       "      <th>2222222230122080</th>\n",
       "      <th>2222222230117113</th>\n",
       "      <th>2222222223656172</th>\n",
       "      <th>2222222223651269</th>\n",
       "      <th>...</th>\n",
       "      <th>2222222223695323</th>\n",
       "      <th>222222222840949</th>\n",
       "      <th>2222222223605328</th>\n",
       "      <th>2222222223785363</th>\n",
       "      <th>2222222230161941</th>\n",
       "      <th>2222222230092052</th>\n",
       "      <th>2222222223655754</th>\n",
       "      <th>2222222223475268</th>\n",
       "      <th>2222222223895336</th>\n",
       "      <th>2222222223785729</th>\n",
       "    </tr>\n",
       "    <tr>\n",
       "      <th>time_series</th>\n",
       "      <th></th>\n",
       "      <th></th>\n",
       "      <th></th>\n",
       "      <th></th>\n",
       "      <th></th>\n",
       "      <th></th>\n",
       "      <th></th>\n",
       "      <th></th>\n",
       "      <th></th>\n",
       "      <th></th>\n",
       "      <th></th>\n",
       "      <th></th>\n",
       "      <th></th>\n",
       "      <th></th>\n",
       "      <th></th>\n",
       "      <th></th>\n",
       "      <th></th>\n",
       "      <th></th>\n",
       "      <th></th>\n",
       "      <th></th>\n",
       "      <th></th>\n",
       "    </tr>\n",
       "  </thead>\n",
       "  <tbody>\n",
       "    <tr>\n",
       "      <th>2017-06-01</th>\n",
       "      <td>NaN</td>\n",
       "      <td>NaN</td>\n",
       "      <td>NaN</td>\n",
       "      <td>NaN</td>\n",
       "      <td>NaN</td>\n",
       "      <td>NaN</td>\n",
       "      <td>NaN</td>\n",
       "      <td>NaN</td>\n",
       "      <td>NaN</td>\n",
       "      <td>NaN</td>\n",
       "      <td>...</td>\n",
       "      <td>NaN</td>\n",
       "      <td>NaN</td>\n",
       "      <td>NaN</td>\n",
       "      <td>NaN</td>\n",
       "      <td>NaN</td>\n",
       "      <td>NaN</td>\n",
       "      <td>NaN</td>\n",
       "      <td>NaN</td>\n",
       "      <td>NaN</td>\n",
       "      <td>NaN</td>\n",
       "    </tr>\n",
       "    <tr>\n",
       "      <th>2017-06-08</th>\n",
       "      <td>NaN</td>\n",
       "      <td>NaN</td>\n",
       "      <td>NaN</td>\n",
       "      <td>NaN</td>\n",
       "      <td>NaN</td>\n",
       "      <td>NaN</td>\n",
       "      <td>NaN</td>\n",
       "      <td>NaN</td>\n",
       "      <td>NaN</td>\n",
       "      <td>NaN</td>\n",
       "      <td>...</td>\n",
       "      <td>NaN</td>\n",
       "      <td>NaN</td>\n",
       "      <td>NaN</td>\n",
       "      <td>NaN</td>\n",
       "      <td>NaN</td>\n",
       "      <td>NaN</td>\n",
       "      <td>NaN</td>\n",
       "      <td>NaN</td>\n",
       "      <td>NaN</td>\n",
       "      <td>NaN</td>\n",
       "    </tr>\n",
       "    <tr>\n",
       "      <th>2017-06-15</th>\n",
       "      <td>NaN</td>\n",
       "      <td>NaN</td>\n",
       "      <td>NaN</td>\n",
       "      <td>NaN</td>\n",
       "      <td>NaN</td>\n",
       "      <td>NaN</td>\n",
       "      <td>NaN</td>\n",
       "      <td>NaN</td>\n",
       "      <td>NaN</td>\n",
       "      <td>NaN</td>\n",
       "      <td>...</td>\n",
       "      <td>NaN</td>\n",
       "      <td>NaN</td>\n",
       "      <td>NaN</td>\n",
       "      <td>NaN</td>\n",
       "      <td>NaN</td>\n",
       "      <td>NaN</td>\n",
       "      <td>NaN</td>\n",
       "      <td>NaN</td>\n",
       "      <td>NaN</td>\n",
       "      <td>NaN</td>\n",
       "    </tr>\n",
       "    <tr>\n",
       "      <th>2017-06-22</th>\n",
       "      <td>NaN</td>\n",
       "      <td>NaN</td>\n",
       "      <td>NaN</td>\n",
       "      <td>NaN</td>\n",
       "      <td>NaN</td>\n",
       "      <td>NaN</td>\n",
       "      <td>NaN</td>\n",
       "      <td>NaN</td>\n",
       "      <td>NaN</td>\n",
       "      <td>NaN</td>\n",
       "      <td>...</td>\n",
       "      <td>NaN</td>\n",
       "      <td>NaN</td>\n",
       "      <td>NaN</td>\n",
       "      <td>NaN</td>\n",
       "      <td>NaN</td>\n",
       "      <td>NaN</td>\n",
       "      <td>NaN</td>\n",
       "      <td>NaN</td>\n",
       "      <td>NaN</td>\n",
       "      <td>NaN</td>\n",
       "    </tr>\n",
       "    <tr>\n",
       "      <th>2017-06-29</th>\n",
       "      <td>NaN</td>\n",
       "      <td>NaN</td>\n",
       "      <td>NaN</td>\n",
       "      <td>NaN</td>\n",
       "      <td>NaN</td>\n",
       "      <td>NaN</td>\n",
       "      <td>NaN</td>\n",
       "      <td>NaN</td>\n",
       "      <td>NaN</td>\n",
       "      <td>NaN</td>\n",
       "      <td>...</td>\n",
       "      <td>NaN</td>\n",
       "      <td>NaN</td>\n",
       "      <td>NaN</td>\n",
       "      <td>NaN</td>\n",
       "      <td>NaN</td>\n",
       "      <td>NaN</td>\n",
       "      <td>NaN</td>\n",
       "      <td>NaN</td>\n",
       "      <td>NaN</td>\n",
       "      <td>NaN</td>\n",
       "    </tr>\n",
       "  </tbody>\n",
       "</table>\n",
       "<p>5 rows × 4609 columns</p>\n",
       "</div>"
      ],
      "text/plain": [
       "bs           1002156190  2222222223785607  2222222223885517  2222222230117115  \\\n",
       "time_series                                                                     \n",
       "2017-06-01          NaN               NaN               NaN               NaN   \n",
       "2017-06-08          NaN               NaN               NaN               NaN   \n",
       "2017-06-15          NaN               NaN               NaN               NaN   \n",
       "2017-06-22          NaN               NaN               NaN               NaN   \n",
       "2017-06-29          NaN               NaN               NaN               NaN   \n",
       "\n",
       "bs           2222222230122081  2222222230117114  2222222230122080  \\\n",
       "time_series                                                         \n",
       "2017-06-01                NaN               NaN               NaN   \n",
       "2017-06-08                NaN               NaN               NaN   \n",
       "2017-06-15                NaN               NaN               NaN   \n",
       "2017-06-22                NaN               NaN               NaN   \n",
       "2017-06-29                NaN               NaN               NaN   \n",
       "\n",
       "bs           2222222230117113  2222222223656172  2222222223651269  ...  \\\n",
       "time_series                                                        ...   \n",
       "2017-06-01                NaN               NaN               NaN  ...   \n",
       "2017-06-08                NaN               NaN               NaN  ...   \n",
       "2017-06-15                NaN               NaN               NaN  ...   \n",
       "2017-06-22                NaN               NaN               NaN  ...   \n",
       "2017-06-29                NaN               NaN               NaN  ...   \n",
       "\n",
       "bs           2222222223695323  222222222840949  2222222223605328  \\\n",
       "time_series                                                        \n",
       "2017-06-01                NaN              NaN               NaN   \n",
       "2017-06-08                NaN              NaN               NaN   \n",
       "2017-06-15                NaN              NaN               NaN   \n",
       "2017-06-22                NaN              NaN               NaN   \n",
       "2017-06-29                NaN              NaN               NaN   \n",
       "\n",
       "bs           2222222223785363  2222222230161941  2222222230092052  \\\n",
       "time_series                                                         \n",
       "2017-06-01                NaN               NaN               NaN   \n",
       "2017-06-08                NaN               NaN               NaN   \n",
       "2017-06-15                NaN               NaN               NaN   \n",
       "2017-06-22                NaN               NaN               NaN   \n",
       "2017-06-29                NaN               NaN               NaN   \n",
       "\n",
       "bs           2222222223655754  2222222223475268  2222222223895336  \\\n",
       "time_series                                                         \n",
       "2017-06-01                NaN               NaN               NaN   \n",
       "2017-06-08                NaN               NaN               NaN   \n",
       "2017-06-15                NaN               NaN               NaN   \n",
       "2017-06-22                NaN               NaN               NaN   \n",
       "2017-06-29                NaN               NaN               NaN   \n",
       "\n",
       "bs           2222222223785729  \n",
       "time_series                    \n",
       "2017-06-01                NaN  \n",
       "2017-06-08                NaN  \n",
       "2017-06-15                NaN  \n",
       "2017-06-22                NaN  \n",
       "2017-06-29                NaN  \n",
       "\n",
       "[5 rows x 4609 columns]"
      ]
     },
     "execution_count": 10,
     "metadata": {},
     "output_type": "execute_result"
    }
   ],
   "source": [
    "#将含有时序数据的字段转化为datetime64格式\n",
    "dateparse = lambda dates: pd.datetime.strptime(dates, '%Y/%m/%d')\n",
    "# dateparse('2017-08-01')\n",
    "data_time_series['time_series'] = data_time_series['time_series'].apply(dateparse)\n",
    "data_time_series.set_index('time_series',inplace=True)\n",
    "data_time_series=data_time_series.apply(pd.to_numeric)\n",
    "data_time_series.head()"
   ]
  },
  {
   "cell_type": "code",
   "execution_count": 11,
   "metadata": {},
   "outputs": [
    {
     "data": {
      "text/plain": [
       "DatetimeIndex(['2017-06-01', '2017-06-08', '2017-06-15', '2017-06-22',\n",
       "               '2017-06-29', '2017-07-06', '2017-07-13', '2017-07-20',\n",
       "               '2017-07-27', '2017-08-03',\n",
       "               ...\n",
       "               '2019-03-21', '2019-03-28', '2019-04-04', '2019-04-11',\n",
       "               '2019-04-18', '2019-04-25', '2019-05-02', '2019-05-09',\n",
       "               '2019-05-16', '2019-05-23'],\n",
       "              dtype='datetime64[ns]', name='time_series', length=104, freq=None)"
      ]
     },
     "execution_count": 11,
     "metadata": {},
     "output_type": "execute_result"
    }
   ],
   "source": [
    "#处理空值\n",
    "data_time_series=data_time_series.fillna(method='backfill',axis='index')\n",
    "data_time_series_dropna=data_time_series.dropna(axis='columns')\n",
    "#去掉重复的台区（重复列）\n",
    "data_time_series_dropna=data_time_series_dropna.T.drop_duplicates().T\n",
    "data_time_series_dropna.index"
   ]
  },
  {
   "cell_type": "code",
   "execution_count": 12,
   "metadata": {},
   "outputs": [],
   "source": [
    "#粗筛出原始数据缺失值比较少的台区（其表现为填充空值操作后连续重复值较少）,保存为一个列表\n",
    "drop_little_tq_index = data_time_series_dropna.T\\\n",
    "[data_time_series_dropna.T['2017-06-01']!=data_time_series_dropna.T['2017-08-03']].index.to_list()"
   ]
  },
  {
   "cell_type": "code",
   "execution_count": 13,
   "metadata": {},
   "outputs": [
    {
     "name": "stdout",
     "output_type": "stream",
     "text": [
      "True\n"
     ]
    }
   ],
   "source": [
    "print(data_time_series_dropna.columns.is_unique)\n",
    "#打印列的重复次数\n",
    "# List=data_time_series_dropna.columns.to_list()\n",
    "# List_set = set(List) \n",
    "# for item in List_set:\n",
    "#     if List.count(item)>1:\n",
    "#         print(\"the %s has found %d\" %(item,List.count(item)))"
   ]
  },
  {
   "cell_type": "code",
   "execution_count": 14,
   "metadata": {},
   "outputs": [
    {
     "name": "stdout",
     "output_type": "stream",
     "text": [
      "                      2017\n",
      "bs                        \n",
      "1002156190          6.4436\n",
      "2222222223785607    7.0040\n",
      "2222222223885517   22.0200\n",
      "2222222230117115  230.1500\n",
      "2222222230122081  201.5500\n",
      "<class 'pandas.core.frame.DataFrame'>\n",
      "                      2017\n",
      "bs                        \n",
      "1002156190          6.4436\n",
      "2222222223785607    7.0040\n",
      "2222222223885517   22.0200\n",
      "2222222230117115  230.1500\n",
      "2222222230122081  201.5500\n"
     ]
    },
    {
     "data": {
      "text/plain": [
       "True"
      ]
     },
     "execution_count": 14,
     "metadata": {},
     "output_type": "execute_result"
    }
   ],
   "source": [
    "data_2017_max=pd.DataFrame(data_time_series_dropna['2017'].max(),columns=['2017'])\n",
    "data_2018_max=pd.DataFrame(data_time_series_dropna['2018'].max(),columns=['2018'])\n",
    "data_2019_max=pd.DataFrame(data_time_series_dropna['2019'].max(),columns=['2019'])\n",
    "\n",
    "print(data_2017_max.head())\n",
    "\n",
    "print(type(data_2017_max))\n",
    "print(data_2017_max.head())\n",
    "data_2017_max.index.is_unique"
   ]
  },
  {
   "cell_type": "code",
   "execution_count": 15,
   "metadata": {},
   "outputs": [
    {
     "data": {
      "text/plain": [
       "True"
      ]
     },
     "execution_count": 15,
     "metadata": {},
     "output_type": "execute_result"
    }
   ],
   "source": [
    "bs_year_max=pd.concat([data_2017_max,data_2018_max,data_2019_max],axis=1,join='inner')\n",
    "bs_year_max.index.is_unique"
   ]
  },
  {
   "cell_type": "code",
   "execution_count": 16,
   "metadata": {},
   "outputs": [],
   "source": [
    "#粗筛出逐年增长的负荷数据\n",
    "increase_tq_index = bs_year_max[(bs_year_max['2017']<bs_year_max['2018']) & (bs_year_max['2018']<bs_year_max['2019'])].index.to_list()"
   ]
  },
  {
   "cell_type": "code",
   "execution_count": 17,
   "metadata": {},
   "outputs": [
    {
     "name": "stdout",
     "output_type": "stream",
     "text": [
      "['2222222222835275', 3002240003, 3001721861, 3002233356, 3002210830, '3001212593', 3001378843, 3002841116, 3002284572, 3001719325, 3002259488, '3001232498', 3002117157, '3001183144', 3001724970, '2222222223305315', 3001699372, 3002206771, 3002232888, 3002105913, 3001718846, 3002830913, 3001445956, '3001071353', 3001549897, 3001645130, 3002284617, '3001057580', 3001535566, 3002228816, 3002292305, 3001453138, '3000196722', 3002896471, 3001392216, 3002247769, 3002531416, 3002372188, '2222222223585234', 3002791517, '3001177233', 3001712743, 3001525864, '3001062320', 3001370219, 3002790510, 3002614385, 3002245746, 3002951282, 3001332851, '3001218440', 3001309812, 3001515634, 3001499252, 3002815611, '3001033172', 3001668733, '3000486831', 3002294915, 3001748617, '2222222227840963', 3002891916, '3000001417', 3002188943, 3001624207, 3001333395, 3001723540, 3002791574, 3001445528, 3001399448, '3001180842', '2222222222890251', 3001373859, 3001622692, 3001665702, '3001223322', '3000827703', 3002864810, 3001613998, 3001760946, 3001776819, 3001873076, 3002283191, '3001159078', 3002392766, 3001422531, 3001365188, 3002280648, 3002887372, 3002393806, 3002230480, 3002872018, 3002353876, 3002294997, 3002404565, 3001391828, '2222222229840963', 3002876124, 3001376990, 3001778913, 3001725665, '3000487653', '2222222223425255', 3002277608, 3002225385, '2222222223565305', 3002233068, 3002748654, 3001524975, 3002199279, 3002821872, 3001356016, 3002872559, 3001621235, 3002170100, 3002226939, 3002207484, 3001416957, '3001260444', 3001383166, '3001123843', 3001404675, 3002843396, 3001701123, '3000277942', 3001747723, 3001734411, 3002231053, 3002856205, '3001067567', '3001160159', 3001700634, '3000156788', 3001618721, 3001372962, 3001750307, 3002284322, 3002893095, 3001399594, 3002526509, 3002505523, 3002893108, 3002215220, 3001364788, 3002011957, '2222222223355331', '3001151526', 3002423097, 3001507643, 3001379132, '2222222222835261', 3001403198, 3002235712, 3001673539, 3001522500, 3001480518, 3001718088, 3002208078, '2222222226840963', 3002234193, 3002227538, 3001430357, '2222222223405305', '3001206205', '3001174627', 3001378653, 3001839455, '2222222223580215', 3002176873, 3002698090, 3001679216, 3002826097, 3001723250, 3001511283, 3001783668, 3001510262, 3002806646, 3002283387, '3000971851', 3001386365, '3000041450', 3001724800, 3001713537, 3001736586, 3001527181, '2222222223505376', 3002962321, 3002094995, '3000725154', 3001639832, 3001746333, 3001389470, 3002191263, '2222222223260265', '3000782561', 3002217885, '2222222223250237', '3000913085', 3001712034, 3001364902, 3001390502, '3001232949', 3002828206, 3001616817, 3001305011, 3002822070, '3001206359', 3001364922, '3001159031', 3001399229, 3001881534, 3002859450, 3002865089, 3001644993, '2222222223575294', '2222222223475223', 3002372038, 3001747400, '3001131307', 3001493962, 3001456076, 3002819533, 3002874828, '3001187831', 3002280401, '3001189614', 3002232277, 3002616792, 3001491929, 3001388504, 3001594842, 3002155484, 3001646554, '2222222223575340', 3001749472, '2222222223550246', '3001187453', 3001690599, '3001074364', 3001785322, 3002899950, '3001259622', 3002722297, 3001615357]\n"
     ]
    }
   ],
   "source": [
    "intersection_index = list(set(drop_little_tq_index).intersection(set(increase_tq_index)))\n",
    "print(intersection_index)"
   ]
  },
  {
   "cell_type": "code",
   "execution_count": 18,
   "metadata": {},
   "outputs": [
    {
     "data": {
      "text/plain": [
       "time_series\n",
       "2017-06-01    5.242\n",
       "2017-06-08    5.242\n",
       "2017-06-15    5.242\n",
       "2017-06-22    5.242\n",
       "2017-06-29    5.242\n",
       "Name: 3002232277, dtype: float64"
      ]
     },
     "execution_count": 18,
     "metadata": {},
     "output_type": "execute_result"
    }
   ],
   "source": [
    "#convert to time series:\n",
    "ts = data_time_series_dropna[3002232277]\n",
    "ts.head()"
   ]
  },
  {
   "cell_type": "markdown",
   "metadata": {},
   "source": [
    "# 平稳性检验\n",
    "\n",
    "## 展示时序图"
   ]
  },
  {
   "cell_type": "code",
   "execution_count": 19,
   "metadata": {},
   "outputs": [
    {
     "data": {
      "text/plain": [
       "[<matplotlib.lines.Line2D at 0x2a9bcf6aa20>]"
      ]
     },
     "execution_count": 19,
     "metadata": {},
     "output_type": "execute_result"
    },
    {
     "data": {
      "image/png": "[encoded data removed]",
      "text/plain": [
       "<Figure size 432x288 with 1 Axes>"
      ]
     },
     "metadata": {
      "needs_background": "light"
     },
     "output_type": "display_data"
    }
   ],
   "source": [
    "register_matplotlib_converters()\n",
    "plt.plot(ts)"
   ]
  },
  {
   "cell_type": "markdown",
   "metadata": {},
   "source": [
    "### 平稳性检验函数"
   ]
  },
  {
   "cell_type": "code",
   "execution_count": 20,
   "metadata": {},
   "outputs": [],
   "source": [
    "from statsmodels.tsa.stattools import adfuller\n",
    "def test_stationarity(timeseries):\n",
    "    \n",
    "    #移动平均和移动方差\n",
    "    rolmean = timeseries.rolling(window=12).mean()\n",
    "    rolstd = timeseries.rolling(window=12).std()\n",
    "\n",
    "    #把移动平均和移动方差画出来:\n",
    "    orig = plt.plot(timeseries, color='blue',label='原始曲线')\n",
    "    mean = plt.plot(rolmean, color='yellow', label='移动平均')\n",
    "    std = plt.plot(rolstd, color='black', label = '移动方差')\n",
    "    plt.legend(loc='best')\n",
    "    plt.title(u'绘制移动平均数和移动方差，观察它是否随着时间变化')\n",
    "    plt.show(block=False)\n",
    "    \n",
    "    #进行单位根检验:\n",
    "    print('单位根检验:')\n",
    "    dftest = adfuller(timeseries, autolag='AIC')\n",
    "    dfoutput = pd.Series(dftest[0:4], index=['Test Statistic','p-value','#Lags Used','Number of Observations Used'])\n",
    "    for key,value in dftest[4].items():\n",
    "        dfoutput['Critical Value (%s)'%key] = value\n",
    "    print(dfoutput)\n",
    "    if dfoutput.loc['p-value']>0.01:\n",
    "        print('p值大于0.01，不能拒绝原假设，说明时间序列是非平稳的')\n",
    "    else:\n",
    "        print('p值小于0.01，拒绝原假设，说明时间序列是平稳的')\n",
    "    '''\n",
    "    单位根的原假设为序列具有单位根，即非平稳，\n",
    "    对于一个平稳的时序数据，就需要在给定的置信水平上显著，拒绝原假设。\n",
    "    '''"
   ]
  },
  {
   "cell_type": "code",
   "execution_count": 21,
   "metadata": {},
   "outputs": [
    {
     "data": {
      "image/png": "[encoded data removed]",
      "text/plain": [
       "<Figure size 432x288 with 1 Axes>"
      ]
     },
     "metadata": {
      "needs_background": "light"
     },
     "output_type": "display_data"
    },
    {
     "name": "stdout",
     "output_type": "stream",
     "text": [
      "单位根检验:\n",
      "Test Statistic                  -1.364978\n",
      "p-value                          0.598946\n",
      "#Lags Used                       3.000000\n",
      "Number of Observations Used    100.000000\n",
      "Critical Value (1%)             -3.497501\n",
      "Critical Value (5%)             -2.890906\n",
      "Critical Value (10%)            -2.582435\n",
      "dtype: float64\n",
      "p值大于0.01，不能拒绝原假设，说明时间序列是非平稳的\n"
     ]
    }
   ],
   "source": [
    "test_stationarity(ts)"
   ]
  },
  {
   "cell_type": "markdown",
   "metadata": {},
   "source": [
    "# 平稳性的处理\n",
    "\n",
    "\n",
    "## 预测和消除趋势\n"
   ]
  },
  {
   "cell_type": "markdown",
   "metadata": {},
   "source": [
    "## Smoothing:\n",
    "\n",
    "### 移动平均"
   ]
  },
  {
   "cell_type": "code",
   "execution_count": 22,
   "metadata": {},
   "outputs": [
    {
     "data": {
      "image/png": "[encoded data removed]",
      "text/plain": [
       "<Figure size 432x288 with 1 Axes>"
      ]
     },
     "metadata": {
      "needs_background": "light"
     },
     "output_type": "display_data"
    }
   ],
   "source": [
    "moving_avg = ts.rolling(12).mean()\n",
    "plt.plot(ts,label='原始曲线')\n",
    "plt.plot(moving_avg, color='red',label='移动平均')\n",
    "plt.title('移动平均')\n",
    "plt.legend(loc='best')\n",
    "plt.show()"
   ]
  },
  {
   "cell_type": "code",
   "execution_count": 23,
   "metadata": {},
   "outputs": [
    {
     "data": {
      "image/png": "[encoded data removed]",
      "text/plain": [
       "<Figure size 432x288 with 1 Axes>"
      ]
     },
     "metadata": {
      "needs_background": "light"
     },
     "output_type": "display_data"
    },
    {
     "name": "stdout",
     "output_type": "stream",
     "text": [
      "单位根检验:\n",
      "Test Statistic                 -3.380865\n",
      "p-value                         0.011629\n",
      "#Lags Used                      2.000000\n",
      "Number of Observations Used    90.000000\n",
      "Critical Value (1%)            -3.505190\n",
      "Critical Value (5%)            -2.894232\n",
      "Critical Value (10%)           -2.584210\n",
      "dtype: float64\n",
      "p值大于0.01，不能拒绝原假设，说明时间序列是非平稳的\n"
     ]
    }
   ],
   "source": [
    "ts_moving_avg_diff = ts - moving_avg\n",
    "ts_moving_avg_diff.dropna(inplace=True)\n",
    "test_stationarity(ts_moving_avg_diff)"
   ]
  },
  {
   "cell_type": "markdown",
   "metadata": {},
   "source": [
    "### 指数平滑法"
   ]
  },
  {
   "cell_type": "code",
   "execution_count": null,
   "metadata": {},
   "outputs": [],
   "source": [
    "expwighted_avg = ts.ewm(halflife=12).mean()\n",
    "plt.plot(ts,label='原始曲线')\n",
    "plt.plot(expwighted_avg, color='red',label='指数平滑曲线')\n",
    "plt.title('指数平滑处理')\n",
    "plt.legend(loc='best')\n",
    "plt.show()\n",
    "#expwighted_avg.plot(style='k--')"
   ]
  },
  {
   "cell_type": "code",
   "execution_count": null,
   "metadata": {},
   "outputs": [],
   "source": [
    "ts_ewma_diff = ts - expwighted_avg\n",
    "test_stationarity(ts_ewma_diff)"
   ]
  },
  {
   "cell_type": "markdown",
   "metadata": {},
   "source": [
    "## 消除趋势和季节性"
   ]
  },
  {
   "cell_type": "markdown",
   "metadata": {
    "collapsed": true
   },
   "source": [
    "### 差分:"
   ]
  },
  {
   "cell_type": "code",
   "execution_count": 24,
   "metadata": {},
   "outputs": [
    {
     "data": {
      "image/png": "[encoded data removed]",
      "text/plain": [
       "<Figure size 432x288 with 1 Axes>"
      ]
     },
     "metadata": {
      "needs_background": "light"
     },
     "output_type": "display_data"
    }
   ],
   "source": [
    "#直接对原始数据取一阶差分:\n",
    "ts_diff = ts - ts.shift(1)\n",
    "plt.plot(ts_diff)\n",
    "plt.title('差分处理')\n",
    "plt.show()"
   ]
  },
  {
   "cell_type": "code",
   "execution_count": 25,
   "metadata": {},
   "outputs": [
    {
     "data": {
      "image/png": "[encoded data removed]",
      "text/plain": [
       "<Figure size 432x288 with 1 Axes>"
      ]
     },
     "metadata": {
      "needs_background": "light"
     },
     "output_type": "display_data"
    },
    {
     "name": "stdout",
     "output_type": "stream",
     "text": [
      "单位根检验:\n",
      "Test Statistic                -8.614711e+00\n",
      "p-value                        6.336207e-14\n",
      "#Lags Used                     2.000000e+00\n",
      "Number of Observations Used    1.000000e+02\n",
      "Critical Value (1%)           -3.497501e+00\n",
      "Critical Value (5%)           -2.890906e+00\n",
      "Critical Value (10%)          -2.582435e+00\n",
      "dtype: float64\n",
      "p值小于0.01，拒绝原假设，说明时间序列是平稳的\n"
     ]
    }
   ],
   "source": [
    "ts_diff.dropna(inplace=True)\n",
    "test_stationarity(ts_diff)"
   ]
  },
  {
   "cell_type": "markdown",
   "metadata": {},
   "source": [
    "# 构建模型"
   ]
  },
  {
   "cell_type": "markdown",
   "metadata": {},
   "source": [
    "## 时间序列的分解（分解后分开预测）"
   ]
  },
  {
   "cell_type": "code",
   "execution_count": 31,
   "metadata": {},
   "outputs": [
    {
     "data": {
      "image/png": "[encoded data removed]",
      "text/plain": [
       "<Figure size 432x288 with 4 Axes>"
      ]
     },
     "metadata": {
      "needs_background": "light"
     },
     "output_type": "display_data"
    }
   ],
   "source": [
    "from statsmodels.tsa.seasonal import seasonal_decompose\n",
    "decomposition = seasonal_decompose(ts,extrapolate_trend='freq')\n",
    "# 显式调用seasonal_decompose函数的extrapolate_trend参数可以强制提取残差，同时使趋势曲线更加平滑\n",
    "trend = decomposition.trend\n",
    "seasonal = decomposition.seasonal\n",
    "residual = decomposition.resid\n",
    "\n",
    "plt.subplot(411)\n",
    "plt.plot(ts, label='原始')\n",
    "plt.legend(loc='best')\n",
    "plt.subplot(412)\n",
    "plt.plot(trend, label='趋势')\n",
    "plt.legend(loc='best')\n",
    "plt.subplot(413)\n",
    "plt.plot(seasonal,label='季节')\n",
    "plt.legend(loc='best')\n",
    "plt.subplot(414)\n",
    "plt.plot(residual, label='残差')\n",
    "plt.legend(loc='best')\n",
    "plt.tight_layout()"
   ]
  },
  {
   "cell_type": "code",
   "execution_count": 32,
   "metadata": {},
   "outputs": [
    {
     "data": {
      "image/png": "[encoded data removed]",
      "text/plain": [
       "<Figure size 432x288 with 1 Axes>"
      ]
     },
     "metadata": {
      "needs_background": "light"
     },
     "output_type": "display_data"
    },
    {
     "name": "stdout",
     "output_type": "stream",
     "text": [
      "单位根检验:\n",
      "Test Statistic                 -3.979610\n",
      "p-value                         0.001521\n",
      "#Lags Used                     12.000000\n",
      "Number of Observations Used    91.000000\n",
      "Critical Value (1%)            -3.504343\n",
      "Critical Value (5%)            -2.893866\n",
      "Critical Value (10%)           -2.584015\n",
      "dtype: float64\n",
      "p值小于0.01，拒绝原假设，说明时间序列是平稳的\n"
     ]
    }
   ],
   "source": [
    "ts_decompose = residual\n",
    "ts_decompose.dropna(inplace=True)\n",
    "test_stationarity(ts_decompose)"
   ]
  },
  {
   "cell_type": "markdown",
   "metadata": {},
   "source": [
    "## 利用交叉验证法求预测模型参数"
   ]
  },
  {
   "cell_type": "code",
   "execution_count": 26,
   "metadata": {},
   "outputs": [
    {
     "data": {
      "image/png": "[encoded data removed]",
      "text/plain": [
       "<Figure size 432x288 with 1 Axes>"
      ]
     },
     "metadata": {
      "needs_background": "light"
     },
     "output_type": "display_data"
    }
   ],
   "source": [
    "# 创建训练集和测试集\n",
    "size = int(len(ts_diff) * 0.8)\n",
    "train, test = ts_diff[0:size], ts_diff[size:len(ts_diff)]\n",
    "register_matplotlib_converters()\n",
    "plt.plot(train.index, train, color='blue', label='训练集')\n",
    "plt.plot(test.index, test, color='green', label='测试集')\n",
    "plt.legend()\n",
    "plt.title('真实数据的训练集和测试集')\n",
    "plt.show()"
   ]
  },
  {
   "cell_type": "code",
   "execution_count": 27,
   "metadata": {},
   "outputs": [],
   "source": [
    "#样本内预测的结果和预测误差\n",
    "def compare_ARIMA_modes_testing(order):\n",
    "    history = [x for x in train]\n",
    "    predictions_f = list()\n",
    "    predictions_p = list()\n",
    "    for t in range(len(test)):\n",
    "        model = ARIMA(history, order=order)\n",
    "        model_fit = model.fit(disp=-1)\n",
    "        yhat_f = model_fit.forecast()[0][0]\n",
    "        yhat_p = model_fit.predict(start=len(history), end=len(history))[0]\n",
    "        predictions_f.append(yhat_f)\n",
    "        predictions_p.append(yhat_p)\n",
    "        history.append(test[t])\n",
    "    #mean_squared_error即为“误差”的平方的期望值\n",
    "    error_f = mean_squared_error(test, predictions_f)\n",
    "    error_p = mean_squared_error(test, predictions_p)\n",
    "    print('MSE forecast:\\t\\t\\t{:1.4f}'.format(error_f))\n",
    "    print('MSE predict:\\t\\t\\t{:1.4f}'.format(error_p))\n",
    "    return {'Predictions forecast': pd.Series(predictions_f,index=test.index),\n",
    "            'Predictions predict': pd.Series(predictions_p,index=test.index),\n",
    "            'MSE forecast': error_f,\n",
    "            'MSE predict': error_p}"
   ]
  },
  {
   "cell_type": "code",
   "execution_count": null,
   "metadata": {},
   "outputs": [],
   "source": [
    "#利用交叉验证法寻找最佳阶数\n",
    "def cross_proper_model(maxLag):\n",
    "    init_error = sys.maxsize\n",
    "    init_p = 0\n",
    "    init_q = 0\n",
    "    init_properModel = None\n",
    "    for p in np.arange(maxLag):\n",
    "        for q in np.arange(maxLag):\n",
    "            arima = compare_ARIMA_modes_testing((p,1,q))\n",
    "            error_f = arima['MSE forecast']\n",
    "            error_p = arima['MSE predict']\n",
    "        if error_f < init_error or error_p < init_error:\n",
    "                init_p = p\n",
    "                init_q = q\n",
    "                init_properModel =arima\n",
    "                init_bic = min(error_f,error_p)\n",
    "    return [init_bic, init_p, init_q, init_properModel]"
   ]
  },
  {
   "cell_type": "markdown",
   "metadata": {},
   "source": [
    "## 利用贝叶斯信息准则求预测模型参数"
   ]
  },
  {
   "cell_type": "code",
   "execution_count": 29,
   "metadata": {},
   "outputs": [],
   "source": [
    "#利用贝叶斯信息准则（BIC）寻找最佳阶数，使得BIC达到最小值的(p, q)即为该准则下的最优模型的阶数\n",
    "def proper_model(data_ts, maxLag):\n",
    "    init_bic = sys.maxsize\n",
    "    init_p = 0\n",
    "    init_q = 0\n",
    "    init_properModel = None\n",
    "    for p in np.arange(maxLag):\n",
    "        for q in np.arange(maxLag):\n",
    "            model = ARMA(data_ts, order=(p, q),freq=data_ts.index.inferred_freq)\n",
    "            try:\n",
    "                results_ARMA = model.fit(disp=-1, method='css')\n",
    "            except:\n",
    "                continue#忽略所有异常\n",
    "            bic = results_ARMA.bic\n",
    "            if bic < init_bic:\n",
    "                init_p = p\n",
    "                init_q = q\n",
    "                init_properModel = results_ARMA\n",
    "                init_bic = bic\n",
    "    return [init_bic, init_p, init_q, init_properModel]"
   ]
  },
  {
   "cell_type": "markdown",
   "metadata": {},
   "source": [
    "## 预测模型（针对趋势和残差）"
   ]
  },
  {
   "cell_type": "code",
   "execution_count": 63,
   "metadata": {},
   "outputs": [],
   "source": [
    "#样本外预测\n",
    "def compare_ARIMA_modes(series,order):\n",
    "    history_f = [x for x in series]\n",
    "    history_p = [x for x in series]\n",
    "    series_p = series\n",
    "    series_f = series\n",
    "#     for t in range(52):滚动预测的效果不佳\n",
    "    model = ARIMA(history_f, order=order)\n",
    "    model_fit = model.fit(disp=-1)\n",
    "    yhat_f = model_fit.forecast(steps=52)[0]\n",
    "    model = ARIMA(history_p, order=order)\n",
    "    model_fit = model.fit(disp=-1)\n",
    "    yhat_p = model_fit.predict(start=len(history_p), end=len(history_p)+52)\n",
    "    \n",
    "    #附加新元素时也加上一个单位的索引\n",
    "    for t in range(52,1,-1):\n",
    "        series_p = series_p.append(pd.Series(yhat_p[-t],index=[series_p.index[-1]+timedelta(days=7)]))\n",
    "        series_f = series_f.append(pd.Series(yhat_f[-t],index=[series_f.index[-1]+timedelta(days=7)]))\n",
    "    return {'Predictions forecast': series_f[series.index[-1]:series_f.index[-1]],\n",
    "            'Predictions predict': series_p[series.index[-1]:series_p.index[-1]]}"
   ]
  },
  {
   "cell_type": "code",
   "execution_count": 30,
   "metadata": {},
   "outputs": [],
   "source": [
    "#季节变动每一年都是一样的，预测季节因素只需要将前一年的数据复制到新一年即可\n",
    "def season_forcast_year(seasonal):\n",
    "    seasonal_f = seasonal[-53:-1]\n",
    "    seasonal_f.index = seasonal.index[-53:-1]+timedelta(weeks=52)\n",
    "    return seasonal_f"
   ]
  },
  {
   "cell_type": "code",
   "execution_count": 64,
   "metadata": {},
   "outputs": [],
   "source": [
    "trend.dropna(inplace=True)\n",
    "ar = compare_ARIMA_modes(trend,(1, 0, 0))\n",
    "ma = compare_ARIMA_modes(trend,(0, 1, 0))\n",
    "# ig = compare_ARIMA_modes(seasonal,(0, 0, 1))\n",
    "arma = compare_ARIMA_modes(trend,(1, 1, 0))\n",
    "# igma = compare_ARIMA_modes(seasonal,(0, 1, 1))\n",
    "# arig = compare_ARIMA_modes(seasonal,(1, 0, 1))"
   ]
  },
  {
   "cell_type": "code",
   "execution_count": 65,
   "metadata": {},
   "outputs": [
    {
     "data": {
      "image/png": "[encoded data removed]",
      "text/plain": [
       "<Figure size 432x288 with 1 Axes>"
      ]
     },
     "metadata": {
      "needs_background": "light"
     },
     "output_type": "display_data"
    }
   ],
   "source": [
    "# forecast and predict are different for ARMA\n",
    "plt.plot(trend, label='Ground Truth')\n",
    "plt.plot(arma['Predictions forecast'], color='red', label='.forecast()',linestyle='dashed')\n",
    "plt.plot(arma['Predictions predict'], color='green', label='.predict()',linestyle='dotted')\n",
    "plt.legend(loc='best')\n",
    "plt.title('ARMA')\n",
    "plt.show()"
   ]
  },
  {
   "cell_type": "code",
   "execution_count": 66,
   "metadata": {},
   "outputs": [
    {
     "data": {
      "image/png": "[encoded data removed]",
      "text/plain": [
       "<Figure size 432x288 with 1 Axes>"
      ]
     },
     "metadata": {
      "needs_background": "light"
     },
     "output_type": "display_data"
    }
   ],
   "source": [
    "# forecast and predict are different for MA\n",
    "plt.plot(trend, label='Ground Truth')\n",
    "plt.plot(ma['Predictions forecast'], color='red', label='.forecast()',linestyle='dashed')\n",
    "plt.plot(ma['Predictions predict'], color='green', label='.predict()',linestyle='dotted')\n",
    "plt.legend(loc='best')\n",
    "plt.title('MA')\n",
    "plt.show()"
   ]
  },
  {
   "cell_type": "code",
   "execution_count": 36,
   "metadata": {},
   "outputs": [
    {
     "name": "stderr",
     "output_type": "stream",
     "text": [
      "C:\\ProgramData\\Anaconda3\\envs\\p36workshop\\lib\\site-packages\\statsmodels\\tsa\\base\\tsa_model.py:191: FutureWarning: Creating a DatetimeIndex by passing range endpoints is deprecated.  Use `pandas.date_range` instead.\n",
      "  start=index[0], end=index[-1], freq=freq)\n",
      "C:\\ProgramData\\Anaconda3\\envs\\p36workshop\\lib\\site-packages\\statsmodels\\base\\model.py:488: HessianInversionWarning: Inverting hessian failed, no bse or cov_params available\n",
      "  'available', HessianInversionWarning)\n",
      "C:\\ProgramData\\Anaconda3\\envs\\p36workshop\\lib\\site-packages\\statsmodels\\base\\model.py:508: ConvergenceWarning: Maximum Likelihood optimization failed to converge. Check mle_retvals\n",
      "  \"Check mle_retvals\", ConvergenceWarning)\n"
     ]
    },
    {
     "name": "stdout",
     "output_type": "stream",
     "text": [
      "[249.26403435877822, 18, 8, <statsmodels.tsa.arima_model.ARMAResultsWrapper object at 0x000002A9BBE30400>]\n"
     ]
    }
   ],
   "source": [
    "residual_coefficient=proper_model(residual,20)\n",
    "print(residual_coefficient)"
   ]
  },
  {
   "cell_type": "code",
   "execution_count": 67,
   "metadata": {},
   "outputs": [],
   "source": [
    "residual.dropna(inplace=True)\n",
    "residual_model = compare_ARIMA_modes(residual,(residual_coefficient[1], 0, residual_coefficient[2]))"
   ]
  },
  {
   "cell_type": "code",
   "execution_count": 68,
   "metadata": {},
   "outputs": [
    {
     "data": {
      "image/png": "[encoded data removed]",
      "text/plain": [
       "<Figure size 432x288 with 1 Axes>"
      ]
     },
     "metadata": {
      "needs_background": "light"
     },
     "output_type": "display_data"
    }
   ],
   "source": [
    "plt.plot(residual, label='Ground Truth')\n",
    "plt.plot(residual_model['Predictions forecast'], color='red', label='.forecast()',linestyle='dashed')\n",
    "plt.plot(residual_model['Predictions predict'], color='green', label='.predict()',linestyle='dotted')\n",
    "plt.legend(loc='best')\n",
    "plt.title('residual_model')\n",
    "plt.show(block=False)"
   ]
  },
  {
   "cell_type": "code",
   "execution_count": 69,
   "metadata": {},
   "outputs": [],
   "source": [
    "seasonal_f=season_forcast_year(seasonal)\n"
   ]
  },
  {
   "cell_type": "code",
   "execution_count": 70,
   "metadata": {},
   "outputs": [
    {
     "data": {
      "text/plain": [
       "2019-05-23     9.992000\n",
       "2019-05-30    10.654818\n",
       "2019-06-06     9.545656\n",
       "2019-06-13     9.700108\n",
       "2019-06-20     9.676959\n",
       "dtype: float64"
      ]
     },
     "execution_count": 70,
     "metadata": {},
     "output_type": "execute_result"
    }
   ],
   "source": [
    "forcast_model = arma['Predictions forecast']+residual_model['Predictions forecast']+seasonal_f\n",
    "forcast_model.head()"
   ]
  },
  {
   "cell_type": "markdown",
   "metadata": {},
   "source": [
    "# 预测"
   ]
  },
  {
   "cell_type": "code",
   "execution_count": 71,
   "metadata": {},
   "outputs": [
    {
     "data": {
      "image/png": "[encoded data removed]",
      "text/plain": [
       "<Figure size 432x288 with 1 Axes>"
      ]
     },
     "metadata": {
      "needs_background": "light"
     },
     "output_type": "display_data"
    }
   ],
   "source": [
    "plt.plot(ts, label='Ground Truth')\n",
    "plt.plot(forcast_model, color='red', label='.forecast()',linestyle='dashed')\n",
    "plt.legend(loc='best')\n",
    "plt.title('forcast_model')\n",
    "plt.show()"
   ]
  },
  {
   "cell_type": "code",
   "execution_count": 72,
   "metadata": {},
   "outputs": [
    {
     "data": {
      "text/plain": [
       "[<matplotlib.lines.Line2D at 0x2a9bce5a7b8>]"
      ]
     },
     "execution_count": 72,
     "metadata": {},
     "output_type": "execute_result"
    },
    {
     "data": {
      "image/png": "[encoded data removed]",
      "text/plain": [
       "<Figure size 432x288 with 1 Axes>"
      ]
     },
     "metadata": {
      "needs_background": "light"
     },
     "output_type": "display_data"
    }
   ],
   "source": [
    "plt.plot(ts[-52:-1])"
   ]
  },
  {
   "cell_type": "code",
   "execution_count": 73,
   "metadata": {},
   "outputs": [
    {
     "data": {
      "text/plain": [
       "[<matplotlib.lines.Line2D at 0x2a9bcd85828>]"
      ]
     },
     "execution_count": 73,
     "metadata": {},
     "output_type": "execute_result"
    },
    {
     "data": {
      "image/png": "[encoded data removed]",
      "text/plain": [
       "<Figure size 432x288 with 1 Axes>"
      ]
     },
     "metadata": {
      "needs_background": "light"
     },
     "output_type": "display_data"
    }
   ],
   "source": [
    "plt.plot(ts[-104:-53])"
   ]
  },
  {
   "cell_type": "code",
   "execution_count": 74,
   "metadata": {},
   "outputs": [
    {
     "data": {
      "text/plain": [
       "[<matplotlib.lines.Line2D at 0x2a9bbddd978>]"
      ]
     },
     "execution_count": 74,
     "metadata": {},
     "output_type": "execute_result"
    },
    {
     "data": {
      "image/png": "[encoded data removed]",
      "text/plain": [
       "<Figure size 432x288 with 1 Axes>"
      ]
     },
     "metadata": {
      "needs_background": "light"
     },
     "output_type": "display_data"
    }
   ],
   "source": [
    "plt.plot(forcast_model)"
   ]
  },
  {
   "cell_type": "markdown",
   "metadata": {},
   "source": [
    "# 预测时间序列"
   ]
  },
  {
   "cell_type": "code",
   "execution_count": null,
   "metadata": {},
   "outputs": [],
   "source": [
    "fig = plt.figure(figsize=(12,8))\n",
    "ax1 = fig.add_subplot(211)\n",
    "fig = sm.graphics.tsa.plot_acf(ts_diff, lags=40, ax=ax1) #从13开始是因为做季节性差分时window是12\n",
    "ax2 = fig.add_subplot(212)\n",
    "fig = sm.graphics.tsa.plot_pacf(ts_diff, lags=40, ax=ax2)"
   ]
  },
  {
   "cell_type": "code",
   "execution_count": null,
   "metadata": {},
   "outputs": [],
   "source": [
    "fig = plt.figure(figsize=(12,8))\n",
    "ax1 = fig.add_subplot(211)\n",
    "fig = sm.graphics.tsa.plot_acf(trend.dropna(), lags=40, ax=ax1) #从13开始是因为做季节性差分时window是12\n",
    "ax2 = fig.add_subplot(212)\n",
    "fig = sm.graphics.tsa.plot_pacf(trend.dropna(), lags=40, ax=ax2)"
   ]
  },
  {
   "cell_type": "markdown",
   "metadata": {},
   "source": [
    "### ACF & PACF Plots"
   ]
  },
  {
   "cell_type": "code",
   "execution_count": null,
   "metadata": {
    "scrolled": true
   },
   "outputs": [],
   "source": [
    "#选择差分处理后的结果进行预测\n",
    "#ACF and PACF plots:\n",
    "from statsmodels.tsa.stattools import acf, pacf  \n",
    "\n",
    "lag_acf = acf(ts_diff, nlags=20)\n",
    "lag_pacf = pacf(ts_diff, nlags=20, method='ols')\n",
    "\n",
    "#Plot ACF:    \n",
    "plt.subplot(121)    \n",
    "plt.plot(lag_acf)\n",
    "plt.axhline(y=0,linestyle='--',color='gray')\n",
    "plt.axhline(y=-1.96/np.sqrt(len(ts_diff)),linestyle='--',color='gray')\n",
    "plt.axhline(y=1.96/np.sqrt(len(ts_diff)),linestyle='--',color='gray')\n",
    "plt.title('Autocorrelation Function')\n",
    "\n",
    "#Plot PACF:\n",
    "plt.subplot(122)\n",
    "plt.plot(lag_pacf)\n",
    "plt.axhline(y=0,linestyle='--',color='gray')\n",
    "plt.axhline(y=-1.96/np.sqrt(len(ts_diff)),linestyle='--',color='gray')\n",
    "plt.axhline(y=1.96/np.sqrt(len(ts_diff)),linestyle='--',color='gray')\n",
    "plt.title('Partial Autocorrelation Function')\n",
    "plt.tight_layout()\n",
    "\n",
    "#两条虚线之间是置信区间"
   ]
  },
  {
   "cell_type": "code",
   "execution_count": null,
   "metadata": {},
   "outputs": [],
   "source": [
    "#选择季节分解后的趋势进行预测\n",
    "#ACF and PACF plots:\n",
    "from statsmodels.tsa.stattools import acf, pacf  \n",
    "\n",
    "lag_acf = acf(trend.dropna(), nlags=20)\n",
    "lag_pacf = pacf(trend.dropna(), nlags=20, method='ols')\n",
    "\n",
    "#Plot ACF:    \n",
    "plt.subplot(121)    \n",
    "plt.plot(lag_acf)\n",
    "plt.axhline(y=0,linestyle='--',color='gray')\n",
    "plt.axhline(y=-1.96/np.sqrt(len(trend.dropna())),linestyle='--',color='gray')\n",
    "plt.axhline(y=1.96/np.sqrt(len(trend.dropna())),linestyle='--',color='gray')\n",
    "plt.title('Autocorrelation Function')\n",
    "\n",
    "#Plot PACF:\n",
    "plt.subplot(122)\n",
    "plt.plot(lag_pacf)\n",
    "plt.axhline(y=0,linestyle='--',color='gray')\n",
    "plt.axhline(y=-1.96/np.sqrt(len(trend.dropna())),linestyle='--',color='gray')\n",
    "plt.axhline(y=1.96/np.sqrt(len(trend.dropna())),linestyle='--',color='gray')\n",
    "plt.title('Partial Autocorrelation Function')\n",
    "plt.tight_layout()\n",
    "\n",
    "#两条虚线之间是置信区间"
   ]
  },
  {
   "cell_type": "markdown",
   "metadata": {},
   "source": [
    "### AR Model:"
   ]
  },
  {
   "cell_type": "code",
   "execution_count": null,
   "metadata": {},
   "outputs": [],
   "source": [
    "#MA model:\n",
    "model = ARIMA(ts_log, order=(1, 1, 2),freq=ts_log.index.inferred_freq)  \n",
    "results_AR = model.fit(disp=-1)  \n",
    "plt.plot(ts_log_diff)\n",
    "plt.plot(results_AR.fittedvalues, color='red')\n",
    "plt.title('RSS: %.4f'% sum((results_AR.fittedvalues-ts_log_diff)**2))"
   ]
  },
  {
   "cell_type": "markdown",
   "metadata": {},
   "source": [
    "### MA Model"
   ]
  },
  {
   "cell_type": "code",
   "execution_count": null,
   "metadata": {},
   "outputs": [],
   "source": [
    "model = ARIMA(ts_log, order=(0, 1, 2),freq=ts_log.index.inferred_freq)  \n",
    "results_MA = model.fit(disp=-1)  \n",
    "plt.plot(ts_log_diff)\n",
    "plt.plot(results_MA.fittedvalues, color='red')\n",
    "plt.title('RSS: %.4f'% sum((results_MA.fittedvalues-ts_log_diff)**2))"
   ]
  },
  {
   "cell_type": "markdown",
   "metadata": {},
   "source": [
    "### ARIMA Model:"
   ]
  },
  {
   "cell_type": "code",
   "execution_count": null,
   "metadata": {
    "scrolled": false
   },
   "outputs": [],
   "source": [
    "model = ARIMA(ts_log, order=(2, 1, 2),freq=ts_log.index.inferred_freq)  \n",
    "results_ARIMA = model.fit(disp=-1)  \n",
    "plt.plot(ts_log_diff)\n",
    "plt.plot(results_ARIMA.fittedvalues, color='red')\n",
    "plt.title('RSS: %.4f'% sum((results_ARIMA.fittedvalues-ts_log_diff)**2))"
   ]
  },
  {
   "cell_type": "markdown",
   "metadata": {},
   "source": [
    "### 预测还原:"
   ]
  },
  {
   "cell_type": "code",
   "execution_count": null,
   "metadata": {},
   "outputs": [],
   "source": [
    "predictions_ARIMA_diff = pd.Series(results_ARIMA.fittedvalues, copy=True)\n",
    "print(predictions_ARIMA_diff.head())"
   ]
  },
  {
   "cell_type": "code",
   "execution_count": null,
   "metadata": {},
   "outputs": [],
   "source": [
    "predictions_ARIMA_diff_cumsum = predictions_ARIMA_diff.cumsum()\n",
    "print(predictions_ARIMA_diff_cumsum.head())"
   ]
  },
  {
   "cell_type": "code",
   "execution_count": null,
   "metadata": {},
   "outputs": [],
   "source": [
    "predictions_ARIMA_log = pd.Series(ts_log.iloc[0], index=ts_log.index)\n",
    "predictions_ARIMA_log = predictions_ARIMA_log.add(predictions_ARIMA_diff_cumsum,fill_value=0)\n",
    "predictions_ARIMA_log.head()"
   ]
  },
  {
   "cell_type": "code",
   "execution_count": null,
   "metadata": {},
   "outputs": [],
   "source": [
    "plt.plot(ts_log)\n",
    "plt.plot(predictions_ARIMA_diff_cumsum)"
   ]
  },
  {
   "cell_type": "code",
   "execution_count": null,
   "metadata": {},
   "outputs": [],
   "source": [
    "plt.plot(ts_log)\n",
    "plt.plot(predictions_ARIMA_log)\n",
    "predictions_ARIMA_log=predictions_ARIMA_log.rename('predictions_ARIMA_log')\n",
    "predictions_ARIMA_log.to_csv(predictions_ARIMA_log.name+'.csv',header=True)"
   ]
  },
  {
   "cell_type": "code",
   "execution_count": null,
   "metadata": {},
   "outputs": [],
   "source": [
    "predictions_ARIMA = np.exp(predictions_ARIMA_log)\n",
    "plt.plot(ts)\n",
    "plt.plot(predictions_ARIMA)\n",
    "plt.title('RMSE: %.4f'% np.sqrt(sum((predictions_ARIMA-ts)**2)/len(ts)))"
   ]
  },
  {
   "cell_type": "markdown",
   "metadata": {},
   "source": [
    "### 对分解出来的趋势进行预测"
   ]
  }
 ],
 "metadata": {
  "kernelspec": {
   "display_name": "Python 3",
   "language": "python",
   "name": "python3"
  },
  "language_info": {
   "codemirror_mode": {
    "name": "ipython",
    "version": 3
   },
   "file_extension": ".py",
   "mimetype": "text/x-python",
   "name": "python",
   "nbconvert_exporter": "python",
   "pygments_lexer": "ipython3",
   "version": "3.6.8"
  }
 },
 "nbformat": 4,
 "nbformat_minor": 1
}
