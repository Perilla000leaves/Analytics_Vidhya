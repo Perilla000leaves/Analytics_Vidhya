{
 "cells": [
  {
   "cell_type": "markdown",
   "metadata": {},
   "source": [
    "# Steps to Tackle a Time Series Problem (with Codes in Python)\n",
    "Note: These are just the codes from article"
   ]
  },
  {
   "cell_type": "markdown",
   "metadata": {},
   "source": [
    "## Loading and Handling TS in Pandas"
   ]
  },
  {
   "cell_type": "code",
   "execution_count": 1,
   "metadata": {},
   "outputs": [],
   "source": [
    "import pandas as pd\n",
    "import warnings\n",
    "import xlrd\n",
    "import sys\n",
    "from pandas.plotting import register_matplotlib_converters\n",
    "import numpy as np\n",
    "from datetime import datetime,timedelta\n",
    "from statsmodels.tsa.arima_model import ARIMA\n",
    "from statsmodels.tsa.arima_model import ARMA\n",
    "import statsmodels.api as sm\n",
    "from sklearn.metrics import mean_squared_error\n",
    "import matplotlib.pylab as plt\n",
    "import seaborn as sea\n",
    "from sklearn.linear_model import LassoCV, RidgeCV, LinearRegression\n",
    "\n",
    "%matplotlib inline\n",
    "from matplotlib.pylab import rcParams\n",
    "rcParams['figure.figsize'] = 30,12\n",
    "rcParams['font.sans-serif']=['SimHei']\n",
    "rcParams['axes.unicode_minus'] = False\n",
    "warnings.filterwarnings(action='once')"
   ]
  },
  {
   "cell_type": "code",
   "execution_count": 2,
   "metadata": {},
   "outputs": [
    {
     "name": "stderr",
     "output_type": "stream",
     "text": [
      "C:\\ProgramData\\Anaconda3\\envs\\p36workshop\\lib\\site-packages\\IPython\\core\\interactiveshell.py:3049: DtypeWarning: Columns (1) have mixed types. Specify dtype option on import or set low_memory=False.\n",
      "  interactivity=interactivity, compiler=compiler, result=result)\n",
      "C:\\ProgramData\\Anaconda3\\envs\\p36workshop\\lib\\site-packages\\xlrd\\xlsx.py:266: PendingDeprecationWarning: This method will be removed in future versions.  Use 'tree.iter()' or 'list(tree.iter())' instead.\n",
      "  for elem in self.tree.iter() if Element_has_iter else self.tree.getiterator():\n"
     ]
    },
    {
     "data": {
      "text/html": [
       "<div>\n",
       "<style scoped>\n",
       "    .dataframe tbody tr th:only-of-type {\n",
       "        vertical-align: middle;\n",
       "    }\n",
       "\n",
       "    .dataframe tbody tr th {\n",
       "        vertical-align: top;\n",
       "    }\n",
       "\n",
       "    .dataframe thead th {\n",
       "        text-align: right;\n",
       "    }\n",
       "</style>\n",
       "<table border=\"1\" class=\"dataframe\">\n",
       "  <thead>\n",
       "    <tr style=\"text-align: right;\">\n",
       "      <th></th>\n",
       "      <th>tqlx</th>\n",
       "      <th>tqmc</th>\n",
       "      <th>bs</th>\n",
       "      <th>2017/6/8</th>\n",
       "      <th>2017/6/15</th>\n",
       "      <th>2017/6/22</th>\n",
       "      <th>2017/6/29</th>\n",
       "      <th>2017/7/6</th>\n",
       "      <th>2017/7/13</th>\n",
       "      <th>2017/7/20</th>\n",
       "      <th>...</th>\n",
       "      <th>2019/4/25</th>\n",
       "      <th>2019/5/2</th>\n",
       "      <th>2019/5/9</th>\n",
       "      <th>2019/5/16</th>\n",
       "      <th>2019/5/23</th>\n",
       "      <th>2017</th>\n",
       "      <th>2018</th>\n",
       "      <th>2019</th>\n",
       "      <th>year_increase</th>\n",
       "      <th>year_increase_level</th>\n",
       "    </tr>\n",
       "  </thead>\n",
       "  <tbody>\n",
       "    <tr>\n",
       "      <th>0</th>\n",
       "      <td>2</td>\n",
       "      <td>NaN</td>\n",
       "      <td>|1001444521</td>\n",
       "      <td>NaN</td>\n",
       "      <td>NaN</td>\n",
       "      <td>NaN</td>\n",
       "      <td>NaN</td>\n",
       "      <td>NaN</td>\n",
       "      <td>NaN</td>\n",
       "      <td>NaN</td>\n",
       "      <td>...</td>\n",
       "      <td>0.0000</td>\n",
       "      <td>0.0000</td>\n",
       "      <td>0.0000</td>\n",
       "      <td>0.0000</td>\n",
       "      <td>0.0000</td>\n",
       "      <td>0.0</td>\n",
       "      <td>0.0</td>\n",
       "      <td>0.0000</td>\n",
       "      <td>#DIV/0!</td>\n",
       "      <td>#DIV/0!</td>\n",
       "    </tr>\n",
       "    <tr>\n",
       "      <th>1</th>\n",
       "      <td>2</td>\n",
       "      <td>NaN</td>\n",
       "      <td>|1002035530</td>\n",
       "      <td>NaN</td>\n",
       "      <td>NaN</td>\n",
       "      <td>NaN</td>\n",
       "      <td>0.0</td>\n",
       "      <td>0.0</td>\n",
       "      <td>0.0</td>\n",
       "      <td>0.0</td>\n",
       "      <td>...</td>\n",
       "      <td>0.0000</td>\n",
       "      <td>0.0000</td>\n",
       "      <td>0.0000</td>\n",
       "      <td>0.0000</td>\n",
       "      <td>0.0000</td>\n",
       "      <td>0.0</td>\n",
       "      <td>0.0</td>\n",
       "      <td>0.0000</td>\n",
       "      <td>#DIV/0!</td>\n",
       "      <td>#DIV/0!</td>\n",
       "    </tr>\n",
       "    <tr>\n",
       "      <th>2</th>\n",
       "      <td>2</td>\n",
       "      <td>NaN</td>\n",
       "      <td>|1002780124</td>\n",
       "      <td>NaN</td>\n",
       "      <td>NaN</td>\n",
       "      <td>NaN</td>\n",
       "      <td>NaN</td>\n",
       "      <td>NaN</td>\n",
       "      <td>NaN</td>\n",
       "      <td>NaN</td>\n",
       "      <td>...</td>\n",
       "      <td>0.0000</td>\n",
       "      <td>0.0000</td>\n",
       "      <td>0.0000</td>\n",
       "      <td>0.0000</td>\n",
       "      <td>0.0000</td>\n",
       "      <td>0.0</td>\n",
       "      <td>0.0</td>\n",
       "      <td>0.0000</td>\n",
       "      <td>#DIV/0!</td>\n",
       "      <td>#DIV/0!</td>\n",
       "    </tr>\n",
       "    <tr>\n",
       "      <th>3</th>\n",
       "      <td>2</td>\n",
       "      <td>NaN</td>\n",
       "      <td>|1000006214</td>\n",
       "      <td>NaN</td>\n",
       "      <td>NaN</td>\n",
       "      <td>NaN</td>\n",
       "      <td>NaN</td>\n",
       "      <td>NaN</td>\n",
       "      <td>NaN</td>\n",
       "      <td>NaN</td>\n",
       "      <td>...</td>\n",
       "      <td>NaN</td>\n",
       "      <td>NaN</td>\n",
       "      <td>NaN</td>\n",
       "      <td>NaN</td>\n",
       "      <td>NaN</td>\n",
       "      <td>0.0</td>\n",
       "      <td>0.0</td>\n",
       "      <td>0.0000</td>\n",
       "      <td>#DIV/0!</td>\n",
       "      <td>#DIV/0!</td>\n",
       "    </tr>\n",
       "    <tr>\n",
       "      <th>4</th>\n",
       "      <td>2</td>\n",
       "      <td>NaN</td>\n",
       "      <td>|1002156190</td>\n",
       "      <td>NaN</td>\n",
       "      <td>NaN</td>\n",
       "      <td>NaN</td>\n",
       "      <td>NaN</td>\n",
       "      <td>NaN</td>\n",
       "      <td>NaN</td>\n",
       "      <td>NaN</td>\n",
       "      <td>...</td>\n",
       "      <td>6.9024</td>\n",
       "      <td>8.8588</td>\n",
       "      <td>7.6692</td>\n",
       "      <td>8.2404</td>\n",
       "      <td>9.9224</td>\n",
       "      <td>0.0</td>\n",
       "      <td>0.0</td>\n",
       "      <td>9.9888</td>\n",
       "      <td>#DIV/0!</td>\n",
       "      <td>#DIV/0!</td>\n",
       "    </tr>\n",
       "  </tbody>\n",
       "</table>\n",
       "<p>5 rows × 111 columns</p>\n",
       "</div>"
      ],
      "text/plain": [
       "   tqlx tqmc           bs  2017/6/8  2017/6/15  2017/6/22  2017/6/29  \\\n",
       "0     2  NaN  |1001444521       NaN        NaN        NaN        NaN   \n",
       "1     2  NaN  |1002035530       NaN        NaN        NaN        0.0   \n",
       "2     2  NaN  |1002780124       NaN        NaN        NaN        NaN   \n",
       "3     2  NaN  |1000006214       NaN        NaN        NaN        NaN   \n",
       "4     2  NaN  |1002156190       NaN        NaN        NaN        NaN   \n",
       "\n",
       "   2017/7/6  2017/7/13  2017/7/20  ...  2019/4/25  2019/5/2  2019/5/9  \\\n",
       "0       NaN        NaN        NaN  ...     0.0000    0.0000    0.0000   \n",
       "1       0.0        0.0        0.0  ...     0.0000    0.0000    0.0000   \n",
       "2       NaN        NaN        NaN  ...     0.0000    0.0000    0.0000   \n",
       "3       NaN        NaN        NaN  ...        NaN       NaN       NaN   \n",
       "4       NaN        NaN        NaN  ...     6.9024    8.8588    7.6692   \n",
       "\n",
       "   2019/5/16  2019/5/23  2017  2018    2019  year_increase  \\\n",
       "0     0.0000     0.0000   0.0   0.0  0.0000        #DIV/0!   \n",
       "1     0.0000     0.0000   0.0   0.0  0.0000        #DIV/0!   \n",
       "2     0.0000     0.0000   0.0   0.0  0.0000        #DIV/0!   \n",
       "3        NaN        NaN   0.0   0.0  0.0000        #DIV/0!   \n",
       "4     8.2404     9.9224   0.0   0.0  9.9888        #DIV/0!   \n",
       "\n",
       "   year_increase_level  \n",
       "0              #DIV/0!  \n",
       "1              #DIV/0!  \n",
       "2              #DIV/0!  \n",
       "3              #DIV/0!  \n",
       "4              #DIV/0!  \n",
       "\n",
       "[5 rows x 111 columns]"
      ]
     },
     "execution_count": 2,
     "metadata": {},
     "output_type": "execute_result"
    }
   ],
   "source": [
    "data=pd.read_csv('tq_past_load.csv',encoding=\"gb18030\")\n",
    "df_coding_structure = pd.read_excel('对象编码结构表.xlsx',encoding=\"gb18030\",header=0,index_col=0)\n",
    "df_S_Curve = pd.read_excel('“S”型曲线表.xlsx',encoding=\"gb18030\",header=0,index_col=0)\n",
    "data.head()"
   ]
  },
  {
   "cell_type": "code",
   "execution_count": 3,
   "metadata": {},
   "outputs": [
    {
     "data": {
      "text/html": [
       "<div>\n",
       "<style scoped>\n",
       "    .dataframe tbody tr th:only-of-type {\n",
       "        vertical-align: middle;\n",
       "    }\n",
       "\n",
       "    .dataframe tbody tr th {\n",
       "        vertical-align: top;\n",
       "    }\n",
       "\n",
       "    .dataframe thead th {\n",
       "        text-align: right;\n",
       "    }\n",
       "</style>\n",
       "<table border=\"1\" class=\"dataframe\">\n",
       "  <thead>\n",
       "    <tr style=\"text-align: right;\">\n",
       "      <th></th>\n",
       "      <th>industry_type</th>\n",
       "      <th>lhrq</th>\n",
       "      <th>tqmc</th>\n",
       "      <th>ydlbdm</th>\n",
       "      <th>year_increase</th>\n",
       "      <th>year_increase_level</th>\n",
       "      <th>公变专变</th>\n",
       "      <th>类序号</th>\n",
       "      <th>编码结构</th>\n",
       "    </tr>\n",
       "  </thead>\n",
       "  <tbody>\n",
       "    <tr>\n",
       "      <th>3000811640</th>\n",
       "      <td>industry_capacity</td>\n",
       "      <td>2009.0</td>\n",
       "      <td>3000811640</td>\n",
       "      <td>7127</td>\n",
       "      <td>0.093699</td>\n",
       "      <td>high</td>\n",
       "      <td>专变</td>\n",
       "      <td>15</td>\n",
       "      <td>015_industry_capacity_h</td>\n",
       "    </tr>\n",
       "    <tr>\n",
       "      <th>3001400713</th>\n",
       "      <td>industry_capacity</td>\n",
       "      <td>2009.0</td>\n",
       "      <td>3001400713</td>\n",
       "      <td>14281</td>\n",
       "      <td>0.104282</td>\n",
       "      <td>high</td>\n",
       "      <td>专变</td>\n",
       "      <td>15</td>\n",
       "      <td>015_industry_capacity_h</td>\n",
       "    </tr>\n",
       "    <tr>\n",
       "      <th>3001531581</th>\n",
       "      <td>industry_capacity</td>\n",
       "      <td>2009.0</td>\n",
       "      <td>3001531581</td>\n",
       "      <td>ydlbdm900_capacity</td>\n",
       "      <td>0.283342</td>\n",
       "      <td>high</td>\n",
       "      <td>专变</td>\n",
       "      <td>15</td>\n",
       "      <td>015_industry_capacity_h</td>\n",
       "    </tr>\n",
       "    <tr>\n",
       "      <th>3001633259</th>\n",
       "      <td>industry_capacity</td>\n",
       "      <td>2009.0</td>\n",
       "      <td>3001633259</td>\n",
       "      <td>20288</td>\n",
       "      <td>1.064289</td>\n",
       "      <td>high</td>\n",
       "      <td>专变</td>\n",
       "      <td>15</td>\n",
       "      <td>015_industry_capacity_h</td>\n",
       "    </tr>\n",
       "    <tr>\n",
       "      <th>3001712432</th>\n",
       "      <td>industry_capacity</td>\n",
       "      <td>2009.0</td>\n",
       "      <td>3001712432</td>\n",
       "      <td>22574</td>\n",
       "      <td>0.682277</td>\n",
       "      <td>high</td>\n",
       "      <td>专变</td>\n",
       "      <td>15</td>\n",
       "      <td>015_industry_capacity_h</td>\n",
       "    </tr>\n",
       "    <tr>\n",
       "      <th>3001778954</th>\n",
       "      <td>industry_capacity</td>\n",
       "      <td>2009.0</td>\n",
       "      <td>3001778954</td>\n",
       "      <td>25080</td>\n",
       "      <td>0.355546</td>\n",
       "      <td>high</td>\n",
       "      <td>专变</td>\n",
       "      <td>15</td>\n",
       "      <td>015_industry_capacity_h</td>\n",
       "    </tr>\n",
       "    <tr>\n",
       "      <th>3001779024</th>\n",
       "      <td>industry_capacity</td>\n",
       "      <td>2012.0</td>\n",
       "      <td>3001779024</td>\n",
       "      <td>ydlbdm110_capacity</td>\n",
       "      <td>0.517850</td>\n",
       "      <td>high</td>\n",
       "      <td>专变</td>\n",
       "      <td>15</td>\n",
       "      <td>015_industry_capacity_h</td>\n",
       "    </tr>\n",
       "    <tr>\n",
       "      <th>3001816860</th>\n",
       "      <td>industry_capacity</td>\n",
       "      <td>2009.0</td>\n",
       "      <td>3001816860</td>\n",
       "      <td>25866</td>\n",
       "      <td>4.615514</td>\n",
       "      <td>high</td>\n",
       "      <td>专变</td>\n",
       "      <td>15</td>\n",
       "      <td>015_industry_capacity_h</td>\n",
       "    </tr>\n",
       "    <tr>\n",
       "      <th>3002115262</th>\n",
       "      <td>industry_capacity</td>\n",
       "      <td>2009.0</td>\n",
       "      <td>3002115262</td>\n",
       "      <td>28416</td>\n",
       "      <td>0.992399</td>\n",
       "      <td>high</td>\n",
       "      <td>专变</td>\n",
       "      <td>15</td>\n",
       "      <td>015_industry_capacity_h</td>\n",
       "    </tr>\n",
       "    <tr>\n",
       "      <th>3002132639</th>\n",
       "      <td>industry_capacity</td>\n",
       "      <td>2009.0</td>\n",
       "      <td>3002132639</td>\n",
       "      <td>28805</td>\n",
       "      <td>0.124002</td>\n",
       "      <td>high</td>\n",
       "      <td>专变</td>\n",
       "      <td>15</td>\n",
       "      <td>015_industry_capacity_h</td>\n",
       "    </tr>\n",
       "    <tr>\n",
       "      <th>3002230512</th>\n",
       "      <td>industry_capacity</td>\n",
       "      <td>2009.0</td>\n",
       "      <td>3002230512</td>\n",
       "      <td>31702</td>\n",
       "      <td>2.568027</td>\n",
       "      <td>high</td>\n",
       "      <td>专变</td>\n",
       "      <td>15</td>\n",
       "      <td>015_industry_capacity_h</td>\n",
       "    </tr>\n",
       "    <tr>\n",
       "      <th>3002232429</th>\n",
       "      <td>industry_capacity</td>\n",
       "      <td>2009.0</td>\n",
       "      <td>3002232429</td>\n",
       "      <td>31831</td>\n",
       "      <td>0.567014</td>\n",
       "      <td>high</td>\n",
       "      <td>专变</td>\n",
       "      <td>15</td>\n",
       "      <td>015_industry_capacity_h</td>\n",
       "    </tr>\n",
       "    <tr>\n",
       "      <th>3002235712</th>\n",
       "      <td>industry_capacity</td>\n",
       "      <td>2009.0</td>\n",
       "      <td>3002235712</td>\n",
       "      <td>ydlbdm110_capacity</td>\n",
       "      <td>0.181537</td>\n",
       "      <td>high</td>\n",
       "      <td>专变</td>\n",
       "      <td>15</td>\n",
       "      <td>015_industry_capacity_h</td>\n",
       "    </tr>\n",
       "    <tr>\n",
       "      <th>3002244725</th>\n",
       "      <td>industry_capacity</td>\n",
       "      <td>2009.0</td>\n",
       "      <td>3002244725</td>\n",
       "      <td>32223</td>\n",
       "      <td>0.303657</td>\n",
       "      <td>high</td>\n",
       "      <td>专变</td>\n",
       "      <td>15</td>\n",
       "      <td>015_industry_capacity_h</td>\n",
       "    </tr>\n",
       "    <tr>\n",
       "      <th>3002470369</th>\n",
       "      <td>industry_capacity</td>\n",
       "      <td>2010.0</td>\n",
       "      <td>3002470369</td>\n",
       "      <td>36170</td>\n",
       "      <td>0.466796</td>\n",
       "      <td>high</td>\n",
       "      <td>专变</td>\n",
       "      <td>15</td>\n",
       "      <td>015_industry_capacity_h</td>\n",
       "    </tr>\n",
       "    <tr>\n",
       "      <th>2222222222955167</th>\n",
       "      <td>industry_capacity</td>\n",
       "      <td>2017.0</td>\n",
       "      <td>深圳市科信通信技术股份有限公司</td>\n",
       "      <td>1159</td>\n",
       "      <td>0.063143</td>\n",
       "      <td>middle</td>\n",
       "      <td>专变</td>\n",
       "      <td>15</td>\n",
       "      <td>015_industry_capacity_m</td>\n",
       "    </tr>\n",
       "    <tr>\n",
       "      <th>3001445974</th>\n",
       "      <td>industry_capacity</td>\n",
       "      <td>2009.0</td>\n",
       "      <td>3001445974</td>\n",
       "      <td>15502</td>\n",
       "      <td>0.062616</td>\n",
       "      <td>middle</td>\n",
       "      <td>专变</td>\n",
       "      <td>15</td>\n",
       "      <td>015_industry_capacity_m</td>\n",
       "    </tr>\n",
       "    <tr>\n",
       "      <th>3001475492</th>\n",
       "      <td>industry_capacity</td>\n",
       "      <td>2009.0</td>\n",
       "      <td>3001475492</td>\n",
       "      <td>15801</td>\n",
       "      <td>0.040594</td>\n",
       "      <td>middle</td>\n",
       "      <td>专变</td>\n",
       "      <td>15</td>\n",
       "      <td>015_industry_capacity_m</td>\n",
       "    </tr>\n",
       "    <tr>\n",
       "      <th>3001654236</th>\n",
       "      <td>industry_capacity</td>\n",
       "      <td>2009.0</td>\n",
       "      <td>3001654236</td>\n",
       "      <td>21146</td>\n",
       "      <td>0.046491</td>\n",
       "      <td>middle</td>\n",
       "      <td>专变</td>\n",
       "      <td>15</td>\n",
       "      <td>015_industry_capacity_m</td>\n",
       "    </tr>\n",
       "    <tr>\n",
       "      <th>3002250527</th>\n",
       "      <td>industry_capacity</td>\n",
       "      <td>2009.0</td>\n",
       "      <td>3002250527</td>\n",
       "      <td>32338</td>\n",
       "      <td>0.051432</td>\n",
       "      <td>middle</td>\n",
       "      <td>专变</td>\n",
       "      <td>15</td>\n",
       "      <td>015_industry_capacity_m</td>\n",
       "    </tr>\n",
       "    <tr>\n",
       "      <th>3001517255</th>\n",
       "      <td>industry_capacity</td>\n",
       "      <td>2009.0</td>\n",
       "      <td>3001517255</td>\n",
       "      <td>17035</td>\n",
       "      <td>0.035633</td>\n",
       "      <td>low</td>\n",
       "      <td>专变</td>\n",
       "      <td>15</td>\n",
       "      <td>015_industry_capacity_l</td>\n",
       "    </tr>\n",
       "    <tr>\n",
       "      <th>3001775352</th>\n",
       "      <td>industry_capacity</td>\n",
       "      <td>2009.0</td>\n",
       "      <td>3001775352</td>\n",
       "      <td>ydlbdm110_capacity</td>\n",
       "      <td>0.035600</td>\n",
       "      <td>low</td>\n",
       "      <td>专变</td>\n",
       "      <td>15</td>\n",
       "      <td>015_industry_capacity_l</td>\n",
       "    </tr>\n",
       "    <tr>\n",
       "      <th>3002240744</th>\n",
       "      <td>industry_capacity</td>\n",
       "      <td>2009.0</td>\n",
       "      <td>3002240744</td>\n",
       "      <td>32140</td>\n",
       "      <td>0.025062</td>\n",
       "      <td>low</td>\n",
       "      <td>专变</td>\n",
       "      <td>15</td>\n",
       "      <td>015_industry_capacity_l</td>\n",
       "    </tr>\n",
       "    <tr>\n",
       "      <th>3002443927</th>\n",
       "      <td>industry_capacity</td>\n",
       "      <td>2010.0</td>\n",
       "      <td>3002443927</td>\n",
       "      <td>35815</td>\n",
       "      <td>0.012748</td>\n",
       "      <td>low</td>\n",
       "      <td>专变</td>\n",
       "      <td>15</td>\n",
       "      <td>015_industry_capacity_l</td>\n",
       "    </tr>\n",
       "    <tr>\n",
       "      <th>3001686545</th>\n",
       "      <td>commerce_capacity</td>\n",
       "      <td>2009.0</td>\n",
       "      <td>3001686545</td>\n",
       "      <td>ydlbdm110_capacity</td>\n",
       "      <td>1.025384</td>\n",
       "      <td>high</td>\n",
       "      <td>专变</td>\n",
       "      <td>15</td>\n",
       "      <td>015_commerce_capacity_h</td>\n",
       "    </tr>\n",
       "    <tr>\n",
       "      <th>2222222223235176</th>\n",
       "      <td>complete_capacity</td>\n",
       "      <td>2017.0</td>\n",
       "      <td>湖南省怀化公路桥梁建设总公司</td>\n",
       "      <td>ydlbdm300_capacity</td>\n",
       "      <td>1.470534</td>\n",
       "      <td>high</td>\n",
       "      <td>专变</td>\n",
       "      <td>15</td>\n",
       "      <td>015_complete_capacity_h</td>\n",
       "    </tr>\n",
       "    <tr>\n",
       "      <th>3000762638</th>\n",
       "      <td>complete_capacity</td>\n",
       "      <td>2009.0</td>\n",
       "      <td>3000762638</td>\n",
       "      <td>ydlbdm300_capacity</td>\n",
       "      <td>0.097658</td>\n",
       "      <td>high</td>\n",
       "      <td>专变</td>\n",
       "      <td>15</td>\n",
       "      <td>015_complete_capacity_h</td>\n",
       "    </tr>\n",
       "    <tr>\n",
       "      <th>2222222222885225</th>\n",
       "      <td>complete_capacity</td>\n",
       "      <td>2017.0</td>\n",
       "      <td>中华文学基金会深圳创作之家</td>\n",
       "      <td>ydlbdm300_capacity</td>\n",
       "      <td>0.004961</td>\n",
       "      <td>low</td>\n",
       "      <td>专变</td>\n",
       "      <td>15</td>\n",
       "      <td>015_complete_capacity_l</td>\n",
       "    </tr>\n",
       "    <tr>\n",
       "      <th>2222222223575334</th>\n",
       "      <td>work_capacity</td>\n",
       "      <td>2018.0</td>\n",
       "      <td>深圳朗泓房地产有限公司</td>\n",
       "      <td>ydlbdm500_capacity</td>\n",
       "      <td>1.177177</td>\n",
       "      <td>high</td>\n",
       "      <td>专变</td>\n",
       "      <td>15</td>\n",
       "      <td>015_work_capacity_h</td>\n",
       "    </tr>\n",
       "    <tr>\n",
       "      <th>2222222223655822</th>\n",
       "      <td>work_capacity</td>\n",
       "      <td>2018.0</td>\n",
       "      <td>深圳市盐田区建筑工程事务局</td>\n",
       "      <td>ydlbdm300_capacity</td>\n",
       "      <td>0.381528</td>\n",
       "      <td>high</td>\n",
       "      <td>专变</td>\n",
       "      <td>15</td>\n",
       "      <td>015_work_capacity_h</td>\n",
       "    </tr>\n",
       "    <tr>\n",
       "      <th>...</th>\n",
       "      <td>...</td>\n",
       "      <td>...</td>\n",
       "      <td>...</td>\n",
       "      <td>...</td>\n",
       "      <td>...</td>\n",
       "      <td>...</td>\n",
       "      <td>...</td>\n",
       "      <td>...</td>\n",
       "      <td>...</td>\n",
       "    </tr>\n",
       "    <tr>\n",
       "      <th>3002105369</th>\n",
       "      <td>industry_capacity</td>\n",
       "      <td>2009.0</td>\n",
       "      <td>3002105369</td>\n",
       "      <td>28121</td>\n",
       "      <td>0.015746</td>\n",
       "      <td>low</td>\n",
       "      <td>专变</td>\n",
       "      <td>20</td>\n",
       "      <td>020_industry_capacity_l</td>\n",
       "    </tr>\n",
       "    <tr>\n",
       "      <th>3002162665</th>\n",
       "      <td>industry_capacity</td>\n",
       "      <td>2009.0</td>\n",
       "      <td>3002162665</td>\n",
       "      <td>29584</td>\n",
       "      <td>0.009074</td>\n",
       "      <td>low</td>\n",
       "      <td>专变</td>\n",
       "      <td>20</td>\n",
       "      <td>020_industry_capacity_l</td>\n",
       "    </tr>\n",
       "    <tr>\n",
       "      <th>3002164088</th>\n",
       "      <td>industry_capacity</td>\n",
       "      <td>2009.0</td>\n",
       "      <td>3002164088</td>\n",
       "      <td>29624</td>\n",
       "      <td>0.006275</td>\n",
       "      <td>low</td>\n",
       "      <td>专变</td>\n",
       "      <td>20</td>\n",
       "      <td>020_industry_capacity_l</td>\n",
       "    </tr>\n",
       "    <tr>\n",
       "      <th>3002239148</th>\n",
       "      <td>industry_capacity</td>\n",
       "      <td>2009.0</td>\n",
       "      <td>3002239148</td>\n",
       "      <td>32103</td>\n",
       "      <td>0.019790</td>\n",
       "      <td>low</td>\n",
       "      <td>专变</td>\n",
       "      <td>20</td>\n",
       "      <td>020_industry_capacity_l</td>\n",
       "    </tr>\n",
       "    <tr>\n",
       "      <th>3002295976</th>\n",
       "      <td>industry_capacity</td>\n",
       "      <td>2009.0</td>\n",
       "      <td>3002295976</td>\n",
       "      <td>ydlbdm110_capacity</td>\n",
       "      <td>0.010102</td>\n",
       "      <td>low</td>\n",
       "      <td>专变</td>\n",
       "      <td>20</td>\n",
       "      <td>020_industry_capacity_l</td>\n",
       "    </tr>\n",
       "    <tr>\n",
       "      <th>3002337851</th>\n",
       "      <td>industry_capacity</td>\n",
       "      <td>2009.0</td>\n",
       "      <td>3002337851</td>\n",
       "      <td>34228</td>\n",
       "      <td>0.017036</td>\n",
       "      <td>low</td>\n",
       "      <td>专变</td>\n",
       "      <td>20</td>\n",
       "      <td>020_industry_capacity_l</td>\n",
       "    </tr>\n",
       "    <tr>\n",
       "      <th>3002721309</th>\n",
       "      <td>industry_capacity</td>\n",
       "      <td>2013.0</td>\n",
       "      <td>3002721309</td>\n",
       "      <td>38482</td>\n",
       "      <td>0.014253</td>\n",
       "      <td>low</td>\n",
       "      <td>专变</td>\n",
       "      <td>20</td>\n",
       "      <td>020_industry_capacity_l</td>\n",
       "    </tr>\n",
       "    <tr>\n",
       "      <th>3002762747</th>\n",
       "      <td>industry_capacity</td>\n",
       "      <td>2013.0</td>\n",
       "      <td>3002762747</td>\n",
       "      <td>39211</td>\n",
       "      <td>0.007270</td>\n",
       "      <td>low</td>\n",
       "      <td>专变</td>\n",
       "      <td>20</td>\n",
       "      <td>020_industry_capacity_l</td>\n",
       "    </tr>\n",
       "    <tr>\n",
       "      <th>3001305614</th>\n",
       "      <td>commerce_capacity</td>\n",
       "      <td>2009.0</td>\n",
       "      <td>3001305614</td>\n",
       "      <td>10979</td>\n",
       "      <td>0.005352</td>\n",
       "      <td>low</td>\n",
       "      <td>专变</td>\n",
       "      <td>20</td>\n",
       "      <td>020_commerce_capacity_l</td>\n",
       "    </tr>\n",
       "    <tr>\n",
       "      <th>3001422550</th>\n",
       "      <td>commerce_capacity</td>\n",
       "      <td>2009.0</td>\n",
       "      <td>3001422550</td>\n",
       "      <td>ydlbdm110_capacity</td>\n",
       "      <td>0.001802</td>\n",
       "      <td>low</td>\n",
       "      <td>专变</td>\n",
       "      <td>20</td>\n",
       "      <td>020_commerce_capacity_l</td>\n",
       "    </tr>\n",
       "    <tr>\n",
       "      <th>3001997470</th>\n",
       "      <td>commerce_capacity</td>\n",
       "      <td>2009.0</td>\n",
       "      <td>3001997470</td>\n",
       "      <td>ydlbdm900_capacity</td>\n",
       "      <td>0.007294</td>\n",
       "      <td>low</td>\n",
       "      <td>专变</td>\n",
       "      <td>20</td>\n",
       "      <td>020_commerce_capacity_l</td>\n",
       "    </tr>\n",
       "    <tr>\n",
       "      <th>3002160407</th>\n",
       "      <td>commerce_capacity</td>\n",
       "      <td>2009.0</td>\n",
       "      <td>3002160407</td>\n",
       "      <td>ydlbdm110_capacity</td>\n",
       "      <td>0.008735</td>\n",
       "      <td>low</td>\n",
       "      <td>专变</td>\n",
       "      <td>20</td>\n",
       "      <td>020_commerce_capacity_l</td>\n",
       "    </tr>\n",
       "    <tr>\n",
       "      <th>3001253426</th>\n",
       "      <td>complete_capacity</td>\n",
       "      <td>2009.0</td>\n",
       "      <td>3001253426</td>\n",
       "      <td>ydlbdm110_capacity</td>\n",
       "      <td>0.141777</td>\n",
       "      <td>high</td>\n",
       "      <td>专变</td>\n",
       "      <td>20</td>\n",
       "      <td>020_complete_capacity_h</td>\n",
       "    </tr>\n",
       "    <tr>\n",
       "      <th>3001675495</th>\n",
       "      <td>work_capacity</td>\n",
       "      <td>2009.0</td>\n",
       "      <td>3001675495</td>\n",
       "      <td>21453</td>\n",
       "      <td>0.215783</td>\n",
       "      <td>high</td>\n",
       "      <td>专变</td>\n",
       "      <td>20</td>\n",
       "      <td>020_work_capacity_h</td>\n",
       "    </tr>\n",
       "    <tr>\n",
       "      <th>3001210656</th>\n",
       "      <td>work_capacity</td>\n",
       "      <td>2009.0</td>\n",
       "      <td>3001210656</td>\n",
       "      <td>9616</td>\n",
       "      <td>0.072828</td>\n",
       "      <td>middle</td>\n",
       "      <td>专变</td>\n",
       "      <td>20</td>\n",
       "      <td>020_work_capacity_m</td>\n",
       "    </tr>\n",
       "    <tr>\n",
       "      <th>3001445342</th>\n",
       "      <td>work_capacity</td>\n",
       "      <td>2009.0</td>\n",
       "      <td>3001445342</td>\n",
       "      <td>15481</td>\n",
       "      <td>0.021924</td>\n",
       "      <td>low</td>\n",
       "      <td>专变</td>\n",
       "      <td>20</td>\n",
       "      <td>020_work_capacity_l</td>\n",
       "    </tr>\n",
       "    <tr>\n",
       "      <th>3000863169</th>\n",
       "      <td>industry_capacity</td>\n",
       "      <td>2009.0</td>\n",
       "      <td>3000863169</td>\n",
       "      <td>7392</td>\n",
       "      <td>0.338735</td>\n",
       "      <td>high</td>\n",
       "      <td>专变</td>\n",
       "      <td>23</td>\n",
       "      <td>023_industry_capacity_h</td>\n",
       "    </tr>\n",
       "    <tr>\n",
       "      <th>3001314406</th>\n",
       "      <td>industry_capacity</td>\n",
       "      <td>2009.0</td>\n",
       "      <td>3001314406</td>\n",
       "      <td>11083</td>\n",
       "      <td>0.201114</td>\n",
       "      <td>high</td>\n",
       "      <td>专变</td>\n",
       "      <td>23</td>\n",
       "      <td>023_industry_capacity_h</td>\n",
       "    </tr>\n",
       "    <tr>\n",
       "      <th>3001631074</th>\n",
       "      <td>industry_capacity</td>\n",
       "      <td>2009.0</td>\n",
       "      <td>3001631074</td>\n",
       "      <td>20202</td>\n",
       "      <td>0.288939</td>\n",
       "      <td>high</td>\n",
       "      <td>专变</td>\n",
       "      <td>23</td>\n",
       "      <td>023_industry_capacity_h</td>\n",
       "    </tr>\n",
       "    <tr>\n",
       "      <th>3002212835</th>\n",
       "      <td>commerce_capacity</td>\n",
       "      <td>2009.0</td>\n",
       "      <td>3002212835</td>\n",
       "      <td>ydlbdm300_capacity</td>\n",
       "      <td>0.126073</td>\n",
       "      <td>high</td>\n",
       "      <td>专变</td>\n",
       "      <td>23</td>\n",
       "      <td>023_commerce_capacity_h</td>\n",
       "    </tr>\n",
       "    <tr>\n",
       "      <th>3002709229</th>\n",
       "      <td>commerce_capacity</td>\n",
       "      <td>2012.0</td>\n",
       "      <td>3002709229</td>\n",
       "      <td>ydlbdm300_capacity</td>\n",
       "      <td>0.051505</td>\n",
       "      <td>middle</td>\n",
       "      <td>专变</td>\n",
       "      <td>23</td>\n",
       "      <td>023_commerce_capacity_m</td>\n",
       "    </tr>\n",
       "    <tr>\n",
       "      <th>2222222223225126</th>\n",
       "      <td>resident_capacity</td>\n",
       "      <td>2017.0</td>\n",
       "      <td>深圳市西岸银座物业投资管理有限公司</td>\n",
       "      <td>ydlbdm500_capacity</td>\n",
       "      <td>0.273369</td>\n",
       "      <td>high</td>\n",
       "      <td>专变</td>\n",
       "      <td>23</td>\n",
       "      <td>023_resident_capacity_h</td>\n",
       "    </tr>\n",
       "    <tr>\n",
       "      <th>2222222223655716</th>\n",
       "      <td>resident_capacity</td>\n",
       "      <td>2018.0</td>\n",
       "      <td>大新界边4#箱式公变</td>\n",
       "      <td>3175</td>\n",
       "      <td>0.072140</td>\n",
       "      <td>middle</td>\n",
       "      <td>专变</td>\n",
       "      <td>23</td>\n",
       "      <td>023_resident_capacity_m</td>\n",
       "    </tr>\n",
       "    <tr>\n",
       "      <th>3002910158</th>\n",
       "      <td>resident_capacity</td>\n",
       "      <td>2014.0</td>\n",
       "      <td>3002910158</td>\n",
       "      <td>ydlbdm500_capacity</td>\n",
       "      <td>0.015516</td>\n",
       "      <td>low</td>\n",
       "      <td>专变</td>\n",
       "      <td>23</td>\n",
       "      <td>023_resident_capacity_l</td>\n",
       "    </tr>\n",
       "    <tr>\n",
       "      <th>3000331918</th>\n",
       "      <td>work_capacity</td>\n",
       "      <td>2008.0</td>\n",
       "      <td>3000331918</td>\n",
       "      <td>ydlbdm300_capacity</td>\n",
       "      <td>0.119020</td>\n",
       "      <td>high</td>\n",
       "      <td>专变</td>\n",
       "      <td>23</td>\n",
       "      <td>023_work_capacity_h</td>\n",
       "    </tr>\n",
       "    <tr>\n",
       "      <th>3001761963</th>\n",
       "      <td>work_capacity</td>\n",
       "      <td>2009.0</td>\n",
       "      <td>3001761963</td>\n",
       "      <td>ydlbdm110_capacity</td>\n",
       "      <td>0.042313</td>\n",
       "      <td>middle</td>\n",
       "      <td>专变</td>\n",
       "      <td>23</td>\n",
       "      <td>023_work_capacity_m</td>\n",
       "    </tr>\n",
       "    <tr>\n",
       "      <th>3001091045</th>\n",
       "      <td>work_capacity</td>\n",
       "      <td>2009.0</td>\n",
       "      <td>3001091045</td>\n",
       "      <td>ydlbdm300_capacity</td>\n",
       "      <td>0.017241</td>\n",
       "      <td>low</td>\n",
       "      <td>专变</td>\n",
       "      <td>23</td>\n",
       "      <td>023_work_capacity_l</td>\n",
       "    </tr>\n",
       "    <tr>\n",
       "      <th>3003070246</th>\n",
       "      <td>work_capacity</td>\n",
       "      <td>2015.0</td>\n",
       "      <td>3003070246</td>\n",
       "      <td>ydlbdm300_capacity</td>\n",
       "      <td>0.004734</td>\n",
       "      <td>low</td>\n",
       "      <td>专变</td>\n",
       "      <td>23</td>\n",
       "      <td>023_work_capacity_l</td>\n",
       "    </tr>\n",
       "    <tr>\n",
       "      <th>3001723583</th>\n",
       "      <td>commerce_capacity</td>\n",
       "      <td>2009.0</td>\n",
       "      <td>3001723583</td>\n",
       "      <td>ydlbdm110_capacity</td>\n",
       "      <td>0.038702</td>\n",
       "      <td>low</td>\n",
       "      <td>专变</td>\n",
       "      <td>39</td>\n",
       "      <td>039_commerce_capacity_l</td>\n",
       "    </tr>\n",
       "    <tr>\n",
       "      <th>2222222223675612</th>\n",
       "      <td>work_capacity</td>\n",
       "      <td>2018.0</td>\n",
       "      <td>中国水利水电第八工程局有限公司</td>\n",
       "      <td>ydlbdm300_capacity</td>\n",
       "      <td>0.015793</td>\n",
       "      <td>low</td>\n",
       "      <td>专变</td>\n",
       "      <td>39</td>\n",
       "      <td>039_work_capacity_l</td>\n",
       "    </tr>\n",
       "  </tbody>\n",
       "</table>\n",
       "<p>2404 rows × 9 columns</p>\n",
       "</div>"
      ],
      "text/plain": [
       "                      industry_type    lhrq               tqmc  \\\n",
       "3000811640        industry_capacity  2009.0         3000811640   \n",
       "3001400713        industry_capacity  2009.0         3001400713   \n",
       "3001531581        industry_capacity  2009.0         3001531581   \n",
       "3001633259        industry_capacity  2009.0         3001633259   \n",
       "3001712432        industry_capacity  2009.0         3001712432   \n",
       "3001778954        industry_capacity  2009.0         3001778954   \n",
       "3001779024        industry_capacity  2012.0         3001779024   \n",
       "3001816860        industry_capacity  2009.0         3001816860   \n",
       "3002115262        industry_capacity  2009.0         3002115262   \n",
       "3002132639        industry_capacity  2009.0         3002132639   \n",
       "3002230512        industry_capacity  2009.0         3002230512   \n",
       "3002232429        industry_capacity  2009.0         3002232429   \n",
       "3002235712        industry_capacity  2009.0         3002235712   \n",
       "3002244725        industry_capacity  2009.0         3002244725   \n",
       "3002470369        industry_capacity  2010.0         3002470369   \n",
       "2222222222955167  industry_capacity  2017.0    深圳市科信通信技术股份有限公司   \n",
       "3001445974        industry_capacity  2009.0         3001445974   \n",
       "3001475492        industry_capacity  2009.0         3001475492   \n",
       "3001654236        industry_capacity  2009.0         3001654236   \n",
       "3002250527        industry_capacity  2009.0         3002250527   \n",
       "3001517255        industry_capacity  2009.0         3001517255   \n",
       "3001775352        industry_capacity  2009.0         3001775352   \n",
       "3002240744        industry_capacity  2009.0         3002240744   \n",
       "3002443927        industry_capacity  2010.0         3002443927   \n",
       "3001686545        commerce_capacity  2009.0         3001686545   \n",
       "2222222223235176  complete_capacity  2017.0     湖南省怀化公路桥梁建设总公司   \n",
       "3000762638        complete_capacity  2009.0         3000762638   \n",
       "2222222222885225  complete_capacity  2017.0      中华文学基金会深圳创作之家   \n",
       "2222222223575334      work_capacity  2018.0        深圳朗泓房地产有限公司   \n",
       "2222222223655822      work_capacity  2018.0      深圳市盐田区建筑工程事务局   \n",
       "...                             ...     ...                ...   \n",
       "3002105369        industry_capacity  2009.0         3002105369   \n",
       "3002162665        industry_capacity  2009.0         3002162665   \n",
       "3002164088        industry_capacity  2009.0         3002164088   \n",
       "3002239148        industry_capacity  2009.0         3002239148   \n",
       "3002295976        industry_capacity  2009.0         3002295976   \n",
       "3002337851        industry_capacity  2009.0         3002337851   \n",
       "3002721309        industry_capacity  2013.0         3002721309   \n",
       "3002762747        industry_capacity  2013.0         3002762747   \n",
       "3001305614        commerce_capacity  2009.0         3001305614   \n",
       "3001422550        commerce_capacity  2009.0         3001422550   \n",
       "3001997470        commerce_capacity  2009.0         3001997470   \n",
       "3002160407        commerce_capacity  2009.0         3002160407   \n",
       "3001253426        complete_capacity  2009.0         3001253426   \n",
       "3001675495            work_capacity  2009.0         3001675495   \n",
       "3001210656            work_capacity  2009.0         3001210656   \n",
       "3001445342            work_capacity  2009.0         3001445342   \n",
       "3000863169        industry_capacity  2009.0         3000863169   \n",
       "3001314406        industry_capacity  2009.0         3001314406   \n",
       "3001631074        industry_capacity  2009.0         3001631074   \n",
       "3002212835        commerce_capacity  2009.0         3002212835   \n",
       "3002709229        commerce_capacity  2012.0         3002709229   \n",
       "2222222223225126  resident_capacity  2017.0  深圳市西岸银座物业投资管理有限公司   \n",
       "2222222223655716  resident_capacity  2018.0         大新界边4#箱式公变   \n",
       "3002910158        resident_capacity  2014.0         3002910158   \n",
       "3000331918            work_capacity  2008.0         3000331918   \n",
       "3001761963            work_capacity  2009.0         3001761963   \n",
       "3001091045            work_capacity  2009.0         3001091045   \n",
       "3003070246            work_capacity  2015.0         3003070246   \n",
       "3001723583        commerce_capacity  2009.0         3001723583   \n",
       "2222222223675612      work_capacity  2018.0    中国水利水电第八工程局有限公司   \n",
       "\n",
       "                              ydlbdm  year_increase year_increase_level 公变专变  \\\n",
       "3000811640                      7127       0.093699                high   专变   \n",
       "3001400713                     14281       0.104282                high   专变   \n",
       "3001531581        ydlbdm900_capacity       0.283342                high   专变   \n",
       "3001633259                     20288       1.064289                high   专变   \n",
       "3001712432                     22574       0.682277                high   专变   \n",
       "3001778954                     25080       0.355546                high   专变   \n",
       "3001779024        ydlbdm110_capacity       0.517850                high   专变   \n",
       "3001816860                     25866       4.615514                high   专变   \n",
       "3002115262                     28416       0.992399                high   专变   \n",
       "3002132639                     28805       0.124002                high   专变   \n",
       "3002230512                     31702       2.568027                high   专变   \n",
       "3002232429                     31831       0.567014                high   专变   \n",
       "3002235712        ydlbdm110_capacity       0.181537                high   专变   \n",
       "3002244725                     32223       0.303657                high   专变   \n",
       "3002470369                     36170       0.466796                high   专变   \n",
       "2222222222955167                1159       0.063143              middle   专变   \n",
       "3001445974                     15502       0.062616              middle   专变   \n",
       "3001475492                     15801       0.040594              middle   专变   \n",
       "3001654236                     21146       0.046491              middle   专变   \n",
       "3002250527                     32338       0.051432              middle   专变   \n",
       "3001517255                     17035       0.035633                 low   专变   \n",
       "3001775352        ydlbdm110_capacity       0.035600                 low   专变   \n",
       "3002240744                     32140       0.025062                 low   专变   \n",
       "3002443927                     35815       0.012748                 low   专变   \n",
       "3001686545        ydlbdm110_capacity       1.025384                high   专变   \n",
       "2222222223235176  ydlbdm300_capacity       1.470534                high   专变   \n",
       "3000762638        ydlbdm300_capacity       0.097658                high   专变   \n",
       "2222222222885225  ydlbdm300_capacity       0.004961                 low   专变   \n",
       "2222222223575334  ydlbdm500_capacity       1.177177                high   专变   \n",
       "2222222223655822  ydlbdm300_capacity       0.381528                high   专变   \n",
       "...                              ...            ...                 ...  ...   \n",
       "3002105369                     28121       0.015746                 low   专变   \n",
       "3002162665                     29584       0.009074                 low   专变   \n",
       "3002164088                     29624       0.006275                 low   专变   \n",
       "3002239148                     32103       0.019790                 low   专变   \n",
       "3002295976        ydlbdm110_capacity       0.010102                 low   专变   \n",
       "3002337851                     34228       0.017036                 low   专变   \n",
       "3002721309                     38482       0.014253                 low   专变   \n",
       "3002762747                     39211       0.007270                 low   专变   \n",
       "3001305614                     10979       0.005352                 low   专变   \n",
       "3001422550        ydlbdm110_capacity       0.001802                 low   专变   \n",
       "3001997470        ydlbdm900_capacity       0.007294                 low   专变   \n",
       "3002160407        ydlbdm110_capacity       0.008735                 low   专变   \n",
       "3001253426        ydlbdm110_capacity       0.141777                high   专变   \n",
       "3001675495                     21453       0.215783                high   专变   \n",
       "3001210656                      9616       0.072828              middle   专变   \n",
       "3001445342                     15481       0.021924                 low   专变   \n",
       "3000863169                      7392       0.338735                high   专变   \n",
       "3001314406                     11083       0.201114                high   专变   \n",
       "3001631074                     20202       0.288939                high   专变   \n",
       "3002212835        ydlbdm300_capacity       0.126073                high   专变   \n",
       "3002709229        ydlbdm300_capacity       0.051505              middle   专变   \n",
       "2222222223225126  ydlbdm500_capacity       0.273369                high   专变   \n",
       "2222222223655716                3175       0.072140              middle   专变   \n",
       "3002910158        ydlbdm500_capacity       0.015516                 low   专变   \n",
       "3000331918        ydlbdm300_capacity       0.119020                high   专变   \n",
       "3001761963        ydlbdm110_capacity       0.042313              middle   专变   \n",
       "3001091045        ydlbdm300_capacity       0.017241                 low   专变   \n",
       "3003070246        ydlbdm300_capacity       0.004734                 low   专变   \n",
       "3001723583        ydlbdm110_capacity       0.038702                 low   专变   \n",
       "2222222223675612  ydlbdm300_capacity       0.015793                 low   专变   \n",
       "\n",
       "                  类序号                     编码结构  \n",
       "3000811640         15  015_industry_capacity_h  \n",
       "3001400713         15  015_industry_capacity_h  \n",
       "3001531581         15  015_industry_capacity_h  \n",
       "3001633259         15  015_industry_capacity_h  \n",
       "3001712432         15  015_industry_capacity_h  \n",
       "3001778954         15  015_industry_capacity_h  \n",
       "3001779024         15  015_industry_capacity_h  \n",
       "3001816860         15  015_industry_capacity_h  \n",
       "3002115262         15  015_industry_capacity_h  \n",
       "3002132639         15  015_industry_capacity_h  \n",
       "3002230512         15  015_industry_capacity_h  \n",
       "3002232429         15  015_industry_capacity_h  \n",
       "3002235712         15  015_industry_capacity_h  \n",
       "3002244725         15  015_industry_capacity_h  \n",
       "3002470369         15  015_industry_capacity_h  \n",
       "2222222222955167   15  015_industry_capacity_m  \n",
       "3001445974         15  015_industry_capacity_m  \n",
       "3001475492         15  015_industry_capacity_m  \n",
       "3001654236         15  015_industry_capacity_m  \n",
       "3002250527         15  015_industry_capacity_m  \n",
       "3001517255         15  015_industry_capacity_l  \n",
       "3001775352         15  015_industry_capacity_l  \n",
       "3002240744         15  015_industry_capacity_l  \n",
       "3002443927         15  015_industry_capacity_l  \n",
       "3001686545         15  015_commerce_capacity_h  \n",
       "2222222223235176   15  015_complete_capacity_h  \n",
       "3000762638         15  015_complete_capacity_h  \n",
       "2222222222885225   15  015_complete_capacity_l  \n",
       "2222222223575334   15      015_work_capacity_h  \n",
       "2222222223655822   15      015_work_capacity_h  \n",
       "...               ...                      ...  \n",
       "3002105369         20  020_industry_capacity_l  \n",
       "3002162665         20  020_industry_capacity_l  \n",
       "3002164088         20  020_industry_capacity_l  \n",
       "3002239148         20  020_industry_capacity_l  \n",
       "3002295976         20  020_industry_capacity_l  \n",
       "3002337851         20  020_industry_capacity_l  \n",
       "3002721309         20  020_industry_capacity_l  \n",
       "3002762747         20  020_industry_capacity_l  \n",
       "3001305614         20  020_commerce_capacity_l  \n",
       "3001422550         20  020_commerce_capacity_l  \n",
       "3001997470         20  020_commerce_capacity_l  \n",
       "3002160407         20  020_commerce_capacity_l  \n",
       "3001253426         20  020_complete_capacity_h  \n",
       "3001675495         20      020_work_capacity_h  \n",
       "3001210656         20      020_work_capacity_m  \n",
       "3001445342         20      020_work_capacity_l  \n",
       "3000863169         23  023_industry_capacity_h  \n",
       "3001314406         23  023_industry_capacity_h  \n",
       "3001631074         23  023_industry_capacity_h  \n",
       "3002212835         23  023_commerce_capacity_h  \n",
       "3002709229         23  023_commerce_capacity_m  \n",
       "2222222223225126   23  023_resident_capacity_h  \n",
       "2222222223655716   23  023_resident_capacity_m  \n",
       "3002910158         23  023_resident_capacity_l  \n",
       "3000331918         23      023_work_capacity_h  \n",
       "3001761963         23      023_work_capacity_m  \n",
       "3001091045         23      023_work_capacity_l  \n",
       "3003070246         23      023_work_capacity_l  \n",
       "3001723583         39  039_commerce_capacity_l  \n",
       "2222222223675612   39      039_work_capacity_l  \n",
       "\n",
       "[2404 rows x 9 columns]"
      ]
     },
     "execution_count": 3,
     "metadata": {},
     "output_type": "execute_result"
    }
   ],
   "source": [
    "df_coding_structure"
   ]
  },
  {
   "cell_type": "code",
   "execution_count": 4,
   "metadata": {},
   "outputs": [
    {
     "data": {
      "text/html": [
       "<div>\n",
       "<style scoped>\n",
       "    .dataframe tbody tr th:only-of-type {\n",
       "        vertical-align: middle;\n",
       "    }\n",
       "\n",
       "    .dataframe tbody tr th {\n",
       "        vertical-align: top;\n",
       "    }\n",
       "\n",
       "    .dataframe thead th {\n",
       "        text-align: right;\n",
       "    }\n",
       "</style>\n",
       "<table border=\"1\" class=\"dataframe\">\n",
       "  <thead>\n",
       "    <tr style=\"text-align: right;\">\n",
       "      <th></th>\n",
       "      <th>year_increase</th>\n",
       "      <th>编码结构</th>\n",
       "    </tr>\n",
       "    <tr>\n",
       "      <th>lhrq</th>\n",
       "      <th></th>\n",
       "      <th></th>\n",
       "    </tr>\n",
       "  </thead>\n",
       "  <tbody>\n",
       "    <tr>\n",
       "      <th>2009</th>\n",
       "      <td>0.009028</td>\n",
       "      <td>016_commerce_capacity_l</td>\n",
       "    </tr>\n",
       "    <tr>\n",
       "      <th>2010</th>\n",
       "      <td>0.003369</td>\n",
       "      <td>016_commerce_capacity_l</td>\n",
       "    </tr>\n",
       "    <tr>\n",
       "      <th>2011</th>\n",
       "      <td>0.017941</td>\n",
       "      <td>016_commerce_capacity_l</td>\n",
       "    </tr>\n",
       "    <tr>\n",
       "      <th>2012</th>\n",
       "      <td>0.012919</td>\n",
       "      <td>016_commerce_capacity_l</td>\n",
       "    </tr>\n",
       "    <tr>\n",
       "      <th>2013</th>\n",
       "      <td>0.007897</td>\n",
       "      <td>016_commerce_capacity_l</td>\n",
       "    </tr>\n",
       "  </tbody>\n",
       "</table>\n",
       "</div>"
      ],
      "text/plain": [
       "      year_increase                     编码结构\n",
       "lhrq                                        \n",
       "2009       0.009028  016_commerce_capacity_l\n",
       "2010       0.003369  016_commerce_capacity_l\n",
       "2011       0.017941  016_commerce_capacity_l\n",
       "2012       0.012919  016_commerce_capacity_l\n",
       "2013       0.007897  016_commerce_capacity_l"
      ]
     },
     "execution_count": 4,
     "metadata": {},
     "output_type": "execute_result"
    }
   ],
   "source": [
    "df_S_Curve.head()"
   ]
  },
  {
   "cell_type": "code",
   "execution_count": 5,
   "metadata": {},
   "outputs": [],
   "source": [
    "df_coding_structure = df_coding_structure[df_coding_structure['编码结构'].isin(df_S_Curve['编码结构'])]"
   ]
  },
  {
   "cell_type": "code",
   "execution_count": 6,
   "metadata": {},
   "outputs": [],
   "source": [
    "# 删除含有负值和零值的行\n",
    "# datatemp=data.drop(columns=['tqlx','tqmc','bs'])\n",
    "# droplist=[]\n",
    "# for i in range(len(datatemp.index)):\n",
    "#     if (datatemp.iloc[i].values<=np.array(0)).any():\n",
    "#         droplist.append(datatemp.iloc[i].name)\n",
    "# data=data.drop(labels=droplist)\n",
    "# data.head()"
   ]
  },
  {
   "cell_type": "code",
   "execution_count": 7,
   "metadata": {},
   "outputs": [],
   "source": [
    "#每一行的空值用每一行的平均值来填充\n",
    "# for row in data.index:\n",
    "#     data.loc[row].fillna(data.loc[row].drop(['tqlx','tqmc','bs']).mean(),inplace=True)\n",
    "# data.head()"
   ]
  },
  {
   "cell_type": "code",
   "execution_count": 8,
   "metadata": {},
   "outputs": [],
   "source": [
    "data.bs = data.bs.apply(lambda x:x[1:])"
   ]
  },
  {
   "cell_type": "code",
   "execution_count": 9,
   "metadata": {},
   "outputs": [],
   "source": [
    "index_list = df_coding_structure.index.tolist()\n",
    "index_str_list = [str(x) for x in index_list]\n",
    "df_coding_structure.index = index_str_list"
   ]
  },
  {
   "cell_type": "code",
   "execution_count": 10,
   "metadata": {},
   "outputs": [],
   "source": [
    "data = data[data['bs'].isin(df_coding_structure.index)]"
   ]
  },
  {
   "cell_type": "code",
   "execution_count": 11,
   "metadata": {},
   "outputs": [
    {
     "data": {
      "text/html": [
       "<div>\n",
       "<style scoped>\n",
       "    .dataframe tbody tr th:only-of-type {\n",
       "        vertical-align: middle;\n",
       "    }\n",
       "\n",
       "    .dataframe tbody tr th {\n",
       "        vertical-align: top;\n",
       "    }\n",
       "\n",
       "    .dataframe thead th {\n",
       "        text-align: right;\n",
       "    }\n",
       "</style>\n",
       "<table border=\"1\" class=\"dataframe\">\n",
       "  <thead>\n",
       "    <tr style=\"text-align: right;\">\n",
       "      <th></th>\n",
       "      <th>bs</th>\n",
       "      <th>2017/6/8</th>\n",
       "      <th>2017/6/15</th>\n",
       "      <th>2017/6/22</th>\n",
       "      <th>2017/6/29</th>\n",
       "      <th>2017/7/6</th>\n",
       "      <th>2017/7/13</th>\n",
       "      <th>2017/7/20</th>\n",
       "      <th>2017/7/27</th>\n",
       "      <th>2017/8/3</th>\n",
       "      <th>...</th>\n",
       "      <th>2019/3/21</th>\n",
       "      <th>2019/3/28</th>\n",
       "      <th>2019/4/4</th>\n",
       "      <th>2019/4/11</th>\n",
       "      <th>2019/4/18</th>\n",
       "      <th>2019/4/25</th>\n",
       "      <th>2019/5/2</th>\n",
       "      <th>2019/5/9</th>\n",
       "      <th>2019/5/16</th>\n",
       "      <th>2019/5/23</th>\n",
       "    </tr>\n",
       "  </thead>\n",
       "  <tbody>\n",
       "    <tr>\n",
       "      <th>4823</th>\n",
       "      <td>3000950193</td>\n",
       "      <td>86.520</td>\n",
       "      <td>82.740</td>\n",
       "      <td>84.740</td>\n",
       "      <td>79.640</td>\n",
       "      <td>198.340</td>\n",
       "      <td>84.440</td>\n",
       "      <td>76.860</td>\n",
       "      <td>81.460</td>\n",
       "      <td>59.440</td>\n",
       "      <td>...</td>\n",
       "      <td>79.020</td>\n",
       "      <td>69.860</td>\n",
       "      <td>65.500</td>\n",
       "      <td>78.260</td>\n",
       "      <td>74.140</td>\n",
       "      <td>71.560</td>\n",
       "      <td>98.180</td>\n",
       "      <td>99.680</td>\n",
       "      <td>99.340</td>\n",
       "      <td>96.680</td>\n",
       "    </tr>\n",
       "    <tr>\n",
       "      <th>5440</th>\n",
       "      <td>3001055329</td>\n",
       "      <td>8.456</td>\n",
       "      <td>68.488</td>\n",
       "      <td>64.752</td>\n",
       "      <td>9.260</td>\n",
       "      <td>69.764</td>\n",
       "      <td>69.176</td>\n",
       "      <td>68.936</td>\n",
       "      <td>68.568</td>\n",
       "      <td>64.676</td>\n",
       "      <td>...</td>\n",
       "      <td>54.296</td>\n",
       "      <td>43.604</td>\n",
       "      <td>48.852</td>\n",
       "      <td>57.416</td>\n",
       "      <td>55.692</td>\n",
       "      <td>48.904</td>\n",
       "      <td>51.672</td>\n",
       "      <td>51.208</td>\n",
       "      <td>60.456</td>\n",
       "      <td>54.464</td>\n",
       "    </tr>\n",
       "    <tr>\n",
       "      <th>5944</th>\n",
       "      <td>3001073993</td>\n",
       "      <td>3.500</td>\n",
       "      <td>2.600</td>\n",
       "      <td>3.100</td>\n",
       "      <td>0.000</td>\n",
       "      <td>0.000</td>\n",
       "      <td>0.000</td>\n",
       "      <td>0.000</td>\n",
       "      <td>0.000</td>\n",
       "      <td>0.000</td>\n",
       "      <td>...</td>\n",
       "      <td>90.400</td>\n",
       "      <td>89.900</td>\n",
       "      <td>77.450</td>\n",
       "      <td>96.700</td>\n",
       "      <td>98.900</td>\n",
       "      <td>77.200</td>\n",
       "      <td>89.150</td>\n",
       "      <td>93.200</td>\n",
       "      <td>91.500</td>\n",
       "      <td>94.950</td>\n",
       "    </tr>\n",
       "    <tr>\n",
       "      <th>5963</th>\n",
       "      <td>3001075068</td>\n",
       "      <td>NaN</td>\n",
       "      <td>NaN</td>\n",
       "      <td>NaN</td>\n",
       "      <td>1.744</td>\n",
       "      <td>3.856</td>\n",
       "      <td>4.064</td>\n",
       "      <td>4.064</td>\n",
       "      <td>0.000</td>\n",
       "      <td>0.000</td>\n",
       "      <td>...</td>\n",
       "      <td>75.420</td>\n",
       "      <td>65.880</td>\n",
       "      <td>41.700</td>\n",
       "      <td>90.480</td>\n",
       "      <td>88.200</td>\n",
       "      <td>68.520</td>\n",
       "      <td>85.140</td>\n",
       "      <td>96.180</td>\n",
       "      <td>90.480</td>\n",
       "      <td>91.680</td>\n",
       "    </tr>\n",
       "    <tr>\n",
       "      <th>6637</th>\n",
       "      <td>3001161312</td>\n",
       "      <td>43.494</td>\n",
       "      <td>36.768</td>\n",
       "      <td>42.078</td>\n",
       "      <td>42.966</td>\n",
       "      <td>47.436</td>\n",
       "      <td>52.791</td>\n",
       "      <td>46.371</td>\n",
       "      <td>47.163</td>\n",
       "      <td>48.000</td>\n",
       "      <td>...</td>\n",
       "      <td>88.989</td>\n",
       "      <td>78.276</td>\n",
       "      <td>84.546</td>\n",
       "      <td>95.220</td>\n",
       "      <td>83.397</td>\n",
       "      <td>88.575</td>\n",
       "      <td>99.669</td>\n",
       "      <td>92.886</td>\n",
       "      <td>98.910</td>\n",
       "      <td>97.017</td>\n",
       "    </tr>\n",
       "  </tbody>\n",
       "</table>\n",
       "<p>5 rows × 104 columns</p>\n",
       "</div>"
      ],
      "text/plain": [
       "              bs  2017/6/8  2017/6/15  2017/6/22  2017/6/29  2017/7/6  \\\n",
       "4823  3000950193    86.520     82.740     84.740     79.640   198.340   \n",
       "5440  3001055329     8.456     68.488     64.752      9.260    69.764   \n",
       "5944  3001073993     3.500      2.600      3.100      0.000     0.000   \n",
       "5963  3001075068       NaN        NaN        NaN      1.744     3.856   \n",
       "6637  3001161312    43.494     36.768     42.078     42.966    47.436   \n",
       "\n",
       "      2017/7/13  2017/7/20  2017/7/27  2017/8/3  ...  2019/3/21  2019/3/28  \\\n",
       "4823     84.440     76.860     81.460    59.440  ...     79.020     69.860   \n",
       "5440     69.176     68.936     68.568    64.676  ...     54.296     43.604   \n",
       "5944      0.000      0.000      0.000     0.000  ...     90.400     89.900   \n",
       "5963      4.064      4.064      0.000     0.000  ...     75.420     65.880   \n",
       "6637     52.791     46.371     47.163    48.000  ...     88.989     78.276   \n",
       "\n",
       "      2019/4/4  2019/4/11  2019/4/18  2019/4/25  2019/5/2  2019/5/9  \\\n",
       "4823    65.500     78.260     74.140     71.560    98.180    99.680   \n",
       "5440    48.852     57.416     55.692     48.904    51.672    51.208   \n",
       "5944    77.450     96.700     98.900     77.200    89.150    93.200   \n",
       "5963    41.700     90.480     88.200     68.520    85.140    96.180   \n",
       "6637    84.546     95.220     83.397     88.575    99.669    92.886   \n",
       "\n",
       "      2019/5/16  2019/5/23  \n",
       "4823     99.340     96.680  \n",
       "5440     60.456     54.464  \n",
       "5944     91.500     94.950  \n",
       "5963     90.480     91.680  \n",
       "6637     98.910     97.017  \n",
       "\n",
       "[5 rows x 104 columns]"
      ]
     },
     "execution_count": 11,
     "metadata": {},
     "output_type": "execute_result"
    }
   ],
   "source": [
    "#tqlx和tqmc在时间序列分析中暂时用不到，删除\n",
    "data_time_series = data.drop(columns=['tqlx','tqmc','2017','2018','2019','year_increase','year_increase_level'])\n",
    "data_time_series.head()"
   ]
  },
  {
   "cell_type": "code",
   "execution_count": 12,
   "metadata": {},
   "outputs": [
    {
     "data": {
      "text/html": [
       "<div>\n",
       "<style scoped>\n",
       "    .dataframe tbody tr th:only-of-type {\n",
       "        vertical-align: middle;\n",
       "    }\n",
       "\n",
       "    .dataframe tbody tr th {\n",
       "        vertical-align: top;\n",
       "    }\n",
       "\n",
       "    .dataframe thead th {\n",
       "        text-align: right;\n",
       "    }\n",
       "</style>\n",
       "<table border=\"1\" class=\"dataframe\">\n",
       "  <thead>\n",
       "    <tr style=\"text-align: right;\">\n",
       "      <th>bs</th>\n",
       "      <th>3000950193</th>\n",
       "      <th>3001055329</th>\n",
       "      <th>3001073993</th>\n",
       "      <th>3001075068</th>\n",
       "      <th>3001161312</th>\n",
       "      <th>3001174579</th>\n",
       "      <th>3001216822</th>\n",
       "      <th>3001228867</th>\n",
       "      <th>3001339479</th>\n",
       "      <th>3001345295</th>\n",
       "      <th>...</th>\n",
       "      <th>3002691142</th>\n",
       "      <th>3002735757</th>\n",
       "      <th>3002754352</th>\n",
       "      <th>3002761396</th>\n",
       "      <th>3002772434</th>\n",
       "      <th>3002950030</th>\n",
       "      <th>3003021784</th>\n",
       "      <th>3003070285</th>\n",
       "      <th>3001796480</th>\n",
       "      <th>2222222223020381</th>\n",
       "    </tr>\n",
       "  </thead>\n",
       "  <tbody>\n",
       "    <tr>\n",
       "      <th>2017/6/8</th>\n",
       "      <td>86.52</td>\n",
       "      <td>8.456</td>\n",
       "      <td>3.5</td>\n",
       "      <td>NaN</td>\n",
       "      <td>43.494</td>\n",
       "      <td>22.96</td>\n",
       "      <td>33.076</td>\n",
       "      <td>0</td>\n",
       "      <td>33.04</td>\n",
       "      <td>94.1</td>\n",
       "      <td>...</td>\n",
       "      <td>709.6</td>\n",
       "      <td>344.05</td>\n",
       "      <td>3.5</td>\n",
       "      <td>71.856</td>\n",
       "      <td>435.15</td>\n",
       "      <td>331.2</td>\n",
       "      <td>530.24</td>\n",
       "      <td>50.48</td>\n",
       "      <td>636.1</td>\n",
       "      <td>0</td>\n",
       "    </tr>\n",
       "    <tr>\n",
       "      <th>2017/6/15</th>\n",
       "      <td>82.74</td>\n",
       "      <td>68.488</td>\n",
       "      <td>2.6</td>\n",
       "      <td>NaN</td>\n",
       "      <td>36.768</td>\n",
       "      <td>24.384</td>\n",
       "      <td>35.38</td>\n",
       "      <td>0</td>\n",
       "      <td>36.08</td>\n",
       "      <td>85.35</td>\n",
       "      <td>...</td>\n",
       "      <td>667.2</td>\n",
       "      <td>341.25</td>\n",
       "      <td>92.5</td>\n",
       "      <td>59.432</td>\n",
       "      <td>474.6</td>\n",
       "      <td>312.6</td>\n",
       "      <td>492.56</td>\n",
       "      <td>48.88</td>\n",
       "      <td>646.9</td>\n",
       "      <td>0</td>\n",
       "    </tr>\n",
       "    <tr>\n",
       "      <th>2017/6/22</th>\n",
       "      <td>84.74</td>\n",
       "      <td>64.752</td>\n",
       "      <td>3.1</td>\n",
       "      <td>NaN</td>\n",
       "      <td>42.078</td>\n",
       "      <td>26.248</td>\n",
       "      <td>32.72</td>\n",
       "      <td>0</td>\n",
       "      <td>99.68</td>\n",
       "      <td>81.75</td>\n",
       "      <td>...</td>\n",
       "      <td>704.8</td>\n",
       "      <td>314.4</td>\n",
       "      <td>92.25</td>\n",
       "      <td>73.024</td>\n",
       "      <td>385.65</td>\n",
       "      <td>70.2</td>\n",
       "      <td>493.68</td>\n",
       "      <td>53.12</td>\n",
       "      <td>698.5</td>\n",
       "      <td>0</td>\n",
       "    </tr>\n",
       "    <tr>\n",
       "      <th>2017/6/29</th>\n",
       "      <td>79.64</td>\n",
       "      <td>9.26</td>\n",
       "      <td>0</td>\n",
       "      <td>1.744</td>\n",
       "      <td>42.966</td>\n",
       "      <td>24.216</td>\n",
       "      <td>35.492</td>\n",
       "      <td>0</td>\n",
       "      <td>38.96</td>\n",
       "      <td>87.1</td>\n",
       "      <td>...</td>\n",
       "      <td>743.6</td>\n",
       "      <td>323.8</td>\n",
       "      <td>93.3</td>\n",
       "      <td>64.368</td>\n",
       "      <td>458.7</td>\n",
       "      <td>59.4</td>\n",
       "      <td>496.88</td>\n",
       "      <td>49.84</td>\n",
       "      <td>735.6</td>\n",
       "      <td>0</td>\n",
       "    </tr>\n",
       "    <tr>\n",
       "      <th>2017/7/6</th>\n",
       "      <td>198.34</td>\n",
       "      <td>69.764</td>\n",
       "      <td>0</td>\n",
       "      <td>3.856</td>\n",
       "      <td>47.436</td>\n",
       "      <td>27.924</td>\n",
       "      <td>34.788</td>\n",
       "      <td>0</td>\n",
       "      <td>42.64</td>\n",
       "      <td>93.35</td>\n",
       "      <td>...</td>\n",
       "      <td>800</td>\n",
       "      <td>287.35</td>\n",
       "      <td>108.2</td>\n",
       "      <td>80.64</td>\n",
       "      <td>445.35</td>\n",
       "      <td>394.8</td>\n",
       "      <td>526.64</td>\n",
       "      <td>56</td>\n",
       "      <td>815</td>\n",
       "      <td>0</td>\n",
       "    </tr>\n",
       "  </tbody>\n",
       "</table>\n",
       "<p>5 rows × 99 columns</p>\n",
       "</div>"
      ],
      "text/plain": [
       "bs        3000950193 3001055329 3001073993 3001075068 3001161312 3001174579  \\\n",
       "2017/6/8       86.52      8.456        3.5        NaN     43.494      22.96   \n",
       "2017/6/15      82.74     68.488        2.6        NaN     36.768     24.384   \n",
       "2017/6/22      84.74     64.752        3.1        NaN     42.078     26.248   \n",
       "2017/6/29      79.64       9.26          0      1.744     42.966     24.216   \n",
       "2017/7/6      198.34     69.764          0      3.856     47.436     27.924   \n",
       "\n",
       "bs        3001216822 3001228867 3001339479 3001345295  ... 3002691142  \\\n",
       "2017/6/8      33.076          0      33.04       94.1  ...      709.6   \n",
       "2017/6/15      35.38          0      36.08      85.35  ...      667.2   \n",
       "2017/6/22      32.72          0      99.68      81.75  ...      704.8   \n",
       "2017/6/29     35.492          0      38.96       87.1  ...      743.6   \n",
       "2017/7/6      34.788          0      42.64      93.35  ...        800   \n",
       "\n",
       "bs        3002735757 3002754352 3002761396 3002772434 3002950030 3003021784  \\\n",
       "2017/6/8      344.05        3.5     71.856     435.15      331.2     530.24   \n",
       "2017/6/15     341.25       92.5     59.432      474.6      312.6     492.56   \n",
       "2017/6/22      314.4      92.25     73.024     385.65       70.2     493.68   \n",
       "2017/6/29      323.8       93.3     64.368      458.7       59.4     496.88   \n",
       "2017/7/6      287.35      108.2      80.64     445.35      394.8     526.64   \n",
       "\n",
       "bs        3003070285 3001796480 2222222223020381  \n",
       "2017/6/8       50.48      636.1                0  \n",
       "2017/6/15      48.88      646.9                0  \n",
       "2017/6/22      53.12      698.5                0  \n",
       "2017/6/29      49.84      735.6                0  \n",
       "2017/7/6          56        815                0  \n",
       "\n",
       "[5 rows x 99 columns]"
      ]
     },
     "execution_count": 12,
     "metadata": {},
     "output_type": "execute_result"
    }
   ],
   "source": [
    "#转置\n",
    "data_time_series.set_index('bs')\n",
    "data_time_series=data_time_series.T\n",
    "#把标识行设为列名\n",
    "data_time_series.columns = data_time_series.iloc[0]\n",
    "data_time_series.drop(index='bs',inplace=True)\n",
    "data_time_series.head()"
   ]
  },
  {
   "cell_type": "code",
   "execution_count": 13,
   "metadata": {},
   "outputs": [
    {
     "data": {
      "text/html": [
       "<div>\n",
       "<style scoped>\n",
       "    .dataframe tbody tr th:only-of-type {\n",
       "        vertical-align: middle;\n",
       "    }\n",
       "\n",
       "    .dataframe tbody tr th {\n",
       "        vertical-align: top;\n",
       "    }\n",
       "\n",
       "    .dataframe thead th {\n",
       "        text-align: right;\n",
       "    }\n",
       "</style>\n",
       "<table border=\"1\" class=\"dataframe\">\n",
       "  <thead>\n",
       "    <tr style=\"text-align: right;\">\n",
       "      <th>bs</th>\n",
       "      <th>time_series</th>\n",
       "      <th>3000950193</th>\n",
       "      <th>3001055329</th>\n",
       "      <th>3001073993</th>\n",
       "      <th>3001075068</th>\n",
       "      <th>3001161312</th>\n",
       "      <th>3001174579</th>\n",
       "      <th>3001216822</th>\n",
       "      <th>3001228867</th>\n",
       "      <th>3001339479</th>\n",
       "      <th>...</th>\n",
       "      <th>3002691142</th>\n",
       "      <th>3002735757</th>\n",
       "      <th>3002754352</th>\n",
       "      <th>3002761396</th>\n",
       "      <th>3002772434</th>\n",
       "      <th>3002950030</th>\n",
       "      <th>3003021784</th>\n",
       "      <th>3003070285</th>\n",
       "      <th>3001796480</th>\n",
       "      <th>2222222223020381</th>\n",
       "    </tr>\n",
       "  </thead>\n",
       "  <tbody>\n",
       "    <tr>\n",
       "      <th>0</th>\n",
       "      <td>2017/6/8</td>\n",
       "      <td>86.52</td>\n",
       "      <td>8.456</td>\n",
       "      <td>3.5</td>\n",
       "      <td>NaN</td>\n",
       "      <td>43.494</td>\n",
       "      <td>22.96</td>\n",
       "      <td>33.076</td>\n",
       "      <td>0</td>\n",
       "      <td>33.04</td>\n",
       "      <td>...</td>\n",
       "      <td>709.6</td>\n",
       "      <td>344.05</td>\n",
       "      <td>3.5</td>\n",
       "      <td>71.856</td>\n",
       "      <td>435.15</td>\n",
       "      <td>331.2</td>\n",
       "      <td>530.24</td>\n",
       "      <td>50.48</td>\n",
       "      <td>636.1</td>\n",
       "      <td>0</td>\n",
       "    </tr>\n",
       "    <tr>\n",
       "      <th>1</th>\n",
       "      <td>2017/6/15</td>\n",
       "      <td>82.74</td>\n",
       "      <td>68.488</td>\n",
       "      <td>2.6</td>\n",
       "      <td>NaN</td>\n",
       "      <td>36.768</td>\n",
       "      <td>24.384</td>\n",
       "      <td>35.38</td>\n",
       "      <td>0</td>\n",
       "      <td>36.08</td>\n",
       "      <td>...</td>\n",
       "      <td>667.2</td>\n",
       "      <td>341.25</td>\n",
       "      <td>92.5</td>\n",
       "      <td>59.432</td>\n",
       "      <td>474.6</td>\n",
       "      <td>312.6</td>\n",
       "      <td>492.56</td>\n",
       "      <td>48.88</td>\n",
       "      <td>646.9</td>\n",
       "      <td>0</td>\n",
       "    </tr>\n",
       "    <tr>\n",
       "      <th>2</th>\n",
       "      <td>2017/6/22</td>\n",
       "      <td>84.74</td>\n",
       "      <td>64.752</td>\n",
       "      <td>3.1</td>\n",
       "      <td>NaN</td>\n",
       "      <td>42.078</td>\n",
       "      <td>26.248</td>\n",
       "      <td>32.72</td>\n",
       "      <td>0</td>\n",
       "      <td>99.68</td>\n",
       "      <td>...</td>\n",
       "      <td>704.8</td>\n",
       "      <td>314.4</td>\n",
       "      <td>92.25</td>\n",
       "      <td>73.024</td>\n",
       "      <td>385.65</td>\n",
       "      <td>70.2</td>\n",
       "      <td>493.68</td>\n",
       "      <td>53.12</td>\n",
       "      <td>698.5</td>\n",
       "      <td>0</td>\n",
       "    </tr>\n",
       "    <tr>\n",
       "      <th>3</th>\n",
       "      <td>2017/6/29</td>\n",
       "      <td>79.64</td>\n",
       "      <td>9.26</td>\n",
       "      <td>0</td>\n",
       "      <td>1.744</td>\n",
       "      <td>42.966</td>\n",
       "      <td>24.216</td>\n",
       "      <td>35.492</td>\n",
       "      <td>0</td>\n",
       "      <td>38.96</td>\n",
       "      <td>...</td>\n",
       "      <td>743.6</td>\n",
       "      <td>323.8</td>\n",
       "      <td>93.3</td>\n",
       "      <td>64.368</td>\n",
       "      <td>458.7</td>\n",
       "      <td>59.4</td>\n",
       "      <td>496.88</td>\n",
       "      <td>49.84</td>\n",
       "      <td>735.6</td>\n",
       "      <td>0</td>\n",
       "    </tr>\n",
       "    <tr>\n",
       "      <th>4</th>\n",
       "      <td>2017/7/6</td>\n",
       "      <td>198.34</td>\n",
       "      <td>69.764</td>\n",
       "      <td>0</td>\n",
       "      <td>3.856</td>\n",
       "      <td>47.436</td>\n",
       "      <td>27.924</td>\n",
       "      <td>34.788</td>\n",
       "      <td>0</td>\n",
       "      <td>42.64</td>\n",
       "      <td>...</td>\n",
       "      <td>800</td>\n",
       "      <td>287.35</td>\n",
       "      <td>108.2</td>\n",
       "      <td>80.64</td>\n",
       "      <td>445.35</td>\n",
       "      <td>394.8</td>\n",
       "      <td>526.64</td>\n",
       "      <td>56</td>\n",
       "      <td>815</td>\n",
       "      <td>0</td>\n",
       "    </tr>\n",
       "  </tbody>\n",
       "</table>\n",
       "<p>5 rows × 100 columns</p>\n",
       "</div>"
      ],
      "text/plain": [
       "bs time_series 3000950193 3001055329 3001073993 3001075068 3001161312  \\\n",
       "0     2017/6/8      86.52      8.456        3.5        NaN     43.494   \n",
       "1    2017/6/15      82.74     68.488        2.6        NaN     36.768   \n",
       "2    2017/6/22      84.74     64.752        3.1        NaN     42.078   \n",
       "3    2017/6/29      79.64       9.26          0      1.744     42.966   \n",
       "4     2017/7/6     198.34     69.764          0      3.856     47.436   \n",
       "\n",
       "bs 3001174579 3001216822 3001228867 3001339479  ... 3002691142 3002735757  \\\n",
       "0       22.96     33.076          0      33.04  ...      709.6     344.05   \n",
       "1      24.384      35.38          0      36.08  ...      667.2     341.25   \n",
       "2      26.248      32.72          0      99.68  ...      704.8      314.4   \n",
       "3      24.216     35.492          0      38.96  ...      743.6      323.8   \n",
       "4      27.924     34.788          0      42.64  ...        800     287.35   \n",
       "\n",
       "bs 3002754352 3002761396 3002772434 3002950030 3003021784 3003070285  \\\n",
       "0         3.5     71.856     435.15      331.2     530.24      50.48   \n",
       "1        92.5     59.432      474.6      312.6     492.56      48.88   \n",
       "2       92.25     73.024     385.65       70.2     493.68      53.12   \n",
       "3        93.3     64.368      458.7       59.4     496.88      49.84   \n",
       "4       108.2      80.64     445.35      394.8     526.64         56   \n",
       "\n",
       "bs 3001796480 2222222223020381  \n",
       "0       636.1                0  \n",
       "1       646.9                0  \n",
       "2       698.5                0  \n",
       "3       735.6                0  \n",
       "4         815                0  \n",
       "\n",
       "[5 rows x 100 columns]"
      ]
     },
     "execution_count": 13,
     "metadata": {},
     "output_type": "execute_result"
    }
   ],
   "source": [
    "#将索引变为列，方便之后格式转换\n",
    "data_time_series.index.names=['time_series']\n",
    "data_time_series=data_time_series.reset_index()\n",
    "data_time_series.head()"
   ]
  },
  {
   "cell_type": "markdown",
   "metadata": {},
   "source": [
    "Reading as datetime format:"
   ]
  },
  {
   "cell_type": "code",
   "execution_count": 14,
   "metadata": {},
   "outputs": [
    {
     "data": {
      "text/html": [
       "<div>\n",
       "<style scoped>\n",
       "    .dataframe tbody tr th:only-of-type {\n",
       "        vertical-align: middle;\n",
       "    }\n",
       "\n",
       "    .dataframe tbody tr th {\n",
       "        vertical-align: top;\n",
       "    }\n",
       "\n",
       "    .dataframe thead th {\n",
       "        text-align: right;\n",
       "    }\n",
       "</style>\n",
       "<table border=\"1\" class=\"dataframe\">\n",
       "  <thead>\n",
       "    <tr style=\"text-align: right;\">\n",
       "      <th>bs</th>\n",
       "      <th>time_series</th>\n",
       "      <th>3000950193</th>\n",
       "      <th>3001055329</th>\n",
       "      <th>3001073993</th>\n",
       "      <th>3001075068</th>\n",
       "      <th>3001161312</th>\n",
       "      <th>3001174579</th>\n",
       "      <th>3001216822</th>\n",
       "      <th>3001228867</th>\n",
       "      <th>3001339479</th>\n",
       "      <th>...</th>\n",
       "      <th>3002691142</th>\n",
       "      <th>3002735757</th>\n",
       "      <th>3002754352</th>\n",
       "      <th>3002761396</th>\n",
       "      <th>3002772434</th>\n",
       "      <th>3002950030</th>\n",
       "      <th>3003021784</th>\n",
       "      <th>3003070285</th>\n",
       "      <th>3001796480</th>\n",
       "      <th>2222222223020381</th>\n",
       "    </tr>\n",
       "  </thead>\n",
       "  <tbody>\n",
       "    <tr>\n",
       "      <th>0</th>\n",
       "      <td>2017/6/8</td>\n",
       "      <td>86.52</td>\n",
       "      <td>8.456</td>\n",
       "      <td>3.5</td>\n",
       "      <td>NaN</td>\n",
       "      <td>43.494</td>\n",
       "      <td>22.96</td>\n",
       "      <td>33.076</td>\n",
       "      <td>0</td>\n",
       "      <td>33.04</td>\n",
       "      <td>...</td>\n",
       "      <td>709.6</td>\n",
       "      <td>344.05</td>\n",
       "      <td>3.5</td>\n",
       "      <td>71.856</td>\n",
       "      <td>435.15</td>\n",
       "      <td>331.2</td>\n",
       "      <td>530.24</td>\n",
       "      <td>50.48</td>\n",
       "      <td>636.1</td>\n",
       "      <td>0</td>\n",
       "    </tr>\n",
       "    <tr>\n",
       "      <th>1</th>\n",
       "      <td>2017/6/15</td>\n",
       "      <td>82.74</td>\n",
       "      <td>68.488</td>\n",
       "      <td>2.6</td>\n",
       "      <td>NaN</td>\n",
       "      <td>36.768</td>\n",
       "      <td>24.384</td>\n",
       "      <td>35.38</td>\n",
       "      <td>0</td>\n",
       "      <td>36.08</td>\n",
       "      <td>...</td>\n",
       "      <td>667.2</td>\n",
       "      <td>341.25</td>\n",
       "      <td>92.5</td>\n",
       "      <td>59.432</td>\n",
       "      <td>474.6</td>\n",
       "      <td>312.6</td>\n",
       "      <td>492.56</td>\n",
       "      <td>48.88</td>\n",
       "      <td>646.9</td>\n",
       "      <td>0</td>\n",
       "    </tr>\n",
       "    <tr>\n",
       "      <th>2</th>\n",
       "      <td>2017/6/22</td>\n",
       "      <td>84.74</td>\n",
       "      <td>64.752</td>\n",
       "      <td>3.1</td>\n",
       "      <td>NaN</td>\n",
       "      <td>42.078</td>\n",
       "      <td>26.248</td>\n",
       "      <td>32.72</td>\n",
       "      <td>0</td>\n",
       "      <td>99.68</td>\n",
       "      <td>...</td>\n",
       "      <td>704.8</td>\n",
       "      <td>314.4</td>\n",
       "      <td>92.25</td>\n",
       "      <td>73.024</td>\n",
       "      <td>385.65</td>\n",
       "      <td>70.2</td>\n",
       "      <td>493.68</td>\n",
       "      <td>53.12</td>\n",
       "      <td>698.5</td>\n",
       "      <td>0</td>\n",
       "    </tr>\n",
       "    <tr>\n",
       "      <th>3</th>\n",
       "      <td>2017/6/29</td>\n",
       "      <td>79.64</td>\n",
       "      <td>9.26</td>\n",
       "      <td>0</td>\n",
       "      <td>1.744</td>\n",
       "      <td>42.966</td>\n",
       "      <td>24.216</td>\n",
       "      <td>35.492</td>\n",
       "      <td>0</td>\n",
       "      <td>38.96</td>\n",
       "      <td>...</td>\n",
       "      <td>743.6</td>\n",
       "      <td>323.8</td>\n",
       "      <td>93.3</td>\n",
       "      <td>64.368</td>\n",
       "      <td>458.7</td>\n",
       "      <td>59.4</td>\n",
       "      <td>496.88</td>\n",
       "      <td>49.84</td>\n",
       "      <td>735.6</td>\n",
       "      <td>0</td>\n",
       "    </tr>\n",
       "    <tr>\n",
       "      <th>4</th>\n",
       "      <td>2017/7/6</td>\n",
       "      <td>198.34</td>\n",
       "      <td>69.764</td>\n",
       "      <td>0</td>\n",
       "      <td>3.856</td>\n",
       "      <td>47.436</td>\n",
       "      <td>27.924</td>\n",
       "      <td>34.788</td>\n",
       "      <td>0</td>\n",
       "      <td>42.64</td>\n",
       "      <td>...</td>\n",
       "      <td>800</td>\n",
       "      <td>287.35</td>\n",
       "      <td>108.2</td>\n",
       "      <td>80.64</td>\n",
       "      <td>445.35</td>\n",
       "      <td>394.8</td>\n",
       "      <td>526.64</td>\n",
       "      <td>56</td>\n",
       "      <td>815</td>\n",
       "      <td>0</td>\n",
       "    </tr>\n",
       "  </tbody>\n",
       "</table>\n",
       "<p>5 rows × 100 columns</p>\n",
       "</div>"
      ],
      "text/plain": [
       "bs time_series 3000950193 3001055329 3001073993 3001075068 3001161312  \\\n",
       "0     2017/6/8      86.52      8.456        3.5        NaN     43.494   \n",
       "1    2017/6/15      82.74     68.488        2.6        NaN     36.768   \n",
       "2    2017/6/22      84.74     64.752        3.1        NaN     42.078   \n",
       "3    2017/6/29      79.64       9.26          0      1.744     42.966   \n",
       "4     2017/7/6     198.34     69.764          0      3.856     47.436   \n",
       "\n",
       "bs 3001174579 3001216822 3001228867 3001339479  ... 3002691142 3002735757  \\\n",
       "0       22.96     33.076          0      33.04  ...      709.6     344.05   \n",
       "1      24.384      35.38          0      36.08  ...      667.2     341.25   \n",
       "2      26.248      32.72          0      99.68  ...      704.8      314.4   \n",
       "3      24.216     35.492          0      38.96  ...      743.6      323.8   \n",
       "4      27.924     34.788          0      42.64  ...        800     287.35   \n",
       "\n",
       "bs 3002754352 3002761396 3002772434 3002950030 3003021784 3003070285  \\\n",
       "0         3.5     71.856     435.15      331.2     530.24      50.48   \n",
       "1        92.5     59.432      474.6      312.6     492.56      48.88   \n",
       "2       92.25     73.024     385.65       70.2     493.68      53.12   \n",
       "3        93.3     64.368      458.7       59.4     496.88      49.84   \n",
       "4       108.2      80.64     445.35      394.8     526.64         56   \n",
       "\n",
       "bs 3001796480 2222222223020381  \n",
       "0       636.1                0  \n",
       "1       646.9                0  \n",
       "2       698.5                0  \n",
       "3       735.6                0  \n",
       "4         815                0  \n",
       "\n",
       "[5 rows x 100 columns]"
      ]
     },
     "execution_count": 14,
     "metadata": {},
     "output_type": "execute_result"
    }
   ],
   "source": [
    "data_time_series.reset_index()\n",
    "data_time_series.head()"
   ]
  },
  {
   "cell_type": "code",
   "execution_count": 15,
   "metadata": {},
   "outputs": [
    {
     "data": {
      "text/plain": [
       "array(['2017/6/8', '2017/6/15', '2017/6/22', '2017/6/29', '2017/7/6',\n",
       "       '2017/7/13', '2017/7/20', '2017/7/27', '2017/8/3', '2017/8/10',\n",
       "       '2017/8/17', '2017/8/24', '2017/8/31', '2017/9/7', '2017/9/14',\n",
       "       '2017/9/21', '2017/9/28', '2017/10/5', '2017/10/12', '2017/10/19',\n",
       "       '2017/10/26', '2017/11/2', '2017/11/9', '2017/11/16', '2017/11/23',\n",
       "       '2017/11/30', '2017/12/7', '2017/12/14', '2017/12/21',\n",
       "       '2017/12/28', '2018/1/4', '2018/1/11', '2018/1/18', '2018/1/25',\n",
       "       '2018/2/1', '2018/2/8', '2018/2/15', '2018/2/22', '2018/3/1',\n",
       "       '2018/3/8', '2018/3/15', '2018/3/22', '2018/3/29', '2018/4/5',\n",
       "       '2018/4/12', '2018/4/19', '2018/4/26', '2018/5/3', '2018/5/10',\n",
       "       '2018/5/17', '2018/5/24', '2018/5/31', '2018/6/7', '2018/6/14',\n",
       "       '2018/6/21', '2018/6/28', '2018/7/5', '2018/7/12', '2018/7/19',\n",
       "       '2018/7/26', '2018/8/2', '2018/8/9', '2018/8/16', '2018/8/23',\n",
       "       '2018/8/30', '2018/9/6', '2018/9/13', '2018/9/20', '2018/9/27',\n",
       "       '2018/10/4', '2018/10/11', '2018/10/18', '2018/10/25', '2018/11/1',\n",
       "       '2018/11/8', '2018/11/15', '2018/11/22', '2018/11/29', '2018/12/6',\n",
       "       '2018/12/13', '2018/12/20', '2018/12/27', '2019/1/3', '2019/1/10',\n",
       "       '2019/1/17', '2019/1/24', '2019/1/31', '2019/2/7', '2019/2/14',\n",
       "       '2019/2/21', '2019/2/28', '2019/3/7', '2019/3/14', '2019/3/21',\n",
       "       '2019/3/28', '2019/4/4', '2019/4/11', '2019/4/18', '2019/4/25',\n",
       "       '2019/5/2', '2019/5/9', '2019/5/16', '2019/5/23'], dtype=object)"
      ]
     },
     "execution_count": 15,
     "metadata": {},
     "output_type": "execute_result"
    }
   ],
   "source": [
    "data_time_series['time_series'].unique()"
   ]
  },
  {
   "cell_type": "code",
   "execution_count": 16,
   "metadata": {},
   "outputs": [
    {
     "data": {
      "text/html": [
       "<div>\n",
       "<style scoped>\n",
       "    .dataframe tbody tr th:only-of-type {\n",
       "        vertical-align: middle;\n",
       "    }\n",
       "\n",
       "    .dataframe tbody tr th {\n",
       "        vertical-align: top;\n",
       "    }\n",
       "\n",
       "    .dataframe thead th {\n",
       "        text-align: right;\n",
       "    }\n",
       "</style>\n",
       "<table border=\"1\" class=\"dataframe\">\n",
       "  <thead>\n",
       "    <tr style=\"text-align: right;\">\n",
       "      <th>bs</th>\n",
       "      <th>3000950193</th>\n",
       "      <th>3001055329</th>\n",
       "      <th>3001073993</th>\n",
       "      <th>3001075068</th>\n",
       "      <th>3001161312</th>\n",
       "      <th>3001174579</th>\n",
       "      <th>3001216822</th>\n",
       "      <th>3001228867</th>\n",
       "      <th>3001339479</th>\n",
       "      <th>3001345295</th>\n",
       "      <th>...</th>\n",
       "      <th>3002691142</th>\n",
       "      <th>3002735757</th>\n",
       "      <th>3002754352</th>\n",
       "      <th>3002761396</th>\n",
       "      <th>3002772434</th>\n",
       "      <th>3002950030</th>\n",
       "      <th>3003021784</th>\n",
       "      <th>3003070285</th>\n",
       "      <th>3001796480</th>\n",
       "      <th>2222222223020381</th>\n",
       "    </tr>\n",
       "    <tr>\n",
       "      <th>time_series</th>\n",
       "      <th></th>\n",
       "      <th></th>\n",
       "      <th></th>\n",
       "      <th></th>\n",
       "      <th></th>\n",
       "      <th></th>\n",
       "      <th></th>\n",
       "      <th></th>\n",
       "      <th></th>\n",
       "      <th></th>\n",
       "      <th></th>\n",
       "      <th></th>\n",
       "      <th></th>\n",
       "      <th></th>\n",
       "      <th></th>\n",
       "      <th></th>\n",
       "      <th></th>\n",
       "      <th></th>\n",
       "      <th></th>\n",
       "      <th></th>\n",
       "      <th></th>\n",
       "    </tr>\n",
       "  </thead>\n",
       "  <tbody>\n",
       "    <tr>\n",
       "      <th>2017-06-08</th>\n",
       "      <td>86.52</td>\n",
       "      <td>8.456</td>\n",
       "      <td>3.5</td>\n",
       "      <td>NaN</td>\n",
       "      <td>43.494</td>\n",
       "      <td>22.960</td>\n",
       "      <td>33.076</td>\n",
       "      <td>0.0</td>\n",
       "      <td>33.04</td>\n",
       "      <td>94.10</td>\n",
       "      <td>...</td>\n",
       "      <td>709.6</td>\n",
       "      <td>344.05</td>\n",
       "      <td>3.50</td>\n",
       "      <td>71.856</td>\n",
       "      <td>435.15</td>\n",
       "      <td>331.2</td>\n",
       "      <td>530.24</td>\n",
       "      <td>50.48</td>\n",
       "      <td>636.1</td>\n",
       "      <td>0.0</td>\n",
       "    </tr>\n",
       "    <tr>\n",
       "      <th>2017-06-15</th>\n",
       "      <td>82.74</td>\n",
       "      <td>68.488</td>\n",
       "      <td>2.6</td>\n",
       "      <td>NaN</td>\n",
       "      <td>36.768</td>\n",
       "      <td>24.384</td>\n",
       "      <td>35.380</td>\n",
       "      <td>0.0</td>\n",
       "      <td>36.08</td>\n",
       "      <td>85.35</td>\n",
       "      <td>...</td>\n",
       "      <td>667.2</td>\n",
       "      <td>341.25</td>\n",
       "      <td>92.50</td>\n",
       "      <td>59.432</td>\n",
       "      <td>474.60</td>\n",
       "      <td>312.6</td>\n",
       "      <td>492.56</td>\n",
       "      <td>48.88</td>\n",
       "      <td>646.9</td>\n",
       "      <td>0.0</td>\n",
       "    </tr>\n",
       "    <tr>\n",
       "      <th>2017-06-22</th>\n",
       "      <td>84.74</td>\n",
       "      <td>64.752</td>\n",
       "      <td>3.1</td>\n",
       "      <td>NaN</td>\n",
       "      <td>42.078</td>\n",
       "      <td>26.248</td>\n",
       "      <td>32.720</td>\n",
       "      <td>0.0</td>\n",
       "      <td>99.68</td>\n",
       "      <td>81.75</td>\n",
       "      <td>...</td>\n",
       "      <td>704.8</td>\n",
       "      <td>314.40</td>\n",
       "      <td>92.25</td>\n",
       "      <td>73.024</td>\n",
       "      <td>385.65</td>\n",
       "      <td>70.2</td>\n",
       "      <td>493.68</td>\n",
       "      <td>53.12</td>\n",
       "      <td>698.5</td>\n",
       "      <td>0.0</td>\n",
       "    </tr>\n",
       "    <tr>\n",
       "      <th>2017-06-29</th>\n",
       "      <td>79.64</td>\n",
       "      <td>9.260</td>\n",
       "      <td>0.0</td>\n",
       "      <td>1.744</td>\n",
       "      <td>42.966</td>\n",
       "      <td>24.216</td>\n",
       "      <td>35.492</td>\n",
       "      <td>0.0</td>\n",
       "      <td>38.96</td>\n",
       "      <td>87.10</td>\n",
       "      <td>...</td>\n",
       "      <td>743.6</td>\n",
       "      <td>323.80</td>\n",
       "      <td>93.30</td>\n",
       "      <td>64.368</td>\n",
       "      <td>458.70</td>\n",
       "      <td>59.4</td>\n",
       "      <td>496.88</td>\n",
       "      <td>49.84</td>\n",
       "      <td>735.6</td>\n",
       "      <td>0.0</td>\n",
       "    </tr>\n",
       "    <tr>\n",
       "      <th>2017-07-06</th>\n",
       "      <td>198.34</td>\n",
       "      <td>69.764</td>\n",
       "      <td>0.0</td>\n",
       "      <td>3.856</td>\n",
       "      <td>47.436</td>\n",
       "      <td>27.924</td>\n",
       "      <td>34.788</td>\n",
       "      <td>0.0</td>\n",
       "      <td>42.64</td>\n",
       "      <td>93.35</td>\n",
       "      <td>...</td>\n",
       "      <td>800.0</td>\n",
       "      <td>287.35</td>\n",
       "      <td>108.20</td>\n",
       "      <td>80.640</td>\n",
       "      <td>445.35</td>\n",
       "      <td>394.8</td>\n",
       "      <td>526.64</td>\n",
       "      <td>56.00</td>\n",
       "      <td>815.0</td>\n",
       "      <td>0.0</td>\n",
       "    </tr>\n",
       "  </tbody>\n",
       "</table>\n",
       "<p>5 rows × 99 columns</p>\n",
       "</div>"
      ],
      "text/plain": [
       "bs           3000950193  3001055329  3001073993  3001075068  3001161312  \\\n",
       "time_series                                                               \n",
       "2017-06-08        86.52       8.456         3.5         NaN      43.494   \n",
       "2017-06-15        82.74      68.488         2.6         NaN      36.768   \n",
       "2017-06-22        84.74      64.752         3.1         NaN      42.078   \n",
       "2017-06-29        79.64       9.260         0.0       1.744      42.966   \n",
       "2017-07-06       198.34      69.764         0.0       3.856      47.436   \n",
       "\n",
       "bs           3001174579  3001216822  3001228867  3001339479  3001345295  ...  \\\n",
       "time_series                                                              ...   \n",
       "2017-06-08       22.960      33.076         0.0       33.04       94.10  ...   \n",
       "2017-06-15       24.384      35.380         0.0       36.08       85.35  ...   \n",
       "2017-06-22       26.248      32.720         0.0       99.68       81.75  ...   \n",
       "2017-06-29       24.216      35.492         0.0       38.96       87.10  ...   \n",
       "2017-07-06       27.924      34.788         0.0       42.64       93.35  ...   \n",
       "\n",
       "bs           3002691142  3002735757  3002754352  3002761396  3002772434  \\\n",
       "time_series                                                               \n",
       "2017-06-08        709.6      344.05        3.50      71.856      435.15   \n",
       "2017-06-15        667.2      341.25       92.50      59.432      474.60   \n",
       "2017-06-22        704.8      314.40       92.25      73.024      385.65   \n",
       "2017-06-29        743.6      323.80       93.30      64.368      458.70   \n",
       "2017-07-06        800.0      287.35      108.20      80.640      445.35   \n",
       "\n",
       "bs           3002950030  3003021784  3003070285  3001796480  2222222223020381  \n",
       "time_series                                                                    \n",
       "2017-06-08        331.2      530.24       50.48       636.1               0.0  \n",
       "2017-06-15        312.6      492.56       48.88       646.9               0.0  \n",
       "2017-06-22         70.2      493.68       53.12       698.5               0.0  \n",
       "2017-06-29         59.4      496.88       49.84       735.6               0.0  \n",
       "2017-07-06        394.8      526.64       56.00       815.0               0.0  \n",
       "\n",
       "[5 rows x 99 columns]"
      ]
     },
     "execution_count": 16,
     "metadata": {},
     "output_type": "execute_result"
    }
   ],
   "source": [
    "#将含有时序数据的字段转化为datetime64格式\n",
    "dateparse = lambda dates: pd.datetime.strptime(dates, '%Y/%m/%d')\n",
    "# dateparse('2017-08-01')\n",
    "data_time_series['time_series'] = data_time_series['time_series'].apply(dateparse)\n",
    "data_time_series.set_index('time_series',inplace=True)\n",
    "data_time_series=data_time_series.apply(pd.to_numeric)\n",
    "data_time_series.head()"
   ]
  },
  {
   "cell_type": "code",
   "execution_count": 17,
   "metadata": {},
   "outputs": [
    {
     "data": {
      "text/plain": [
       "DatetimeIndex(['2017-06-08', '2017-06-15', '2017-06-22', '2017-06-29',\n",
       "               '2017-07-06', '2017-07-13', '2017-07-20', '2017-07-27',\n",
       "               '2017-08-03', '2017-08-10',\n",
       "               ...\n",
       "               '2019-03-21', '2019-03-28', '2019-04-04', '2019-04-11',\n",
       "               '2019-04-18', '2019-04-25', '2019-05-02', '2019-05-09',\n",
       "               '2019-05-16', '2019-05-23'],\n",
       "              dtype='datetime64[ns]', name='time_series', length=103, freq=None)"
      ]
     },
     "execution_count": 17,
     "metadata": {},
     "output_type": "execute_result"
    }
   ],
   "source": [
    "#处理空值\n",
    "data_time_series=data_time_series.fillna(method='backfill',axis='index')\n",
    "data_time_series_dropna=data_time_series.dropna(axis='columns')\n",
    "#去掉重复的台区（重复列）\n",
    "data_time_series_dropna=data_time_series_dropna.T.drop_duplicates().T\n",
    "data_time_series_dropna.index"
   ]
  },
  {
   "cell_type": "code",
   "execution_count": 18,
   "metadata": {},
   "outputs": [],
   "source": [
    "#粗筛出原始数据缺失值比较少的台区（其表现为填充空值操作后连续重复值较少）,保存为一个列表\n",
    "# drop_little_tq_index = data_time_series_dropna.T\\\n",
    "# [data_time_series_dropna.T['2017-06-08']!=data_time_series_dropna.T['2017-08-03']].index.to_list()"
   ]
  },
  {
   "cell_type": "code",
   "execution_count": 19,
   "metadata": {},
   "outputs": [],
   "source": [
    "# print(data_time_series_dropna.columns.is_unique)\n",
    "#打印列的重复次数\n",
    "# List=data_time_series_dropna.columns.to_list()\n",
    "# List_set = set(List) \n",
    "# for item in List_set:\n",
    "#     if List.count(item)>1:\n",
    "#         print(\"the %s has found %d\" %(item,List.count(item)))"
   ]
  },
  {
   "cell_type": "code",
   "execution_count": 20,
   "metadata": {},
   "outputs": [],
   "source": [
    "# data_2017_max=pd.DataFrame(data_time_series_dropna['2017'].max(),columns=['2017'])\n",
    "# data_2018_max=pd.DataFrame(data_time_series_dropna['2018'].max(),columns=['2018'])\n",
    "# data_2019_max=pd.DataFrame(data_time_series_dropna['2019'].max(),columns=['2019'])\n",
    "\n",
    "# print(data_2017_max.head())\n",
    "\n",
    "# print(type(data_2017_max))\n",
    "# print(data_2017_max.head())\n",
    "# data_2017_max.index.is_unique"
   ]
  },
  {
   "cell_type": "code",
   "execution_count": 21,
   "metadata": {},
   "outputs": [],
   "source": [
    "# bs_year_max=pd.concat([data_2017_max,data_2018_max,data_2019_max],axis=1,join='inner')\n",
    "# bs_year_max.index.is_unique"
   ]
  },
  {
   "cell_type": "code",
   "execution_count": 22,
   "metadata": {},
   "outputs": [],
   "source": [
    "#粗筛出逐年增长的负荷数据\n",
    "# increase_tq_index = bs_year_max[(bs_year_max['2017']<bs_year_max['2018']) & (bs_year_max['2018']<bs_year_max['2019'])].index.to_list()"
   ]
  },
  {
   "cell_type": "code",
   "execution_count": 23,
   "metadata": {},
   "outputs": [],
   "source": [
    "#打印出既是逐年增长也没有太多缺失值的台区\n",
    "# intersection_index = list(set(drop_little_tq_index).intersection(set(increase_tq_index)))\n",
    "# print(intersection_index)"
   ]
  },
  {
   "cell_type": "code",
   "execution_count": 25,
   "metadata": {},
   "outputs": [
    {
     "data": {
      "text/plain": [
       "time_series\n",
       "2017-06-08     86.52\n",
       "2017-06-15     82.74\n",
       "2017-06-22     84.74\n",
       "2017-06-29     79.64\n",
       "2017-07-06    198.34\n",
       "Name: 3000950193, dtype: float64"
      ]
     },
     "execution_count": 25,
     "metadata": {},
     "output_type": "execute_result"
    }
   ],
   "source": [
    "#convert to time series:\n",
    "ts = data_time_series_dropna['3000950193']\n",
    "ts.head()"
   ]
  },
  {
   "cell_type": "markdown",
   "metadata": {},
   "source": [
    "# 平稳性检验\n",
    "\n",
    "## 展示时序图"
   ]
  },
  {
   "cell_type": "code",
   "execution_count": 26,
   "metadata": {},
   "outputs": [
    {
     "data": {
      "text/plain": [
       "[<matplotlib.lines.Line2D at 0x1abcd00a8d0>]"
      ]
     },
     "execution_count": 26,
     "metadata": {},
     "output_type": "execute_result"
    },
    {
     "data": {
      "image/png": "[encoded data removed]",
      "text/plain": [
       "<Figure size 432x288 with 1 Axes>"
      ]
     },
     "metadata": {
      "needs_background": "light"
     },
     "output_type": "display_data"
    }
   ],
   "source": [
    "register_matplotlib_converters()\n",
    "plt.plot(ts)"
   ]
  },
  {
   "cell_type": "markdown",
   "metadata": {},
   "source": [
    "### 平稳性检验函数"
   ]
  },
  {
   "cell_type": "code",
   "execution_count": 27,
   "metadata": {},
   "outputs": [],
   "source": [
    "from statsmodels.tsa.stattools import adfuller\n",
    "def test_stationarity(timeseries):\n",
    "    \n",
    "    #移动平均和移动方差\n",
    "    rolmean = timeseries.rolling(window=12).mean()\n",
    "    rolstd = timeseries.rolling(window=12).std()\n",
    "\n",
    "    #把移动平均和移动方差画出来:\n",
    "    orig = plt.plot(timeseries, color='blue',label='原始曲线')\n",
    "    mean = plt.plot(rolmean, color='yellow', label='移动平均')\n",
    "    std = plt.plot(rolstd, color='black', label = '移动方差')\n",
    "    plt.legend(loc='best')\n",
    "    plt.title(u'绘制移动平均数和移动方差，观察它是否随着时间变化')\n",
    "    plt.show(block=False)\n",
    "    \n",
    "    #进行单位根检验:\n",
    "    print('单位根检验:')\n",
    "    dftest = adfuller(timeseries, autolag='AIC')\n",
    "    dfoutput = pd.Series(dftest[0:4], index=['Test Statistic','p-value','#Lags Used','Number of Observations Used'])\n",
    "    for key,value in dftest[4].items():\n",
    "        dfoutput['Critical Value (%s)'%key] = value\n",
    "    print(dfoutput)\n",
    "    if dfoutput.loc['p-value']>0.01:\n",
    "        print('p值大于0.01，不能拒绝原假设，说明时间序列是非平稳的')\n",
    "    else:\n",
    "        print('p值小于0.01，拒绝原假设，说明时间序列是平稳的')\n",
    "    return dfoutput.loc['p-value']<0.01\n",
    "    #返回时间序列是否平稳的判断值\n",
    "    '''\n",
    "    单位根的原假设为序列具有单位根，即非平稳，\n",
    "    对于一个平稳的时序数据，就需要在给定的置信水平上显著，拒绝原假设。\n",
    "    '''"
   ]
  },
  {
   "cell_type": "code",
   "execution_count": 28,
   "metadata": {},
   "outputs": [
    {
     "data": {
      "image/png": "[encoded data removed]",
      "text/plain": [
       "<Figure size 432x288 with 1 Axes>"
      ]
     },
     "metadata": {
      "needs_background": "light"
     },
     "output_type": "display_data"
    },
    {
     "name": "stdout",
     "output_type": "stream",
     "text": [
      "单位根检验:\n",
      "Test Statistic                  -2.406929\n",
      "p-value                          0.139790\n",
      "#Lags Used                       0.000000\n",
      "Number of Observations Used    102.000000\n",
      "Critical Value (1%)             -3.496149\n",
      "Critical Value (5%)             -2.890321\n",
      "Critical Value (10%)            -2.582122\n",
      "dtype: float64\n",
      "p值大于0.01，不能拒绝原假设，说明时间序列是非平稳的\n"
     ]
    },
    {
     "data": {
      "text/plain": [
       "False"
      ]
     },
     "execution_count": 28,
     "metadata": {},
     "output_type": "execute_result"
    }
   ],
   "source": [
    "test_stationarity(ts)"
   ]
  },
  {
   "cell_type": "markdown",
   "metadata": {},
   "source": [
    "# 平稳性的处理\n",
    "\n",
    "\n",
    "## 预测和消除趋势\n"
   ]
  },
  {
   "cell_type": "markdown",
   "metadata": {},
   "source": [
    "## Smoothing:\n",
    "\n",
    "### 移动平均"
   ]
  },
  {
   "cell_type": "code",
   "execution_count": 29,
   "metadata": {},
   "outputs": [
    {
     "data": {
      "image/png": "[encoded data removed]",
      "text/plain": [
       "<Figure size 432x288 with 1 Axes>"
      ]
     },
     "metadata": {
      "needs_background": "light"
     },
     "output_type": "display_data"
    }
   ],
   "source": [
    "moving_avg = ts.rolling(12).mean()\n",
    "plt.plot(ts,label='原始曲线')\n",
    "plt.plot(moving_avg, color='red',label='移动平均')\n",
    "plt.title('移动平均')\n",
    "plt.legend(loc='best')\n",
    "plt.show()"
   ]
  },
  {
   "cell_type": "code",
   "execution_count": 30,
   "metadata": {},
   "outputs": [
    {
     "data": {
      "image/png": "[encoded data removed]",
      "text/plain": [
       "<Figure size 432x288 with 1 Axes>"
      ]
     },
     "metadata": {
      "needs_background": "light"
     },
     "output_type": "display_data"
    },
    {
     "name": "stdout",
     "output_type": "stream",
     "text": [
      "单位根检验:\n",
      "Test Statistic                 -3.247859\n",
      "p-value                         0.017376\n",
      "#Lags Used                      9.000000\n",
      "Number of Observations Used    82.000000\n",
      "Critical Value (1%)            -3.512738\n",
      "Critical Value (5%)            -2.897490\n",
      "Critical Value (10%)           -2.585949\n",
      "dtype: float64\n",
      "p值大于0.01，不能拒绝原假设，说明时间序列是非平稳的\n"
     ]
    },
    {
     "data": {
      "text/plain": [
       "False"
      ]
     },
     "execution_count": 30,
     "metadata": {},
     "output_type": "execute_result"
    }
   ],
   "source": [
    "ts_moving_avg_diff = ts - moving_avg\n",
    "ts_moving_avg_diff.dropna(inplace=True)\n",
    "test_stationarity(ts_moving_avg_diff)"
   ]
  },
  {
   "cell_type": "markdown",
   "metadata": {},
   "source": [
    "### 指数平滑法"
   ]
  },
  {
   "cell_type": "code",
   "execution_count": 31,
   "metadata": {},
   "outputs": [],
   "source": [
    "# expwighted_avg = ts.ewm(halflife=12).mean()\n",
    "# plt.plot(ts,label='原始曲线')\n",
    "# plt.plot(expwighted_avg, color='red',label='指数平滑曲线')\n",
    "# plt.title('指数平滑处理')\n",
    "# plt.legend(loc='best')\n",
    "# plt.show()\n",
    "#expwighted_avg.plot(style='k--')"
   ]
  },
  {
   "cell_type": "code",
   "execution_count": 32,
   "metadata": {},
   "outputs": [],
   "source": [
    "# ts_ewma_diff = ts - expwighted_avg\n",
    "# test_stationarity(ts_ewma_diff)"
   ]
  },
  {
   "cell_type": "markdown",
   "metadata": {},
   "source": [
    "## 消除趋势和季节性"
   ]
  },
  {
   "cell_type": "markdown",
   "metadata": {
    "collapsed": true
   },
   "source": [
    "### 差分:"
   ]
  },
  {
   "cell_type": "code",
   "execution_count": 33,
   "metadata": {},
   "outputs": [
    {
     "data": {
      "image/png": "[encoded data removed]",
      "text/plain": [
       "<Figure size 432x288 with 1 Axes>"
      ]
     },
     "metadata": {
      "needs_background": "light"
     },
     "output_type": "display_data"
    }
   ],
   "source": [
    "#直接对原始数据取一阶差分:\n",
    "ts_diff = ts - ts.shift(1)\n",
    "plt.plot(ts_diff)\n",
    "plt.title('差分处理')\n",
    "plt.show()"
   ]
  },
  {
   "cell_type": "code",
   "execution_count": 34,
   "metadata": {},
   "outputs": [
    {
     "data": {
      "image/png": "[encoded data removed]",
      "text/plain": [
       "<Figure size 432x288 with 1 Axes>"
      ]
     },
     "metadata": {
      "needs_background": "light"
     },
     "output_type": "display_data"
    },
    {
     "name": "stdout",
     "output_type": "stream",
     "text": [
      "单位根检验:\n",
      "Test Statistic                -7.234267e+00\n",
      "p-value                        1.958092e-10\n",
      "#Lags Used                     3.000000e+00\n",
      "Number of Observations Used    9.800000e+01\n",
      "Critical Value (1%)           -3.498910e+00\n",
      "Critical Value (5%)           -2.891516e+00\n",
      "Critical Value (10%)          -2.582760e+00\n",
      "dtype: float64\n",
      "p值小于0.01，拒绝原假设，说明时间序列是平稳的\n"
     ]
    },
    {
     "data": {
      "text/plain": [
       "True"
      ]
     },
     "execution_count": 34,
     "metadata": {},
     "output_type": "execute_result"
    }
   ],
   "source": [
    "ts_diff.dropna(inplace=True)\n",
    "test_stationarity(ts_diff)"
   ]
  },
  {
   "cell_type": "markdown",
   "metadata": {},
   "source": [
    "# 构建模型"
   ]
  },
  {
   "cell_type": "markdown",
   "metadata": {},
   "source": [
    "## 时间序列的分解（分解后分开预测）"
   ]
  },
  {
   "cell_type": "code",
   "execution_count": 35,
   "metadata": {},
   "outputs": [
    {
     "data": {
      "image/png": "[encoded data removed]",
      "text/plain": [
       "<Figure size 432x288 with 4 Axes>"
      ]
     },
     "metadata": {
      "needs_background": "light"
     },
     "output_type": "display_data"
    }
   ],
   "source": [
    "from statsmodels.tsa.seasonal import seasonal_decompose\n",
    "decomposition = seasonal_decompose(ts,extrapolate_trend='freq')\n",
    "# 显式调用seasonal_decompose函数的extrapolate_trend参数可以强制提取残差，同时使趋势曲线更加平滑\n",
    "trend = decomposition.trend\n",
    "seasonal = decomposition.seasonal\n",
    "residual = decomposition.resid\n",
    "\n",
    "plt.subplot(411)\n",
    "plt.plot(ts, label='原始')\n",
    "plt.legend(loc='best')\n",
    "plt.subplot(412)\n",
    "plt.plot(trend, label='趋势')\n",
    "plt.legend(loc='best')\n",
    "plt.subplot(413)\n",
    "plt.plot(seasonal,label='季节')\n",
    "plt.legend(loc='best')\n",
    "plt.subplot(414)\n",
    "plt.plot(residual, label='残差')\n",
    "plt.legend(loc='best')\n",
    "plt.tight_layout()"
   ]
  },
  {
   "cell_type": "code",
   "execution_count": 36,
   "metadata": {},
   "outputs": [
    {
     "data": {
      "image/png": "[encoded data removed]",
      "text/plain": [
       "<Figure size 432x288 with 1 Axes>"
      ]
     },
     "metadata": {
      "needs_background": "light"
     },
     "output_type": "display_data"
    }
   ],
   "source": [
    "trend_diff = trend - trend.shift(1)\n",
    "plt.plot(trend_diff)\n",
    "plt.title('趋势的差分处理')\n",
    "plt.show()"
   ]
  },
  {
   "cell_type": "code",
   "execution_count": 37,
   "metadata": {},
   "outputs": [
    {
     "data": {
      "image/png": "[encoded data removed]",
      "text/plain": [
       "<Figure size 432x288 with 1 Axes>"
      ]
     },
     "metadata": {
      "needs_background": "light"
     },
     "output_type": "display_data"
    },
    {
     "name": "stdout",
     "output_type": "stream",
     "text": [
      "单位根检验:\n",
      "Test Statistic                -9.795508e+00\n",
      "p-value                        6.189892e-17\n",
      "#Lags Used                     0.000000e+00\n",
      "Number of Observations Used    1.010000e+02\n",
      "Critical Value (1%)           -3.496818e+00\n",
      "Critical Value (5%)           -2.890611e+00\n",
      "Critical Value (10%)          -2.582277e+00\n",
      "dtype: float64\n",
      "p值小于0.01，拒绝原假设，说明时间序列是平稳的\n"
     ]
    },
    {
     "data": {
      "text/plain": [
       "True"
      ]
     },
     "execution_count": 37,
     "metadata": {},
     "output_type": "execute_result"
    }
   ],
   "source": [
    "trend_diff.dropna(inplace=True)\n",
    "test_stationarity(trend_diff)"
   ]
  },
  {
   "cell_type": "code",
   "execution_count": 38,
   "metadata": {},
   "outputs": [
    {
     "data": {
      "image/png": "[encoded data removed]",
      "text/plain": [
       "<Figure size 432x288 with 1 Axes>"
      ]
     },
     "metadata": {
      "needs_background": "light"
     },
     "output_type": "display_data"
    },
    {
     "name": "stdout",
     "output_type": "stream",
     "text": [
      "单位根检验:\n",
      "Test Statistic                  -1.863859\n",
      "p-value                          0.349249\n",
      "#Lags Used                       1.000000\n",
      "Number of Observations Used    101.000000\n",
      "Critical Value (1%)             -3.496818\n",
      "Critical Value (5%)             -2.890611\n",
      "Critical Value (10%)            -2.582277\n",
      "dtype: float64\n",
      "p值大于0.01，不能拒绝原假设，说明时间序列是非平稳的\n"
     ]
    },
    {
     "data": {
      "text/plain": [
       "False"
      ]
     },
     "execution_count": 38,
     "metadata": {},
     "output_type": "execute_result"
    }
   ],
   "source": [
    "ts_decompose = residual\n",
    "ts_decompose.dropna(inplace=True)\n",
    "test_stationarity(ts_decompose)"
   ]
  },
  {
   "cell_type": "markdown",
   "metadata": {},
   "source": [
    "## 利用交叉验证法求预测模型参数"
   ]
  },
  {
   "cell_type": "markdown",
   "metadata": {},
   "source": [
    "# 创建训练集和测试集\n",
    "size = int(len(ts_diff) * 0.8)\n",
    "train, test = ts_diff[0:size], ts_diff[size:len(ts_diff)]\n",
    "register_matplotlib_converters()\n",
    "plt.plot(train.index, train, color='blue', label='训练集')\n",
    "plt.plot(test.index, test, color='green', label='测试集')\n",
    "plt.legend()\n",
    "plt.title('真实数据的训练集和测试集')\n",
    "plt.show()"
   ]
  },
  {
   "cell_type": "markdown",
   "metadata": {},
   "source": [
    "#样本内预测的结果和预测误差\n",
    "def compare_ARIMA_modes_testing(order):\n",
    "    history = [x for x in train]\n",
    "    predictions_f = list()\n",
    "    predictions_p = list()\n",
    "    for t in range(len(test)):\n",
    "        model = ARIMA(history, order=order)\n",
    "        model_fit = model.fit(disp=-1)\n",
    "        yhat_f = model_fit.forecast()[0][0]\n",
    "        yhat_p = model_fit.predict(start=len(history), end=len(history))[0]\n",
    "        predictions_f.append(yhat_f)\n",
    "        predictions_p.append(yhat_p)\n",
    "        history.append(test[t])\n",
    "    #mean_squared_error即为“误差”的平方的期望值\n",
    "    error_f = mean_squared_error(test, predictions_f)\n",
    "    error_p = mean_squared_error(test, predictions_p)\n",
    "    print('MSE forecast:\\t\\t\\t{:1.4f}'.format(error_f))\n",
    "    print('MSE predict:\\t\\t\\t{:1.4f}'.format(error_p))\n",
    "    return {'Predictions forecast': pd.Series(predictions_f,index=test.index),\n",
    "            'Predictions predict': pd.Series(predictions_p,index=test.index),\n",
    "            'MSE forecast': error_f,\n",
    "            'MSE predict': error_p}"
   ]
  },
  {
   "cell_type": "markdown",
   "metadata": {},
   "source": [
    "#利用交叉验证法寻找最佳阶数\n",
    "def cross_proper_model(maxLag):\n",
    "    init_error = sys.maxsize\n",
    "    init_p = 0\n",
    "    init_q = 0\n",
    "    init_properModel = None\n",
    "    for p in np.arange(maxLag):\n",
    "        for q in np.arange(maxLag):\n",
    "            arima = compare_ARIMA_modes_testing((p,1,q))\n",
    "            error_f = arima['MSE forecast']\n",
    "            error_p = arima['MSE predict']\n",
    "        if error_f < init_error or error_p < init_error:\n",
    "                init_p = p\n",
    "                init_q = q\n",
    "                init_properModel =arima\n",
    "                init_error = min(error_f,error_p)\n",
    "    return [init_error, init_p, init_q, init_properModel]"
   ]
  },
  {
   "cell_type": "markdown",
   "metadata": {},
   "source": [
    "## 利用贝叶斯信息准则求预测模型参数"
   ]
  },
  {
   "cell_type": "code",
   "execution_count": 39,
   "metadata": {},
   "outputs": [],
   "source": [
    "#利用贝叶斯信息准则（BIC）寻找最佳阶数，使得BIC达到最小值的(p, q)即为该准则下的最优模型的阶数\n",
    "def proper_model(data_ts, maxLag):\n",
    "    init_bic = sys.maxsize\n",
    "    init_p = 0\n",
    "    init_q = 0\n",
    "    init_properModel = None\n",
    "    for p in np.arange(maxLag):\n",
    "        for q in np.arange(maxLag):\n",
    "            model = ARMA(data_ts, order=(p, q),freq=data_ts.index.inferred_freq)\n",
    "            try:\n",
    "                results_ARMA = model.fit(disp=-1, method='css')\n",
    "            except:\n",
    "                continue#忽略所有异常\n",
    "            bic = results_ARMA.bic\n",
    "            if bic < init_bic:\n",
    "                init_p = p\n",
    "                init_q = q\n",
    "                init_properModel = results_ARMA\n",
    "                init_bic = bic\n",
    "    return [init_bic, init_p, init_q, init_properModel]"
   ]
  },
  {
   "cell_type": "markdown",
   "metadata": {},
   "source": [
    "## 预测模型（针对趋势和残差）"
   ]
  },
  {
   "cell_type": "code",
   "execution_count": 40,
   "metadata": {},
   "outputs": [],
   "source": [
    "#样本外预测\n",
    "def compare_ARIMA_modes(series,order):\n",
    "    history_f = [x for x in series]\n",
    "    history_p = [x for x in series]\n",
    "    series_p = series\n",
    "    series_f = series\n",
    "#     for t in range(52):滚动预测的效果不佳\n",
    "    model = ARIMA(history_f, order=order)\n",
    "    model_fit = model.fit(disp=-1)\n",
    "    yhat_f = model_fit.forecast(steps=104)[0]\n",
    "    model = ARIMA(history_p, order=order)\n",
    "    model_fit = model.fit(disp=-1)\n",
    "    yhat_p = model_fit.predict(start=len(history_p), end=len(history_p)+104)\n",
    "    \n",
    "    #附加新元素时也加上一个单位的索引\n",
    "    for t in range(104,1,-1):\n",
    "        series_p = series_p.append(pd.Series(yhat_p[-t],index=[series_p.index[-1]+timedelta(days=7)]))\n",
    "        series_f = series_f.append(pd.Series(yhat_f[-t],index=[series_f.index[-1]+timedelta(days=7)]))\n",
    "    return {'Predictions forecast': series_f[series.index[-1]:series_f.index[-1]],\n",
    "            'Predictions predict': series_p[series.index[-1]:series_p.index[-1]]}"
   ]
  },
  {
   "cell_type": "code",
   "execution_count": 41,
   "metadata": {},
   "outputs": [],
   "source": [
    "#样本外预测\n",
    "def LinearRegression_modes(series):\n",
    "    history = [x for x in series]\n",
    "    series_p = series\n",
    "    #lr = LassoCV(cv=tscv)\n",
    "    lr = LinearRegression(normalize= \"l1\") \n",
    "    #可以尝试随机森林的效果，也不错。也可以做多模型结果融合，请自己尝试。\n",
    "    #lr = RandomForestRegressor(n_estimators=100, max_depth=10) #lag_start = 288, lag_end = 320\n",
    "    # lr = RidgeCV(cv = tscv)\n",
    "    lr.fit(np.array(range(len(series.index))).reshape(1, -1), np.array(series.values).reshape(1, -1))\n",
    "    #train_score = lr.score(x_train_scaled, y_train)\n",
    "    #test_score = lr.score(x_test_scaled, y_test)\n",
    "    #print(\"num_tree\", each, \"score\", train_score, test_score)\n",
    "    #print(x_pred)\n",
    "    # now 拟合\n",
    "    print(np.array(range(len(series.index))).reshape(1, -1))\n",
    "    y_fit = lr.predict(np.array(range(len(series.index),len(series.index)+103)).reshape(1, -1))\n",
    "    print(y_fit[0])\n",
    "    print(series.values)\n",
    "    #附加新元素时也加上一个单位的索引\n",
    "    for t in range(52,1,-1):\n",
    "        series_p = series_p.append(pd.Series(y_fit[0][-t],index=[series_p.index[-1]+timedelta(days=7)]))\n",
    "    return {'Predictions': series_p[series.index[-1]:series_p.index[-1]]}"
   ]
  },
  {
   "cell_type": "code",
   "execution_count": 42,
   "metadata": {},
   "outputs": [],
   "source": [
    "#季节变动每一年都是一样的，预测季节因素只需要将前一年的数据复制到新一年即可\n",
    "def season_forcast_year(seasonal):\n",
    "    seasonal_f = seasonal\n",
    "    seasonal_f.index = seasonal.index+timedelta(weeks=104)\n",
    "    return seasonal_f"
   ]
  },
  {
   "cell_type": "code",
   "execution_count": 43,
   "metadata": {
    "scrolled": true
   },
   "outputs": [
    {
     "name": "stdout",
     "output_type": "stream",
     "text": [
      "[[  0   1   2   3   4   5   6   7   8   9  10  11  12  13  14  15  16  17\n",
      "   18  19  20  21  22  23  24  25  26  27  28  29  30  31  32  33  34  35\n",
      "   36  37  38  39  40  41  42  43  44  45  46  47  48  49  50  51  52  53\n",
      "   54  55  56  57  58  59  60  61  62  63  64  65  66  67  68  69  70  71\n",
      "   72  73  74  75  76  77  78  79  80  81  82  83  84  85  86  87  88  89\n",
      "   90  91  92  93  94  95  96  97  98  99 100 101 102]]\n",
      "[-12.18807825 -11.72114433 -11.25421042 -10.7872765  -10.32034258\n",
      "  -9.85340866  -9.38647474  -8.91954083  -8.45260691  -7.98567299\n",
      "  -7.51873907  -7.05180515  -6.58487123  -6.11793732  -5.6510034\n",
      "  -5.18406948  -4.71713556  -4.25020164  -3.78326773  -3.31633381\n",
      "  -2.84939989  -2.38246597  -1.91553205  -1.44859813  -0.98166422\n",
      "  -0.5147303   18.24576923  16.61826923  15.00788462  13.42730769\n",
      "  10.75442308   8.03538462   6.48442308   4.96211538   3.60730769\n",
      "   2.50423077   1.88403846   1.69961538   1.51019231   1.32903846\n",
      "   1.15634615   0.98634615   0.83615385   0.78596154   0.96384615\n",
      "   1.34980769   1.83615385   2.43903846   3.11615385   3.84384615\n",
      "   4.53134615   5.20096154   5.95134615   6.67307692   7.32711538\n",
      "   7.87192308   8.30346154   8.79115385   9.55384615  10.63192308\n",
      "  12.03653846  13.5625      14.99653846  16.52980769  18.0975\n",
      "  19.67288462  21.14807692  22.54865385  23.98019231  25.28173077\n",
      "  26.66403846  28.12942308  29.53038462  31.1625      33.065\n",
      "  34.97865385  36.86346154  23.76583345  24.23276737  24.69970128\n",
      "  25.1666352   25.63356912  26.10050304  26.56743696  27.03437087\n",
      "  27.50130479  27.96823871  28.43517263  28.90210655  29.36904047\n",
      "  29.83597438  30.3029083   30.76984222  31.23677614  31.70371006\n",
      "  32.17064397  32.63757789  33.10451181  33.57144573  34.03837965\n",
      "  34.50531357  34.97224748  35.4391814 ]\n",
      "[-12.18807825 -11.72114433 -11.25421042 -10.7872765  -10.32034258\n",
      "  -9.85340866  -9.38647474  -8.91954083  -8.45260691  -7.98567299\n",
      "  -7.51873907  -7.05180515  -6.58487123  -6.11793732  -5.6510034\n",
      "  -5.18406948  -4.71713556  -4.25020164  -3.78326773  -3.31633381\n",
      "  -2.84939989  -2.38246597  -1.91553205  -1.44859813  -0.98166422\n",
      "  -0.5147303   18.24576923  16.61826923  15.00788462  13.42730769\n",
      "  10.75442308   8.03538462   6.48442308   4.96211538   3.60730769\n",
      "   2.50423077   1.88403846   1.69961538   1.51019231   1.32903846\n",
      "   1.15634615   0.98634615   0.83615385   0.78596154   0.96384615\n",
      "   1.34980769   1.83615385   2.43903846   3.11615385   3.84384615\n",
      "   4.53134615   5.20096154   5.95134615   6.67307692   7.32711538\n",
      "   7.87192308   8.30346154   8.79115385   9.55384615  10.63192308\n",
      "  12.03653846  13.5625      14.99653846  16.52980769  18.0975\n",
      "  19.67288462  21.14807692  22.54865385  23.98019231  25.28173077\n",
      "  26.66403846  28.12942308  29.53038462  31.1625      33.065\n",
      "  34.97865385  36.86346154  23.76583345  24.23276737  24.69970128\n",
      "  25.1666352   25.63356912  26.10050304  26.56743696  27.03437087\n",
      "  27.50130479  27.96823871  28.43517263  28.90210655  29.36904047\n",
      "  29.83597438  30.3029083   30.76984222  31.23677614  31.70371006\n",
      "  32.17064397  32.63757789  33.10451181  33.57144573  34.03837965\n",
      "  34.50531357  34.97224748  35.4391814 ]\n"
     ]
    }
   ],
   "source": [
    "linear_predict = LinearRegression_modes(trend)"
   ]
  },
  {
   "cell_type": "code",
   "execution_count": 44,
   "metadata": {},
   "outputs": [
    {
     "name": "stdout",
     "output_type": "stream",
     "text": [
      "[35.4391814   5.20096154  5.95134615  6.67307692  7.32711538  7.87192308\n",
      "  8.30346154  8.79115385  9.55384615 10.63192308 12.03653846 13.5625\n",
      " 14.99653846 16.52980769 18.0975     19.67288462 21.14807692 22.54865385\n",
      " 23.98019231 25.28173077 26.66403846 28.12942308 29.53038462 31.1625\n",
      " 33.065      34.97865385 36.86346154 23.76583345 24.23276737 24.69970128\n",
      " 25.1666352  25.63356912 26.10050304 26.56743696 27.03437087 27.50130479\n",
      " 27.96823871 28.43517263 28.90210655 29.36904047 29.83597438 30.3029083\n",
      " 30.76984222 31.23677614 31.70371006 32.17064397 32.63757789 33.10451181\n",
      " 33.57144573 34.03837965 34.50531357 34.97224748]\n"
     ]
    }
   ],
   "source": [
    "print(linear_predict['Predictions'].values)"
   ]
  },
  {
   "cell_type": "code",
   "execution_count": 45,
   "metadata": {},
   "outputs": [],
   "source": [
    "# type(y_fit)"
   ]
  },
  {
   "cell_type": "code",
   "execution_count": 46,
   "metadata": {},
   "outputs": [],
   "source": [
    "# trend_coefficient=proper_model(trend_diff,20)\n",
    "# print(trend_coefficient)"
   ]
  },
  {
   "cell_type": "code",
   "execution_count": 47,
   "metadata": {},
   "outputs": [],
   "source": [
    "# trend_model =  compare_ARIMA_modes(trend_diff,(trend_coefficient[1], 1, trend_coefficient[2]))"
   ]
  },
  {
   "cell_type": "code",
   "execution_count": 48,
   "metadata": {},
   "outputs": [],
   "source": [
    "# forecast and predict are different for ARMA\n",
    "# print()\n",
    "# plt.plot(trend, label='Ground Truth')\n",
    "# plt.plot(linear_predict['Predictions'][1:-1]+2.5, color='red', label='.forecast()',linestyle='dashed')\n",
    "# plt.legend(loc='best')\n",
    "# plt.title('ARMA')\n",
    "# plt.show()"
   ]
  },
  {
   "cell_type": "code",
   "execution_count": 49,
   "metadata": {},
   "outputs": [],
   "source": [
    "trend_model =  compare_ARIMA_modes(trend,(0, 1, 0))"
   ]
  },
  {
   "cell_type": "code",
   "execution_count": 50,
   "metadata": {},
   "outputs": [
    {
     "name": "stdout",
     "output_type": "stream",
     "text": [
      "\n"
     ]
    },
    {
     "data": {
      "image/png": "[encoded data removed]",
      "text/plain": [
       "<Figure size 432x288 with 1 Axes>"
      ]
     },
     "metadata": {
      "needs_background": "light"
     },
     "output_type": "display_data"
    }
   ],
   "source": [
    "# forecast and predict are different for ARMA\n",
    "print()\n",
    "plt.plot(trend, label='Ground Truth')\n",
    "plt.plot(linear_predict['Predictions'], color='red', label='.forecast()',linestyle='dashed')\n",
    "plt.legend(loc='best')\n",
    "plt.title('ARMA')\n",
    "plt.show()"
   ]
  },
  {
   "cell_type": "code",
   "execution_count": 51,
   "metadata": {},
   "outputs": [],
   "source": [
    "# predictions_ARIMA_diff_cumsum = predictions_ARIMA_diff.cumsum()"
   ]
  },
  {
   "cell_type": "code",
   "execution_count": 52,
   "metadata": {},
   "outputs": [],
   "source": [
    "# residual_coefficient=proper_model(residual,20)\n",
    "# print(residual_coefficient)"
   ]
  },
  {
   "cell_type": "code",
   "execution_count": 53,
   "metadata": {},
   "outputs": [
    {
     "name": "stderr",
     "output_type": "stream",
     "text": [
      "C:\\ProgramData\\Anaconda3\\envs\\p36workshop\\lib\\site-packages\\statsmodels\\base\\model.py:488: HessianInversionWarning: Inverting hessian failed, no bse or cov_params available\n",
      "  'available', HessianInversionWarning)\n",
      "C:\\ProgramData\\Anaconda3\\envs\\p36workshop\\lib\\site-packages\\statsmodels\\base\\model.py:508: ConvergenceWarning: Maximum Likelihood optimization failed to converge. Check mle_retvals\n",
      "  \"Check mle_retvals\", ConvergenceWarning)\n"
     ]
    }
   ],
   "source": [
    "residual_model =  compare_ARIMA_modes(residual,(18, 1, 8))"
   ]
  },
  {
   "cell_type": "code",
   "execution_count": 54,
   "metadata": {},
   "outputs": [
    {
     "data": {
      "image/png": "[encoded data removed]",
      "text/plain": [
       "<Figure size 432x288 with 1 Axes>"
      ]
     },
     "metadata": {
      "needs_background": "light"
     },
     "output_type": "display_data"
    }
   ],
   "source": [
    "plt.plot(residual, label='Ground Truth')\n",
    "plt.plot(residual_model['Predictions forecast'], color='red', label='.forecast()',linestyle='dashed')\n",
    "plt.plot(residual_model['Predictions predict'], color='green', label='.predict()',linestyle='dotted')\n",
    "plt.legend(loc='best')\n",
    "plt.title('residual_model')\n",
    "plt.show(block=False)"
   ]
  },
  {
   "cell_type": "code",
   "execution_count": 55,
   "metadata": {},
   "outputs": [],
   "source": [
    "seasonal_f=season_forcast_year(seasonal)"
   ]
  },
  {
   "cell_type": "code",
   "execution_count": 56,
   "metadata": {},
   "outputs": [
    {
     "data": {
      "text/plain": [
       "2019-05-23    11.578118\n",
       "2019-05-30    11.578118\n",
       "2019-06-06    90.053519\n",
       "2019-06-13    89.613339\n",
       "2019-06-20    89.963923\n",
       "dtype: float64"
      ]
     },
     "execution_count": 56,
     "metadata": {},
     "output_type": "execute_result"
    }
   ],
   "source": [
    "forcast_model = linear_predict['Predictions'][1:-1]+2.5+residual_model['Predictions forecast']+seasonal_f\n",
    "forcast_model.fillna(11.578118,inplace=True)\n",
    "forcast_model.head()"
   ]
  },
  {
   "cell_type": "code",
   "execution_count": 57,
   "metadata": {},
   "outputs": [
    {
     "data": {
      "text/plain": [
       "2019-05-23    11.578118\n",
       "2019-05-30    11.578118\n",
       "2019-06-06    90.053519\n",
       "2019-06-13    89.613339\n",
       "2019-06-20    89.963923\n",
       "dtype: float64"
      ]
     },
     "execution_count": 57,
     "metadata": {},
     "output_type": "execute_result"
    }
   ],
   "source": [
    "forcast_model_least=linear_predict['Predictions'][1:-1]+2.5+seasonal_f\n",
    "#forcast_model_least.fillna(11.578118,inplace=True)\n",
    "forcast_model.head()"
   ]
  },
  {
   "cell_type": "markdown",
   "metadata": {},
   "source": [
    "# 预测"
   ]
  },
  {
   "cell_type": "code",
   "execution_count": 58,
   "metadata": {},
   "outputs": [
    {
     "data": {
      "image/png": "[encoded data removed]",
      "text/plain": [
       "<Figure size 432x288 with 1 Axes>"
      ]
     },
     "metadata": {
      "needs_background": "light"
     },
     "output_type": "display_data"
    }
   ],
   "source": [
    "import math\n",
    "ts_past_list = (ts.index-timedelta(weeks=103)).to_list()\n",
    "ts_later_list = (ts.index+timedelta(weeks=103)).to_list()\n",
    "ts_list = ts.index.to_list()\n",
    "ts_list=ts_past_list+ts_list+ts_later_list\n",
    "series=pd.Series(np.arange(0, 12.36, 0.04),index=ts_list)\n",
    "plt.plot(series,label='未处理')\n",
    "plt.legend(loc='best')\n",
    "for i in [5,10,30,50]:\n",
    "    series_p=series.apply(lambda x:10/(1+i*math.e**(1-x))+1.5)\n",
    "    plt.plot(series_p,label='i为'+str(i))\n",
    "    plt.legend(loc='best')"
   ]
  },
  {
   "cell_type": "code",
   "execution_count": 59,
   "metadata": {},
   "outputs": [
    {
     "name": "stdout",
     "output_type": "stream",
     "text": [
      "<class 'pandas.core.indexes.datetimes.DatetimeIndex'>\n"
     ]
    }
   ],
   "source": [
    "print(type(ts.index))"
   ]
  },
  {
   "cell_type": "code",
   "execution_count": 60,
   "metadata": {},
   "outputs": [
    {
     "name": "stderr",
     "output_type": "stream",
     "text": [
      "C:\\ProgramData\\Anaconda3\\envs\\p36workshop\\lib\\site-packages\\ipykernel_launcher.py:1: FutureWarning: \n",
      "Passing list-likes to .loc or [] with any missing label will raise\n",
      "KeyError in the future, you can use .reindex() as an alternative.\n",
      "\n",
      "See the documentation here:\n",
      "https://pandas.pydata.org/pandas-docs/stable/indexing.html#deprecate-loc-reindex-listlike\n",
      "  \"\"\"Entry point for launching an IPython kernel.\n"
     ]
    },
    {
     "data": {
      "image/png": "[encoded data removed]",
      "text/plain": [
       "<Figure size 432x288 with 1 Axes>"
      ]
     },
     "metadata": {
      "needs_background": "light"
     },
     "output_type": "display_data"
    }
   ],
   "source": [
    "plt.plot(series_p.loc[pd.concat([ts.index.to_series(),forcast_model.index.to_series()]).index],label='S型曲线')\n",
    "plt.plot(ts, label='历史负荷')\n",
    "plt.plot(forcast_model, color='red', label='预测曲线上界')\n",
    "plt.plot(forcast_model_least, color='green', label='预测曲线下界',linestyle='dashed')\n",
    "plt.legend(loc='best')\n",
    "plt.title('预测结果')\n",
    "plt.savefig('foo.png')\n",
    "plt.show()"
   ]
  },
  {
   "cell_type": "code",
   "execution_count": 61,
   "metadata": {},
   "outputs": [
    {
     "data": {
      "image/png": "[encoded data removed]",
      "text/plain": [
       "<Figure size 432x288 with 1 Axes>"
      ]
     },
     "metadata": {
      "needs_background": "light"
     },
     "output_type": "display_data"
    }
   ],
   "source": [
    "plt.plot(forcast_model, color='red', label='预测曲线上界')\n",
    "plt.plot(forcast_model_least, color='green', label='预测曲线下界',linestyle='dashed')\n",
    "plt.legend(loc='best')\n",
    "plt.title('预测结果')\n",
    "plt.savefig('foo.png')\n",
    "plt.show()"
   ]
  },
  {
   "cell_type": "code",
   "execution_count": 62,
   "metadata": {},
   "outputs": [
    {
     "data": {
      "image/png": "[encoded data removed]",
      "text/plain": [
       "<Figure size 432x288 with 1 Axes>"
      ]
     },
     "metadata": {
      "needs_background": "light"
     },
     "output_type": "display_data"
    }
   ],
   "source": [
    "plt.plot(ts, label='Ground Truth')\n",
    "\n",
    "plt.legend(loc='best')\n",
    "plt.title('forcast_model')\n",
    "plt.show()"
   ]
  },
  {
   "cell_type": "code",
   "execution_count": 63,
   "metadata": {},
   "outputs": [
    {
     "data": {
      "text/plain": [
       "[<matplotlib.lines.Line2D at 0x1abcfe06cf8>]"
      ]
     },
     "execution_count": 63,
     "metadata": {},
     "output_type": "execute_result"
    },
    {
     "data": {
      "image/png": "[encoded data removed]",
      "text/plain": [
       "<Figure size 432x288 with 1 Axes>"
      ]
     },
     "metadata": {
      "needs_background": "light"
     },
     "output_type": "display_data"
    }
   ],
   "source": [
    "plt.plot(ts[-52:-1])"
   ]
  },
  {
   "cell_type": "code",
   "execution_count": 64,
   "metadata": {},
   "outputs": [
    {
     "data": {
      "text/plain": [
       "[<matplotlib.lines.Line2D at 0x1abcfe43f60>]"
      ]
     },
     "execution_count": 64,
     "metadata": {},
     "output_type": "execute_result"
    },
    {
     "data": {
      "image/png": "[encoded data removed]",
      "text/plain": [
       "<Figure size 432x288 with 1 Axes>"
      ]
     },
     "metadata": {
      "needs_background": "light"
     },
     "output_type": "display_data"
    }
   ],
   "source": [
    "plt.plot(ts[-104:-53])"
   ]
  },
  {
   "cell_type": "code",
   "execution_count": 65,
   "metadata": {},
   "outputs": [
    {
     "data": {
      "text/plain": [
       "[<matplotlib.lines.Line2D at 0x1abcfeb02b0>]"
      ]
     },
     "execution_count": 65,
     "metadata": {},
     "output_type": "execute_result"
    },
    {
     "data": {
      "image/png": "[encoded data removed]",
      "text/plain": [
       "<Figure size 432x288 with 1 Axes>"
      ]
     },
     "metadata": {
      "needs_background": "light"
     },
     "output_type": "display_data"
    }
   ],
   "source": [
    "plt.plot(forcast_model)"
   ]
  },
  {
   "cell_type": "markdown",
   "metadata": {},
   "source": [
    "# 预测时间序列"
   ]
  },
  {
   "cell_type": "code",
   "execution_count": 66,
   "metadata": {},
   "outputs": [
    {
     "data": {
      "image/png": "[encoded data removed]",
      "text/plain": [
       "<Figure size 864x576 with 2 Axes>"
      ]
     },
     "metadata": {
      "needs_background": "light"
     },
     "output_type": "display_data"
    }
   ],
   "source": [
    "fig = plt.figure(figsize=(12,8))\n",
    "ax1 = fig.add_subplot(211)\n",
    "fig = sm.graphics.tsa.plot_acf(ts_diff, lags=40, ax=ax1) #从13开始是因为做季节性差分时window是12\n",
    "ax2 = fig.add_subplot(212)\n",
    "fig = sm.graphics.tsa.plot_pacf(ts_diff, lags=40, ax=ax2)"
   ]
  },
  {
   "cell_type": "code",
   "execution_count": 67,
   "metadata": {},
   "outputs": [
    {
     "data": {
      "image/png": "[encoded data removed]",
      "text/plain": [
       "<Figure size 864x576 with 2 Axes>"
      ]
     },
     "metadata": {
      "needs_background": "light"
     },
     "output_type": "display_data"
    }
   ],
   "source": [
    "fig = plt.figure(figsize=(12,8))\n",
    "ax1 = fig.add_subplot(211)\n",
    "fig = sm.graphics.tsa.plot_acf(trend.dropna(), lags=40, ax=ax1) #从13开始是因为做季节性差分时window是12\n",
    "ax2 = fig.add_subplot(212)\n",
    "fig = sm.graphics.tsa.plot_pacf(trend.dropna(), lags=40, ax=ax2)"
   ]
  },
  {
   "cell_type": "markdown",
   "metadata": {},
   "source": [
    "### ACF & PACF Plots"
   ]
  },
  {
   "cell_type": "code",
   "execution_count": 68,
   "metadata": {
    "scrolled": true
   },
   "outputs": [
    {
     "data": {
      "image/png": "[encoded data removed]",
      "text/plain": [
       "<Figure size 432x288 with 2 Axes>"
      ]
     },
     "metadata": {
      "needs_background": "light"
     },
     "output_type": "display_data"
    }
   ],
   "source": [
    "#选择差分处理后的结果进行预测\n",
    "#ACF and PACF plots:\n",
    "from statsmodels.tsa.stattools import acf, pacf  \n",
    "\n",
    "lag_acf = acf(ts_diff, nlags=20)\n",
    "lag_pacf = pacf(ts_diff, nlags=20, method='ols')\n",
    "\n",
    "#Plot ACF:    \n",
    "plt.subplot(121)    \n",
    "plt.plot(lag_acf)\n",
    "plt.axhline(y=0,linestyle='--',color='gray')\n",
    "plt.axhline(y=-1.96/np.sqrt(len(ts_diff)),linestyle='--',color='gray')\n",
    "plt.axhline(y=1.96/np.sqrt(len(ts_diff)),linestyle='--',color='gray')\n",
    "plt.title('Autocorrelation Function')\n",
    "\n",
    "#Plot PACF:\n",
    "plt.subplot(122)\n",
    "plt.plot(lag_pacf)\n",
    "plt.axhline(y=0,linestyle='--',color='gray')\n",
    "plt.axhline(y=-1.96/np.sqrt(len(ts_diff)),linestyle='--',color='gray')\n",
    "plt.axhline(y=1.96/np.sqrt(len(ts_diff)),linestyle='--',color='gray')\n",
    "plt.title('Partial Autocorrelation Function')\n",
    "plt.tight_layout()\n",
    "\n",
    "#两条虚线之间是置信区间"
   ]
  },
  {
   "cell_type": "code",
   "execution_count": 69,
   "metadata": {},
   "outputs": [
    {
     "data": {
      "image/png": "[encoded data removed]",
      "text/plain": [
       "<Figure size 432x288 with 2 Axes>"
      ]
     },
     "metadata": {
      "needs_background": "light"
     },
     "output_type": "display_data"
    }
   ],
   "source": [
    "#选择季节分解后的趋势进行预测\n",
    "#ACF and PACF plots:\n",
    "from statsmodels.tsa.stattools import acf, pacf  \n",
    "\n",
    "lag_acf = acf(trend.dropna(), nlags=20)\n",
    "lag_pacf = pacf(trend.dropna(), nlags=20, method='ols')\n",
    "\n",
    "#Plot ACF:    \n",
    "plt.subplot(121)    \n",
    "plt.plot(lag_acf)\n",
    "plt.axhline(y=0,linestyle='--',color='gray')\n",
    "plt.axhline(y=-1.96/np.sqrt(len(trend.dropna())),linestyle='--',color='gray')\n",
    "plt.axhline(y=1.96/np.sqrt(len(trend.dropna())),linestyle='--',color='gray')\n",
    "plt.title('Autocorrelation Function')\n",
    "\n",
    "#Plot PACF:\n",
    "plt.subplot(122)\n",
    "plt.plot(lag_pacf)\n",
    "plt.axhline(y=0,linestyle='--',color='gray')\n",
    "plt.axhline(y=-1.96/np.sqrt(len(trend.dropna())),linestyle='--',color='gray')\n",
    "plt.axhline(y=1.96/np.sqrt(len(trend.dropna())),linestyle='--',color='gray')\n",
    "plt.title('Partial Autocorrelation Function')\n",
    "plt.tight_layout()\n",
    "\n",
    "#两条虚线之间是置信区间"
   ]
  },
  {
   "cell_type": "markdown",
   "metadata": {},
   "source": [
    "### AR Model:"
   ]
  },
  {
   "cell_type": "code",
   "execution_count": 70,
   "metadata": {},
   "outputs": [
    {
     "ename": "NameError",
     "evalue": "name 'ts_log' is not defined",
     "output_type": "error",
     "traceback": [
      "\u001b[1;31m---------------------------------------------------------------------------\u001b[0m",
      "\u001b[1;31mNameError\u001b[0m                                 Traceback (most recent call last)",
      "\u001b[1;32m<ipython-input-70-5555ca7945b4>\u001b[0m in \u001b[0;36m<module>\u001b[1;34m\u001b[0m\n\u001b[0;32m      1\u001b[0m \u001b[1;31m#MA model:\u001b[0m\u001b[1;33m\u001b[0m\u001b[1;33m\u001b[0m\u001b[1;33m\u001b[0m\u001b[0m\n\u001b[1;32m----> 2\u001b[1;33m \u001b[0mmodel\u001b[0m \u001b[1;33m=\u001b[0m \u001b[0mARIMA\u001b[0m\u001b[1;33m(\u001b[0m\u001b[0mts_log\u001b[0m\u001b[1;33m,\u001b[0m \u001b[0morder\u001b[0m\u001b[1;33m=\u001b[0m\u001b[1;33m(\u001b[0m\u001b[1;36m1\u001b[0m\u001b[1;33m,\u001b[0m \u001b[1;36m1\u001b[0m\u001b[1;33m,\u001b[0m \u001b[1;36m2\u001b[0m\u001b[1;33m)\u001b[0m\u001b[1;33m,\u001b[0m\u001b[0mfreq\u001b[0m\u001b[1;33m=\u001b[0m\u001b[0mts_log\u001b[0m\u001b[1;33m.\u001b[0m\u001b[0mindex\u001b[0m\u001b[1;33m.\u001b[0m\u001b[0minferred_freq\u001b[0m\u001b[1;33m)\u001b[0m\u001b[1;33m\u001b[0m\u001b[1;33m\u001b[0m\u001b[0m\n\u001b[0m\u001b[0;32m      3\u001b[0m \u001b[0mresults_AR\u001b[0m \u001b[1;33m=\u001b[0m \u001b[0mmodel\u001b[0m\u001b[1;33m.\u001b[0m\u001b[0mfit\u001b[0m\u001b[1;33m(\u001b[0m\u001b[0mdisp\u001b[0m\u001b[1;33m=\u001b[0m\u001b[1;33m-\u001b[0m\u001b[1;36m1\u001b[0m\u001b[1;33m)\u001b[0m\u001b[1;33m\u001b[0m\u001b[1;33m\u001b[0m\u001b[0m\n\u001b[0;32m      4\u001b[0m \u001b[0mplt\u001b[0m\u001b[1;33m.\u001b[0m\u001b[0mplot\u001b[0m\u001b[1;33m(\u001b[0m\u001b[0mts_log_diff\u001b[0m\u001b[1;33m)\u001b[0m\u001b[1;33m\u001b[0m\u001b[1;33m\u001b[0m\u001b[0m\n\u001b[0;32m      5\u001b[0m \u001b[0mplt\u001b[0m\u001b[1;33m.\u001b[0m\u001b[0mplot\u001b[0m\u001b[1;33m(\u001b[0m\u001b[0mresults_AR\u001b[0m\u001b[1;33m.\u001b[0m\u001b[0mfittedvalues\u001b[0m\u001b[1;33m,\u001b[0m \u001b[0mcolor\u001b[0m\u001b[1;33m=\u001b[0m\u001b[1;34m'red'\u001b[0m\u001b[1;33m)\u001b[0m\u001b[1;33m\u001b[0m\u001b[1;33m\u001b[0m\u001b[0m\n",
      "\u001b[1;31mNameError\u001b[0m: name 'ts_log' is not defined"
     ]
    }
   ],
   "source": [
    "#MA model:\n",
    "model = ARIMA(ts_log, order=(1, 1, 2),freq=ts_log.index.inferred_freq)  \n",
    "results_AR = model.fit(disp=-1)  \n",
    "plt.plot(ts_log_diff)\n",
    "plt.plot(results_AR.fittedvalues, color='red')\n",
    "plt.title('RSS: %.4f'% sum((results_AR.fittedvalues-ts_log_diff)**2))"
   ]
  },
  {
   "cell_type": "markdown",
   "metadata": {},
   "source": [
    "### MA Model"
   ]
  },
  {
   "cell_type": "code",
   "execution_count": null,
   "metadata": {},
   "outputs": [],
   "source": [
    "model = ARIMA(ts_log, order=(0, 1, 2),freq=ts_log.index.inferred_freq)  \n",
    "results_MA = model.fit(disp=-1)  \n",
    "plt.plot(ts_log_diff)\n",
    "plt.plot(results_MA.fittedvalues, color='red')\n",
    "plt.title('RSS: %.4f'% sum((results_MA.fittedvalues-ts_log_diff)**2))"
   ]
  },
  {
   "cell_type": "markdown",
   "metadata": {},
   "source": [
    "### ARIMA Model:"
   ]
  },
  {
   "cell_type": "code",
   "execution_count": null,
   "metadata": {
    "scrolled": false
   },
   "outputs": [],
   "source": [
    "model = ARIMA(ts_log, order=(2, 1, 2),freq=ts_log.index.inferred_freq)  \n",
    "results_ARIMA = model.fit(disp=-1)  \n",
    "plt.plot(ts_log_diff)\n",
    "plt.plot(results_ARIMA.fittedvalues, color='red')\n",
    "plt.title('RSS: %.4f'% sum((results_ARIMA.fittedvalues-ts_log_diff)**2))"
   ]
  },
  {
   "cell_type": "markdown",
   "metadata": {},
   "source": [
    "### 预测还原:"
   ]
  },
  {
   "cell_type": "code",
   "execution_count": null,
   "metadata": {},
   "outputs": [],
   "source": [
    "predictions_ARIMA_diff = pd.Series(results_ARIMA.fittedvalues, copy=True)\n",
    "print(predictions_ARIMA_diff.head())"
   ]
  },
  {
   "cell_type": "code",
   "execution_count": null,
   "metadata": {},
   "outputs": [],
   "source": [
    "predictions_ARIMA_diff_cumsum = predictions_ARIMA_diff.cumsum()\n",
    "print(predictions_ARIMA_diff_cumsum.head())"
   ]
  },
  {
   "cell_type": "code",
   "execution_count": null,
   "metadata": {},
   "outputs": [],
   "source": [
    "predictions_ARIMA_log = pd.Series(ts_log.iloc[0], index=ts_log.index)\n",
    "predictions_ARIMA_log = predictions_ARIMA_log.add(predictions_ARIMA_diff_cumsum,fill_value=0)\n",
    "predictions_ARIMA_log.head()"
   ]
  },
  {
   "cell_type": "code",
   "execution_count": null,
   "metadata": {},
   "outputs": [],
   "source": [
    "plt.plot(ts_log)\n",
    "plt.plot(predictions_ARIMA_diff_cumsum)"
   ]
  },
  {
   "cell_type": "code",
   "execution_count": null,
   "metadata": {},
   "outputs": [],
   "source": [
    "plt.plot(ts_log)\n",
    "plt.plot(predictions_ARIMA_log)\n",
    "predictions_ARIMA_log=predictions_ARIMA_log.rename('predictions_ARIMA_log')\n",
    "predictions_ARIMA_log.to_csv(predictions_ARIMA_log.name+'.csv',header=True)"
   ]
  },
  {
   "cell_type": "code",
   "execution_count": null,
   "metadata": {},
   "outputs": [],
   "source": [
    "predictions_ARIMA = np.exp(predictions_ARIMA_log)\n",
    "plt.plot(ts)\n",
    "plt.plot(predictions_ARIMA)\n",
    "plt.title('RMSE: %.4f'% np.sqrt(sum((predictions_ARIMA-ts)**2)/len(ts)))"
   ]
  },
  {
   "cell_type": "markdown",
   "metadata": {},
   "source": [
    "### 对分解出来的趋势进行预测"
   ]
  }
 ],
 "metadata": {
  "kernelspec": {
   "display_name": "Python 3",
   "language": "python",
   "name": "python3"
  },
  "language_info": {
   "codemirror_mode": {
    "name": "ipython",
    "version": 3
   },
   "file_extension": ".py",
   "mimetype": "text/x-python",
   "name": "python",
   "nbconvert_exporter": "python",
   "pygments_lexer": "ipython3",
   "version": "3.6.8"
  }
 },
 "nbformat": 4,
 "nbformat_minor": 1
}
