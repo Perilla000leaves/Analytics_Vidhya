{
 "cells": [
  {
   "cell_type": "markdown",
   "metadata": {},
   "source": [
    "# Steps to Tackle a Time Series Problem (with Codes in Python)\n",
    "Note: These are just the codes from article"
   ]
  },
  {
   "cell_type": "markdown",
   "metadata": {},
   "source": [
    "## Loading and Handling TS in Pandas"
   ]
  },
  {
   "cell_type": "code",
   "execution_count": 77,
   "metadata": {},
   "outputs": [],
   "source": [
    "import pandas as pd\n",
    "import warnings\n",
    "import xlrd\n",
    "import sys\n",
    "from pandas.plotting import register_matplotlib_converters\n",
    "import numpy as np\n",
    "from datetime import datetime,timedelta\n",
    "from statsmodels.tsa.arima_model import ARIMA\n",
    "from statsmodels.tsa.arima_model import ARMA\n",
    "import statsmodels.api as sm\n",
    "from sklearn.metrics import mean_squared_error\n",
    "import matplotlib.pylab as plt\n",
    "import seaborn as sea\n",
    "from sklearn.linear_model import LassoCV, RidgeCV, LinearRegression\n",
    "\n",
    "%matplotlib inline\n",
    "from matplotlib.pylab import rcParams\n",
    "rcParams['figure.figsize'] = 30,12\n",
    "rcParams['font.sans-serif']=['SimHei']\n",
    "rcParams['axes.unicode_minus'] = False\n",
    "warnings.filterwarnings(action='once')"
   ]
  },
  {
   "cell_type": "code",
   "execution_count": 78,
   "metadata": {},
   "outputs": [
    {
     "name": "stderr",
     "output_type": "stream",
     "text": [
      "C:\\ProgramData\\Anaconda3\\envs\\p36workshop\\lib\\site-packages\\xlrd\\xlsx.py:266: PendingDeprecationWarning: This method will be removed in future versions.  Use 'tree.iter()' or 'list(tree.iter())' instead.\n",
      "  for elem in self.tree.iter() if Element_has_iter else self.tree.getiterator():\n",
      "C:\\ProgramData\\Anaconda3\\envs\\p36workshop\\lib\\site-packages\\IPython\\core\\interactiveshell.py:3049: DtypeWarning: Columns (1) have mixed types. Specify dtype option on import or set low_memory=False.\n",
      "  interactivity=interactivity, compiler=compiler, result=result)\n"
     ]
    }
   ],
   "source": [
    "#data_history是对象历史负荷表\n",
    "data_history = pd.read_csv('tq_past_load.csv',encoding=\"gb18030\",header=0,parse_dates=['2017/6/8','2017/6/15','2017/6/22','2017/6/29','2017/7/6','2017/7/13','2017/7/20','2017/7/27','2017/8/3','2017/8/10','2017/8/17','2017/8/24','2017/8/31','2017/9/7','2017/9/14','2017/9/21','2017/9/28','2017/10/5','2017/10/12','2017/10/19','2017/10/26','2017/11/2','2017/11/9','2017/11/16','2017/11/23','2017/11/30','2017/12/7','2017/12/14','2017/12/21','2017/12/28','2018/1/4','2018/1/11','2018/1/18','2018/1/25','2018/2/1','2018/2/8','2018/2/15','2018/2/22','2018/3/1','2018/3/8','2018/3/15','2018/3/22','2018/3/29','2018/4/5','2018/4/12','2018/4/19','2018/4/26','2018/5/3','2018/5/10','2018/5/17','2018/5/24','2018/5/31','2018/6/7','2018/6/14','2018/6/21','2018/6/28','2018/7/5','2018/7/12','2018/7/19','2018/7/26','2018/8/2','2018/8/9','2018/8/16','2018/8/23','2018/8/30','2018/9/6','2018/9/13','2018/9/20','2018/9/27','2018/10/4','2018/10/11','2018/10/18','2018/10/25','2018/11/1','2018/11/8','2018/11/15','2018/11/22','2018/11/29','2018/12/6','2018/12/13','2018/12/20','2018/12/27','2019/1/3','2019/1/10','2019/1/17','2019/1/24','2019/1/31','2019/2/7','2019/2/14','2019/2/21','2019/2/28','2019/3/7','2019/3/14','2019/3/21','2019/3/28','2019/4/4','2019/4/11','2019/4/18','2019/4/25','2019/5/2','2019/5/9','2019/5/16','2019/5/23'])"
   ]
  },
  {
   "cell_type": "code",
   "execution_count": 88,
   "metadata": {},
   "outputs": [],
   "source": [
    "data_history.bs = data_history.bs.apply(lambda x:x[1:])\n",
    "data_history = data_history.set_index('bs')\n"
   ]
  },
  {
   "cell_type": "code",
   "execution_count": 89,
   "metadata": {},
   "outputs": [],
   "source": [
    "#连接每个对象的历史负荷\n",
    "data_sort_history = data_cluster_industry.join(data_history,rsuffix='r_')"
   ]
  },
  {
   "cell_type": "code",
   "execution_count": 90,
   "metadata": {},
   "outputs": [],
   "source": [
    "#提取立户日期中的年份\n",
    "data_sort_history[[\"lhrq\"]] = data_sort_history[[\"lhrq\"]].astype(str)\n",
    "data_sort_history.lhrq = data_sort_history.lhrq.apply(lambda x:x[:4])"
   ]
  },
  {
   "cell_type": "code",
   "execution_count": 91,
   "metadata": {},
   "outputs": [],
   "source": [
    "#删除无关列\n",
    "data_sort_history.drop(columns=['tqlx','tqlxr_','yxztdm','edrl','yhbh','yhmc','week_day_year200','day80','rowid'],inplace=True)"
   ]
  },
  {
   "cell_type": "code",
   "execution_count": 92,
   "metadata": {},
   "outputs": [],
   "source": [
    "data_sort_history.dropna(subset=['ydlbdm','industry_type'],inplace=True)"
   ]
  },
  {
   "cell_type": "code",
   "execution_count": null,
   "metadata": {},
   "outputs": [],
   "source": [
    "data_draw = data.drop(columns=['相似度\\n分类代码','聚类\\n代码','聚类\\n平均误差','台区名称','用户名称','lhrq','学校类型','age'])\n",
    "\n",
    "data_draw.set_index('bs',inplace=True)\n",
    "data_draw = data_draw.T\n",
    "print(data_draw.columns)\n",
    "print(data_draw.shape[1])\n",
    "\n",
    "for i in range(data_draw.shape[1]-1):\n",
    "    for j in range(data_draw.shape[0]-1):\n",
    "        try:\n",
    "            if data_draw.iloc[j,i] is None:\n",
    "                data_draw.iloc[j,i] = (data_draw.iloc[j+1,i]+data_draw.iloc[j-1,i])/2\n",
    "        except IndexError:\n",
    "            print(j,i)"
   ]
  },
  {
   "cell_type": "code",
   "execution_count": null,
   "metadata": {},
   "outputs": [],
   "source": [
    "register_matplotlib_converters()\n",
    "plt.figure(figsize=(38,36), dpi=80)\n",
    "for i in range(data_draw.shape[1]):\n",
    "    plt.plot(data_draw.iloc[:,i],label=data_draw.columns[i],linewidth=i)\n",
    "leg = plt.legend(loc='best')\n",
    "plt.savefig('data_draw.png')\n",
    "plt.show()"
   ]
  },
  {
   "cell_type": "code",
   "execution_count": null,
   "metadata": {},
   "outputs": [],
   "source": [
    "data_increase_draw = data_increase.drop(columns=['相似度\\n分类代码','聚类\\n代码','聚类\\n平均误差','台区名称','用户名称','lhrq','学校类型','age'])\n",
    "\n",
    "data_increase_draw.set_index('bs',inplace=True)\n",
    "data_increase_draw = data_increase_draw.T\n"
   ]
  },
  {
   "cell_type": "code",
   "execution_count": null,
   "metadata": {},
   "outputs": [],
   "source": [
    "register_matplotlib_converters()\n",
    "plt.figure(figsize=(38,36), dpi=80)\n",
    "for i in range(data_draw.shape[1]):\n",
    "    plt.plot(data_increase_draw.iloc[:,i],label=data_increase_draw.columns[i],linewidth=i)\n",
    "leg = plt.legend(loc='best')\n",
    "plt.savefig('data_increase_draw.png')\n",
    "plt.show()"
   ]
  },
  {
   "cell_type": "code",
   "execution_count": null,
   "metadata": {},
   "outputs": [],
   "source": [
    "# 删除含有负值和零值的行\n",
    "# datatemp=data.drop(columns=['tqlx','tqmc','bs'])\n",
    "# droplist=[]\n",
    "# for i in range(len(datatemp.index)):\n",
    "#     if (datatemp.iloc[i].values<=np.array(0)).any():\n",
    "#         droplist.append(datatemp.iloc[i].name)\n",
    "# data=data.drop(labels=droplist)\n",
    "# data.head()"
   ]
  },
  {
   "cell_type": "code",
   "execution_count": null,
   "metadata": {},
   "outputs": [],
   "source": [
    "# datatemp=data.drop(columns=['tqlx','tqmc','bs'])\n",
    "# print((datatemp.index.isin([0])).size)\n",
    "# datatemp[datatemp.index.isin([0])]"
   ]
  },
  {
   "cell_type": "code",
   "execution_count": null,
   "metadata": {},
   "outputs": [],
   "source": [
    "#每一行的空值用每一行的平均值来填充\n",
    "# for row in data.index:\n",
    "#     data.loc[row].fillna(data.loc[row].drop(['tqlx','tqmc','bs']).mean(),inplace=True)\n",
    "# data.head()"
   ]
  },
  {
   "cell_type": "code",
   "execution_count": null,
   "metadata": {},
   "outputs": [],
   "source": [
    "#tqlx和tqmc在时间序列分析中暂时用不到，删除\n",
    "# data.tqmc.str.contains('学校|大学|小学|中学')\n",
    "# data.loc[data.tqmc.str.contains('学校|大学|小学|中学',na=False)]\n",
    "import copy\n",
    "data_time_series = copy.deepcopy(data.drop(columns=['相似度\\n分类代码','聚类\\n代码','聚类\\n平均误差','台区名称','用户名称']))\n",
    "data_time_series.reset_index(inplace=True)\n",
    "data_time_series.head()"
   ]
  },
  {
   "cell_type": "code",
   "execution_count": null,
   "metadata": {},
   "outputs": [],
   "source": [
    "#转置\n",
    "data_time_series=data_time_series.T\n",
    "#把标识行设为列名\n",
    "data_time_series.columns = data_time_series.iloc[0]\n",
    "data_time_series.drop(index='bs',inplace=True)\n",
    "data_time_series.head()"
   ]
  },
  {
   "cell_type": "code",
   "execution_count": null,
   "metadata": {},
   "outputs": [],
   "source": [
    "#将索引变为列，方便之后格式转换\n",
    "data_time_series.index.names=['time_series']\n",
    "data_time_series=data_time_series.reset_index()\n",
    "data_time_series.head()"
   ]
  },
  {
   "cell_type": "markdown",
   "metadata": {},
   "source": [
    "Reading as datetime format:"
   ]
  },
  {
   "cell_type": "code",
   "execution_count": null,
   "metadata": {},
   "outputs": [],
   "source": [
    "#将含有时序数据的字段转化为datetime64格式\n",
    "dateparse = lambda dates: pd.datetime.strptime(dates, '%Y/%m/%d')\n",
    "# dateparse('2017-08-01')\n",
    "data_time_series['time_series'] = data_time_series['time_series'].apply(dateparse)\n",
    "data_time_series.set_index('time_series',inplace=True)\n",
    "data_time_series=data_time_series.apply(pd.to_numeric)\n",
    "data_time_series.head()"
   ]
  },
  {
   "cell_type": "code",
   "execution_count": null,
   "metadata": {},
   "outputs": [],
   "source": [
    "#处理空值\n",
    "# data_time_series=data_time_series.fillna(method='backfill',axis='index')\n",
    "# data_time_series_dropna=data_time_series.dropna(axis='columns')\n",
    "#去掉重复的台区（重复列）\n",
    "# data_time_series_dropna=data_time_series_dropna.T.drop_duplicates().T\n",
    "# data_time_series_dropna.index"
   ]
  },
  {
   "cell_type": "code",
   "execution_count": null,
   "metadata": {},
   "outputs": [],
   "source": [
    "#粗筛出原始数据缺失值比较少的台区（其表现为填充空值操作后连续重复值较少）,保存为一个列表\n",
    "# drop_little_tq_index = data_time_series_dropna.T\\\n",
    "# [data_time_series_dropna.T['2017-06-08']!=data_time_series_dropna.T['2017-08-03']].index.to_list()"
   ]
  },
  {
   "cell_type": "code",
   "execution_count": null,
   "metadata": {},
   "outputs": [],
   "source": [
    "# print(data_time_series_dropna.columns.is_unique)\n",
    "#打印列的重复次数\n",
    "# List=data_time_series_dropna.columns.to_list()\n",
    "# List_set = set(List) \n",
    "# for item in List_set:\n",
    "#     if List.count(item)>1:\n",
    "#         print(\"the %s has found %d\" %(item,List.count(item)))"
   ]
  },
  {
   "cell_type": "code",
   "execution_count": null,
   "metadata": {},
   "outputs": [],
   "source": [
    "# data_2017_max=pd.DataFrame(data_time_series_dropna['2017'].max(),columns=['2017'])\n",
    "# data_2018_max=pd.DataFrame(data_time_series_dropna['2018'].max(),columns=['2018'])\n",
    "# data_2019_max=pd.DataFrame(data_time_series_dropna['2019'].max(),columns=['2019'])\n",
    "\n",
    "# print(data_2017_max.head())\n",
    "\n",
    "# print(type(data_2017_max))\n",
    "# print(data_2017_max.head())\n",
    "# data_2017_max.index.is_unique"
   ]
  },
  {
   "cell_type": "code",
   "execution_count": null,
   "metadata": {},
   "outputs": [],
   "source": [
    "# bs_year_max=pd.concat([data_2017_max,data_2018_max,data_2019_max],axis=1,join='inner')\n",
    "# bs_year_max.index.is_unique"
   ]
  },
  {
   "cell_type": "code",
   "execution_count": null,
   "metadata": {},
   "outputs": [],
   "source": [
    "#粗筛出逐年增长的负荷数据\n",
    "# increase_tq_index = bs_year_max[(bs_year_max['2017']<bs_year_max['2018']) & (bs_year_max['2018']<bs_year_max['2019'])].index.to_list()"
   ]
  },
  {
   "cell_type": "code",
   "execution_count": null,
   "metadata": {},
   "outputs": [],
   "source": [
    "#打印出既是逐年增长也没有太多缺失值的台区\n",
    "# intersection_index = list(set(drop_little_tq_index).intersection(set(increase_tq_index)))\n",
    "# print(intersection_index)"
   ]
  },
  {
   "cell_type": "code",
   "execution_count": null,
   "metadata": {},
   "outputs": [],
   "source": [
    "#convert to time series:\n",
    "ts = data_time_series_dropna[3002232277]\n",
    "ts.head()"
   ]
  },
  {
   "cell_type": "markdown",
   "metadata": {},
   "source": [
    "# 平稳性检验\n",
    "\n",
    "## 展示时序图"
   ]
  },
  {
   "cell_type": "code",
   "execution_count": null,
   "metadata": {},
   "outputs": [],
   "source": [
    "register_matplotlib_converters()\n",
    "plt.plot(ts)"
   ]
  },
  {
   "cell_type": "markdown",
   "metadata": {},
   "source": [
    "### 平稳性检验函数"
   ]
  },
  {
   "cell_type": "code",
   "execution_count": null,
   "metadata": {},
   "outputs": [],
   "source": [
    "from statsmodels.tsa.stattools import adfuller\n",
    "def test_stationarity(timeseries):\n",
    "    \n",
    "    #移动平均和移动方差\n",
    "    rolmean = timeseries.rolling(window=12).mean()\n",
    "    rolstd = timeseries.rolling(window=12).std()\n",
    "\n",
    "    #把移动平均和移动方差画出来:\n",
    "    orig = plt.plot(timeseries, color='blue',label='原始曲线')\n",
    "    mean = plt.plot(rolmean, color='yellow', label='移动平均')\n",
    "    std = plt.plot(rolstd, color='black', label = '移动方差')\n",
    "    plt.legend(loc='best')\n",
    "    plt.title(u'绘制移动平均数和移动方差，观察它是否随着时间变化')\n",
    "    plt.show(block=False)\n",
    "    \n",
    "    #进行单位根检验:\n",
    "    print('单位根检验:')\n",
    "    dftest = adfuller(timeseries, autolag='AIC')\n",
    "    dfoutput = pd.Series(dftest[0:4], index=['Test Statistic','p-value','#Lags Used','Number of Observations Used'])\n",
    "    for key,value in dftest[4].items():\n",
    "        dfoutput['Critical Value (%s)'%key] = value\n",
    "    print(dfoutput)\n",
    "    if dfoutput.loc['p-value']>0.01:\n",
    "        print('p值大于0.01，不能拒绝原假设，说明时间序列是非平稳的')\n",
    "    else:\n",
    "        print('p值小于0.01，拒绝原假设，说明时间序列是平稳的')\n",
    "    return dfoutput.loc['p-value']<0.01\n",
    "    #返回时间序列是否平稳的判断值\n",
    "    '''\n",
    "    单位根的原假设为序列具有单位根，即非平稳，\n",
    "    对于一个平稳的时序数据，就需要在给定的置信水平上显著，拒绝原假设。\n",
    "    '''"
   ]
  },
  {
   "cell_type": "code",
   "execution_count": null,
   "metadata": {},
   "outputs": [],
   "source": [
    "test_stationarity(ts)"
   ]
  },
  {
   "cell_type": "markdown",
   "metadata": {},
   "source": [
    "# 平稳性的处理\n",
    "\n",
    "\n",
    "## 预测和消除趋势\n"
   ]
  },
  {
   "cell_type": "markdown",
   "metadata": {},
   "source": [
    "## Smoothing:\n",
    "\n",
    "### 移动平均"
   ]
  },
  {
   "cell_type": "code",
   "execution_count": null,
   "metadata": {},
   "outputs": [],
   "source": [
    "moving_avg = ts.rolling(12).mean()\n",
    "plt.plot(ts,label='原始曲线')\n",
    "plt.plot(moving_avg, color='red',label='移动平均')\n",
    "plt.title('移动平均')\n",
    "plt.legend(loc='best')\n",
    "plt.show()"
   ]
  },
  {
   "cell_type": "code",
   "execution_count": null,
   "metadata": {},
   "outputs": [],
   "source": [
    "ts_moving_avg_diff = ts - moving_avg\n",
    "ts_moving_avg_diff.dropna(inplace=True)\n",
    "test_stationarity(ts_moving_avg_diff)"
   ]
  },
  {
   "cell_type": "markdown",
   "metadata": {},
   "source": [
    "### 指数平滑法"
   ]
  },
  {
   "cell_type": "code",
   "execution_count": null,
   "metadata": {},
   "outputs": [],
   "source": [
    "# expwighted_avg = ts.ewm(halflife=12).mean()\n",
    "# plt.plot(ts,label='原始曲线')\n",
    "# plt.plot(expwighted_avg, color='red',label='指数平滑曲线')\n",
    "# plt.title('指数平滑处理')\n",
    "# plt.legend(loc='best')\n",
    "# plt.show()\n",
    "#expwighted_avg.plot(style='k--')"
   ]
  },
  {
   "cell_type": "code",
   "execution_count": null,
   "metadata": {},
   "outputs": [],
   "source": [
    "# ts_ewma_diff = ts - expwighted_avg\n",
    "# test_stationarity(ts_ewma_diff)"
   ]
  },
  {
   "cell_type": "markdown",
   "metadata": {},
   "source": [
    "## 消除趋势和季节性"
   ]
  },
  {
   "cell_type": "markdown",
   "metadata": {
    "collapsed": true
   },
   "source": [
    "### 差分:"
   ]
  },
  {
   "cell_type": "code",
   "execution_count": null,
   "metadata": {},
   "outputs": [],
   "source": [
    "#直接对原始数据取一阶差分:\n",
    "ts_diff = ts - ts.shift(1)\n",
    "plt.plot(ts_diff)\n",
    "plt.title('差分处理')\n",
    "plt.show()"
   ]
  },
  {
   "cell_type": "code",
   "execution_count": null,
   "metadata": {},
   "outputs": [],
   "source": [
    "ts_diff.dropna(inplace=True)\n",
    "test_stationarity(ts_diff)"
   ]
  },
  {
   "cell_type": "markdown",
   "metadata": {},
   "source": [
    "# 构建模型"
   ]
  },
  {
   "cell_type": "markdown",
   "metadata": {},
   "source": [
    "## 时间序列的分解（分解后分开预测）"
   ]
  },
  {
   "cell_type": "code",
   "execution_count": null,
   "metadata": {},
   "outputs": [],
   "source": [
    "from statsmodels.tsa.seasonal import seasonal_decompose\n",
    "decomposition = seasonal_decompose(ts,extrapolate_trend='freq')\n",
    "# 显式调用seasonal_decompose函数的extrapolate_trend参数可以强制提取残差，同时使趋势曲线更加平滑\n",
    "trend = decomposition.trend\n",
    "seasonal = decomposition.seasonal\n",
    "residual = decomposition.resid\n",
    "\n",
    "plt.subplot(411)\n",
    "plt.plot(ts, label='原始')\n",
    "plt.legend(loc='best')\n",
    "plt.subplot(412)\n",
    "plt.plot(trend, label='趋势')\n",
    "plt.legend(loc='best')\n",
    "plt.subplot(413)\n",
    "plt.plot(seasonal,label='季节')\n",
    "plt.legend(loc='best')\n",
    "plt.subplot(414)\n",
    "plt.plot(residual, label='残差')\n",
    "plt.legend(loc='best')\n",
    "plt.tight_layout()"
   ]
  },
  {
   "cell_type": "code",
   "execution_count": null,
   "metadata": {},
   "outputs": [],
   "source": [
    "trend_diff = trend - trend.shift(1)\n",
    "plt.plot(trend_diff)\n",
    "plt.title('趋势的差分处理')\n",
    "plt.show()"
   ]
  },
  {
   "cell_type": "code",
   "execution_count": null,
   "metadata": {},
   "outputs": [],
   "source": [
    "trend_diff.dropna(inplace=True)\n",
    "test_stationarity(trend_diff)"
   ]
  },
  {
   "cell_type": "code",
   "execution_count": null,
   "metadata": {},
   "outputs": [],
   "source": [
    "ts_decompose = residual\n",
    "ts_decompose.dropna(inplace=True)\n",
    "test_stationarity(ts_decompose)"
   ]
  },
  {
   "cell_type": "markdown",
   "metadata": {},
   "source": [
    "## 利用交叉验证法求预测模型参数"
   ]
  },
  {
   "cell_type": "markdown",
   "metadata": {},
   "source": [
    "# 创建训练集和测试集\n",
    "size = int(len(ts_diff) * 0.8)\n",
    "train, test = ts_diff[0:size], ts_diff[size:len(ts_diff)]\n",
    "register_matplotlib_converters()\n",
    "plt.plot(train.index, train, color='blue', label='训练集')\n",
    "plt.plot(test.index, test, color='green', label='测试集')\n",
    "plt.legend()\n",
    "plt.title('真实数据的训练集和测试集')\n",
    "plt.show()"
   ]
  },
  {
   "cell_type": "markdown",
   "metadata": {},
   "source": [
    "#样本内预测的结果和预测误差\n",
    "def compare_ARIMA_modes_testing(order):\n",
    "    history = [x for x in train]\n",
    "    predictions_f = list()\n",
    "    predictions_p = list()\n",
    "    for t in range(len(test)):\n",
    "        model = ARIMA(history, order=order)\n",
    "        model_fit = model.fit(disp=-1)\n",
    "        yhat_f = model_fit.forecast()[0][0]\n",
    "        yhat_p = model_fit.predict(start=len(history), end=len(history))[0]\n",
    "        predictions_f.append(yhat_f)\n",
    "        predictions_p.append(yhat_p)\n",
    "        history.append(test[t])\n",
    "    #mean_squared_error即为“误差”的平方的期望值\n",
    "    error_f = mean_squared_error(test, predictions_f)\n",
    "    error_p = mean_squared_error(test, predictions_p)\n",
    "    print('MSE forecast:\\t\\t\\t{:1.4f}'.format(error_f))\n",
    "    print('MSE predict:\\t\\t\\t{:1.4f}'.format(error_p))\n",
    "    return {'Predictions forecast': pd.Series(predictions_f,index=test.index),\n",
    "            'Predictions predict': pd.Series(predictions_p,index=test.index),\n",
    "            'MSE forecast': error_f,\n",
    "            'MSE predict': error_p}"
   ]
  },
  {
   "cell_type": "markdown",
   "metadata": {},
   "source": [
    "#利用交叉验证法寻找最佳阶数\n",
    "def cross_proper_model(maxLag):\n",
    "    init_error = sys.maxsize\n",
    "    init_p = 0\n",
    "    init_q = 0\n",
    "    init_properModel = None\n",
    "    for p in np.arange(maxLag):\n",
    "        for q in np.arange(maxLag):\n",
    "            arima = compare_ARIMA_modes_testing((p,1,q))\n",
    "            error_f = arima['MSE forecast']\n",
    "            error_p = arima['MSE predict']\n",
    "        if error_f < init_error or error_p < init_error:\n",
    "                init_p = p\n",
    "                init_q = q\n",
    "                init_properModel =arima\n",
    "                init_error = min(error_f,error_p)\n",
    "    return [init_error, init_p, init_q, init_properModel]"
   ]
  },
  {
   "cell_type": "markdown",
   "metadata": {},
   "source": [
    "## 利用贝叶斯信息准则求预测模型参数"
   ]
  },
  {
   "cell_type": "code",
   "execution_count": null,
   "metadata": {},
   "outputs": [],
   "source": [
    "#利用贝叶斯信息准则（BIC）寻找最佳阶数，使得BIC达到最小值的(p, q)即为该准则下的最优模型的阶数\n",
    "def proper_model(data_ts, maxLag):\n",
    "    init_bic = sys.maxsize\n",
    "    init_p = 0\n",
    "    init_q = 0\n",
    "    init_properModel = None\n",
    "    for p in np.arange(maxLag):\n",
    "        for q in np.arange(maxLag):\n",
    "            model = ARMA(data_ts, order=(p, q),freq=data_ts.index.inferred_freq)\n",
    "            try:\n",
    "                results_ARMA = model.fit(disp=-1, method='css')\n",
    "            except:\n",
    "                continue#忽略所有异常\n",
    "            bic = results_ARMA.bic\n",
    "            if bic < init_bic:\n",
    "                init_p = p\n",
    "                init_q = q\n",
    "                init_properModel = results_ARMA\n",
    "                init_bic = bic\n",
    "    return [init_bic, init_p, init_q, init_properModel]"
   ]
  },
  {
   "cell_type": "markdown",
   "metadata": {},
   "source": [
    "## 预测模型（针对趋势和残差）"
   ]
  },
  {
   "cell_type": "code",
   "execution_count": null,
   "metadata": {},
   "outputs": [],
   "source": [
    "#样本外预测\n",
    "def compare_ARIMA_modes(series,order):\n",
    "    history_f = [x for x in series]\n",
    "    history_p = [x for x in series]\n",
    "    series_p = series\n",
    "    series_f = series\n",
    "#     for t in range(52):滚动预测的效果不佳\n",
    "    model = ARIMA(history_f, order=order)\n",
    "    model_fit = model.fit(disp=-1)\n",
    "    yhat_f = model_fit.forecast(steps=104)[0]\n",
    "    model = ARIMA(history_p, order=order)\n",
    "    model_fit = model.fit(disp=-1)\n",
    "    yhat_p = model_fit.predict(start=len(history_p), end=len(history_p)+104)\n",
    "    \n",
    "    #附加新元素时也加上一个单位的索引\n",
    "    for t in range(104,1,-1):\n",
    "        series_p = series_p.append(pd.Series(yhat_p[-t],index=[series_p.index[-1]+timedelta(days=7)]))\n",
    "        series_f = series_f.append(pd.Series(yhat_f[-t],index=[series_f.index[-1]+timedelta(days=7)]))\n",
    "    return {'Predictions forecast': series_f[series.index[-1]:series_f.index[-1]],\n",
    "            'Predictions predict': series_p[series.index[-1]:series_p.index[-1]]}"
   ]
  },
  {
   "cell_type": "code",
   "execution_count": null,
   "metadata": {},
   "outputs": [],
   "source": [
    "#样本外预测\n",
    "def LinearRegression_modes(series):\n",
    "    history = [x for x in series]\n",
    "    series_p = series\n",
    "    #lr = LassoCV(cv=tscv)\n",
    "    lr = LinearRegression(normalize= \"l1\") \n",
    "    #可以尝试随机森林的效果，也不错。也可以做多模型结果融合，请自己尝试。\n",
    "    #lr = RandomForestRegressor(n_estimators=100, max_depth=10) #lag_start = 288, lag_end = 320\n",
    "    # lr = RidgeCV(cv = tscv)\n",
    "    lr.fit(np.array(range(len(series.index))).reshape(1, -1), np.array(series.values).reshape(1, -1))\n",
    "    #train_score = lr.score(x_train_scaled, y_train)\n",
    "    #test_score = lr.score(x_test_scaled, y_test)\n",
    "    #print(\"num_tree\", each, \"score\", train_score, test_score)\n",
    "    #print(x_pred)\n",
    "    # now 拟合\n",
    "    print(np.array(range(len(series.index))).reshape(1, -1))\n",
    "    y_fit = lr.predict(np.array(range(len(series.index),len(series.index)+103)).reshape(1, -1))\n",
    "    print(y_fit[0])\n",
    "    print(series.values)\n",
    "    #附加新元素时也加上一个单位的索引\n",
    "    for t in range(52,1,-1):\n",
    "        series_p = series_p.append(pd.Series(y_fit[0][-t],index=[series_p.index[-1]+timedelta(days=7)]))\n",
    "    return {'Predictions': series_p[series.index[-1]:series_p.index[-1]]}"
   ]
  },
  {
   "cell_type": "code",
   "execution_count": null,
   "metadata": {},
   "outputs": [],
   "source": [
    "#季节变动每一年都是一样的，预测季节因素只需要将前一年的数据复制到新一年即可\n",
    "def season_forcast_year(seasonal):\n",
    "    seasonal_f = seasonal\n",
    "    seasonal_f.index = seasonal.index+timedelta(weeks=104)\n",
    "    return seasonal_f"
   ]
  },
  {
   "cell_type": "code",
   "execution_count": null,
   "metadata": {
    "scrolled": true
   },
   "outputs": [],
   "source": [
    "linear_predict = LinearRegression_modes(trend)"
   ]
  },
  {
   "cell_type": "code",
   "execution_count": null,
   "metadata": {},
   "outputs": [],
   "source": [
    "print(linear_predict['Predictions'].values)"
   ]
  },
  {
   "cell_type": "code",
   "execution_count": null,
   "metadata": {},
   "outputs": [],
   "source": [
    "# type(y_fit)"
   ]
  },
  {
   "cell_type": "code",
   "execution_count": null,
   "metadata": {},
   "outputs": [],
   "source": [
    "# trend_coefficient=proper_model(trend_diff,20)\n",
    "# print(trend_coefficient)"
   ]
  },
  {
   "cell_type": "code",
   "execution_count": null,
   "metadata": {},
   "outputs": [],
   "source": [
    "# trend_model =  compare_ARIMA_modes(trend_diff,(trend_coefficient[1], 1, trend_coefficient[2]))"
   ]
  },
  {
   "cell_type": "code",
   "execution_count": null,
   "metadata": {},
   "outputs": [],
   "source": [
    "# forecast and predict are different for ARMA\n",
    "# print()\n",
    "# plt.plot(trend, label='Ground Truth')\n",
    "# plt.plot(linear_predict['Predictions'][1:-1]+2.5, color='red', label='.forecast()',linestyle='dashed')\n",
    "# plt.legend(loc='best')\n",
    "# plt.title('ARMA')\n",
    "# plt.show()"
   ]
  },
  {
   "cell_type": "code",
   "execution_count": null,
   "metadata": {},
   "outputs": [],
   "source": [
    "trend_model =  compare_ARIMA_modes(trend,(0, 1, 0))"
   ]
  },
  {
   "cell_type": "code",
   "execution_count": null,
   "metadata": {},
   "outputs": [],
   "source": [
    "# forecast and predict are different for ARMA\n",
    "print()\n",
    "plt.plot(trend, label='Ground Truth')\n",
    "plt.plot(linear_predict['Predictions'], color='red', label='.forecast()',linestyle='dashed')\n",
    "plt.legend(loc='best')\n",
    "plt.title('ARMA')\n",
    "plt.show()"
   ]
  },
  {
   "cell_type": "code",
   "execution_count": null,
   "metadata": {},
   "outputs": [],
   "source": [
    "# predictions_ARIMA_diff_cumsum = predictions_ARIMA_diff.cumsum()"
   ]
  },
  {
   "cell_type": "code",
   "execution_count": null,
   "metadata": {},
   "outputs": [],
   "source": [
    "# residual_coefficient=proper_model(residual,20)\n",
    "# print(residual_coefficient)"
   ]
  },
  {
   "cell_type": "code",
   "execution_count": null,
   "metadata": {},
   "outputs": [],
   "source": [
    "residual_model =  compare_ARIMA_modes(residual,(18, 1, 8))"
   ]
  },
  {
   "cell_type": "code",
   "execution_count": null,
   "metadata": {},
   "outputs": [],
   "source": [
    "plt.plot(residual, label='Ground Truth')\n",
    "plt.plot(residual_model['Predictions forecast'], color='red', label='.forecast()',linestyle='dashed')\n",
    "plt.plot(residual_model['Predictions predict'], color='green', label='.predict()',linestyle='dotted')\n",
    "plt.legend(loc='best')\n",
    "plt.title('residual_model')\n",
    "plt.show(block=False)"
   ]
  },
  {
   "cell_type": "code",
   "execution_count": null,
   "metadata": {},
   "outputs": [],
   "source": [
    "seasonal_f=season_forcast_year(seasonal)"
   ]
  },
  {
   "cell_type": "code",
   "execution_count": null,
   "metadata": {},
   "outputs": [],
   "source": [
    "forcast_model = linear_predict['Predictions'][1:-1]+2.5+residual_model['Predictions forecast']+seasonal_f\n",
    "forcast_model.fillna(11.578118,inplace=True)\n",
    "forcast_model.head()"
   ]
  },
  {
   "cell_type": "code",
   "execution_count": null,
   "metadata": {},
   "outputs": [],
   "source": [
    "forcast_model_least=linear_predict['Predictions'][1:-1]+2.5+seasonal_f\n",
    "#forcast_model_least.fillna(11.578118,inplace=True)\n",
    "forcast_model.head()"
   ]
  },
  {
   "cell_type": "markdown",
   "metadata": {},
   "source": [
    "# 预测"
   ]
  },
  {
   "cell_type": "code",
   "execution_count": null,
   "metadata": {},
   "outputs": [],
   "source": [
    "import math\n",
    "ts_past_list = (ts.index-timedelta(weeks=103)).to_list()\n",
    "ts_later_list = (ts.index+timedelta(weeks=103)).to_list()\n",
    "ts_list = ts.index.to_list()\n",
    "ts_list=ts_past_list+ts_list+ts_later_list\n",
    "series=pd.Series(np.arange(0, 12.36, 0.04),index=ts_list)\n",
    "plt.plot(series,label='未处理')\n",
    "plt.legend(loc='best')\n",
    "for i in [5,10,30,50]:\n",
    "    series_p=series.apply(lambda x:10/(1+i*math.e**(1-x))+1.5)\n",
    "    plt.plot(series_p,label='i为'+str(i))\n",
    "    plt.legend(loc='best')"
   ]
  },
  {
   "cell_type": "code",
   "execution_count": null,
   "metadata": {},
   "outputs": [],
   "source": [
    "print(type(ts.index))"
   ]
  },
  {
   "cell_type": "code",
   "execution_count": null,
   "metadata": {},
   "outputs": [],
   "source": [
    "plt.plot(series_p.loc[pd.concat([ts.index.to_series(),forcast_model.index.to_series()]).index],label='S型曲线')\n",
    "plt.plot(ts, label='历史负荷')\n",
    "plt.plot(forcast_model, color='red', label='预测曲线上界')\n",
    "plt.plot(forcast_model_least, color='green', label='预测曲线下界',linestyle='dashed')\n",
    "plt.legend(loc='best')\n",
    "plt.title('预测结果')\n",
    "plt.savefig('foo.png')\n",
    "plt.show()"
   ]
  },
  {
   "cell_type": "code",
   "execution_count": null,
   "metadata": {},
   "outputs": [],
   "source": [
    "plt.plot(forcast_model, color='red', label='预测曲线上界')\n",
    "plt.plot(forcast_model_least, color='green', label='预测曲线下界',linestyle='dashed')\n",
    "plt.legend(loc='best')\n",
    "plt.title('预测结果')\n",
    "plt.savefig('foo.png')\n",
    "plt.show()"
   ]
  },
  {
   "cell_type": "code",
   "execution_count": null,
   "metadata": {},
   "outputs": [],
   "source": [
    "plt.plot(ts, label='Ground Truth')\n",
    "\n",
    "plt.legend(loc='best')\n",
    "plt.title('forcast_model')\n",
    "plt.show()"
   ]
  },
  {
   "cell_type": "code",
   "execution_count": null,
   "metadata": {},
   "outputs": [],
   "source": [
    "plt.plot(ts[-52:-1])"
   ]
  },
  {
   "cell_type": "code",
   "execution_count": null,
   "metadata": {},
   "outputs": [],
   "source": [
    "plt.plot(ts[-104:-53])"
   ]
  },
  {
   "cell_type": "code",
   "execution_count": null,
   "metadata": {},
   "outputs": [],
   "source": [
    "plt.plot(forcast_model)"
   ]
  },
  {
   "cell_type": "markdown",
   "metadata": {},
   "source": [
    "# 预测时间序列"
   ]
  },
  {
   "cell_type": "code",
   "execution_count": null,
   "metadata": {},
   "outputs": [],
   "source": [
    "fig = plt.figure(figsize=(12,8))\n",
    "ax1 = fig.add_subplot(211)\n",
    "fig = sm.graphics.tsa.plot_acf(ts_diff, lags=40, ax=ax1) #从13开始是因为做季节性差分时window是12\n",
    "ax2 = fig.add_subplot(212)\n",
    "fig = sm.graphics.tsa.plot_pacf(ts_diff, lags=40, ax=ax2)"
   ]
  },
  {
   "cell_type": "code",
   "execution_count": null,
   "metadata": {},
   "outputs": [],
   "source": [
    "fig = plt.figure(figsize=(12,8))\n",
    "ax1 = fig.add_subplot(211)\n",
    "fig = sm.graphics.tsa.plot_acf(trend.dropna(), lags=40, ax=ax1) #从13开始是因为做季节性差分时window是12\n",
    "ax2 = fig.add_subplot(212)\n",
    "fig = sm.graphics.tsa.plot_pacf(trend.dropna(), lags=40, ax=ax2)"
   ]
  },
  {
   "cell_type": "markdown",
   "metadata": {},
   "source": [
    "### ACF & PACF Plots"
   ]
  },
  {
   "cell_type": "code",
   "execution_count": null,
   "metadata": {
    "scrolled": true
   },
   "outputs": [],
   "source": [
    "#选择差分处理后的结果进行预测\n",
    "#ACF and PACF plots:\n",
    "from statsmodels.tsa.stattools import acf, pacf  \n",
    "\n",
    "lag_acf = acf(ts_diff, nlags=20)\n",
    "lag_pacf = pacf(ts_diff, nlags=20, method='ols')\n",
    "\n",
    "#Plot ACF:    \n",
    "plt.subplot(121)    \n",
    "plt.plot(lag_acf)\n",
    "plt.axhline(y=0,linestyle='--',color='gray')\n",
    "plt.axhline(y=-1.96/np.sqrt(len(ts_diff)),linestyle='--',color='gray')\n",
    "plt.axhline(y=1.96/np.sqrt(len(ts_diff)),linestyle='--',color='gray')\n",
    "plt.title('Autocorrelation Function')\n",
    "\n",
    "#Plot PACF:\n",
    "plt.subplot(122)\n",
    "plt.plot(lag_pacf)\n",
    "plt.axhline(y=0,linestyle='--',color='gray')\n",
    "plt.axhline(y=-1.96/np.sqrt(len(ts_diff)),linestyle='--',color='gray')\n",
    "plt.axhline(y=1.96/np.sqrt(len(ts_diff)),linestyle='--',color='gray')\n",
    "plt.title('Partial Autocorrelation Function')\n",
    "plt.tight_layout()\n",
    "\n",
    "#两条虚线之间是置信区间"
   ]
  },
  {
   "cell_type": "code",
   "execution_count": null,
   "metadata": {},
   "outputs": [],
   "source": [
    "#选择季节分解后的趋势进行预测\n",
    "#ACF and PACF plots:\n",
    "from statsmodels.tsa.stattools import acf, pacf  \n",
    "\n",
    "lag_acf = acf(trend.dropna(), nlags=20)\n",
    "lag_pacf = pacf(trend.dropna(), nlags=20, method='ols')\n",
    "\n",
    "#Plot ACF:    \n",
    "plt.subplot(121)    \n",
    "plt.plot(lag_acf)\n",
    "plt.axhline(y=0,linestyle='--',color='gray')\n",
    "plt.axhline(y=-1.96/np.sqrt(len(trend.dropna())),linestyle='--',color='gray')\n",
    "plt.axhline(y=1.96/np.sqrt(len(trend.dropna())),linestyle='--',color='gray')\n",
    "plt.title('Autocorrelation Function')\n",
    "\n",
    "#Plot PACF:\n",
    "plt.subplot(122)\n",
    "plt.plot(lag_pacf)\n",
    "plt.axhline(y=0,linestyle='--',color='gray')\n",
    "plt.axhline(y=-1.96/np.sqrt(len(trend.dropna())),linestyle='--',color='gray')\n",
    "plt.axhline(y=1.96/np.sqrt(len(trend.dropna())),linestyle='--',color='gray')\n",
    "plt.title('Partial Autocorrelation Function')\n",
    "plt.tight_layout()\n",
    "\n",
    "#两条虚线之间是置信区间"
   ]
  },
  {
   "cell_type": "markdown",
   "metadata": {},
   "source": [
    "### AR Model:"
   ]
  },
  {
   "cell_type": "code",
   "execution_count": null,
   "metadata": {},
   "outputs": [],
   "source": [
    "#MA model:\n",
    "model = ARIMA(ts_log, order=(1, 1, 2),freq=ts_log.index.inferred_freq)  \n",
    "results_AR = model.fit(disp=-1)  \n",
    "plt.plot(ts_log_diff)\n",
    "plt.plot(results_AR.fittedvalues, color='red')\n",
    "plt.title('RSS: %.4f'% sum((results_AR.fittedvalues-ts_log_diff)**2))"
   ]
  },
  {
   "cell_type": "markdown",
   "metadata": {},
   "source": [
    "### MA Model"
   ]
  },
  {
   "cell_type": "code",
   "execution_count": null,
   "metadata": {},
   "outputs": [],
   "source": [
    "model = ARIMA(ts_log, order=(0, 1, 2),freq=ts_log.index.inferred_freq)  \n",
    "results_MA = model.fit(disp=-1)  \n",
    "plt.plot(ts_log_diff)\n",
    "plt.plot(results_MA.fittedvalues, color='red')\n",
    "plt.title('RSS: %.4f'% sum((results_MA.fittedvalues-ts_log_diff)**2))"
   ]
  },
  {
   "cell_type": "markdown",
   "metadata": {},
   "source": [
    "### ARIMA Model:"
   ]
  },
  {
   "cell_type": "code",
   "execution_count": null,
   "metadata": {
    "scrolled": false
   },
   "outputs": [],
   "source": [
    "model = ARIMA(ts_log, order=(2, 1, 2),freq=ts_log.index.inferred_freq)  \n",
    "results_ARIMA = model.fit(disp=-1)  \n",
    "plt.plot(ts_log_diff)\n",
    "plt.plot(results_ARIMA.fittedvalues, color='red')\n",
    "plt.title('RSS: %.4f'% sum((results_ARIMA.fittedvalues-ts_log_diff)**2))"
   ]
  },
  {
   "cell_type": "markdown",
   "metadata": {},
   "source": [
    "### 预测还原:"
   ]
  },
  {
   "cell_type": "code",
   "execution_count": null,
   "metadata": {},
   "outputs": [],
   "source": [
    "predictions_ARIMA_diff = pd.Series(results_ARIMA.fittedvalues, copy=True)\n",
    "print(predictions_ARIMA_diff.head())"
   ]
  },
  {
   "cell_type": "code",
   "execution_count": null,
   "metadata": {},
   "outputs": [],
   "source": [
    "predictions_ARIMA_diff_cumsum = predictions_ARIMA_diff.cumsum()\n",
    "print(predictions_ARIMA_diff_cumsum.head())"
   ]
  },
  {
   "cell_type": "code",
   "execution_count": null,
   "metadata": {},
   "outputs": [],
   "source": [
    "predictions_ARIMA_log = pd.Series(ts_log.iloc[0], index=ts_log.index)\n",
    "predictions_ARIMA_log = predictions_ARIMA_log.add(predictions_ARIMA_diff_cumsum,fill_value=0)\n",
    "predictions_ARIMA_log.head()"
   ]
  },
  {
   "cell_type": "code",
   "execution_count": null,
   "metadata": {},
   "outputs": [],
   "source": [
    "plt.plot(ts_log)\n",
    "plt.plot(predictions_ARIMA_diff_cumsum)"
   ]
  },
  {
   "cell_type": "code",
   "execution_count": null,
   "metadata": {},
   "outputs": [],
   "source": [
    "plt.plot(ts_log)\n",
    "plt.plot(predictions_ARIMA_log)\n",
    "predictions_ARIMA_log=predictions_ARIMA_log.rename('predictions_ARIMA_log')\n",
    "predictions_ARIMA_log.to_csv(predictions_ARIMA_log.name+'.csv',header=True)"
   ]
  },
  {
   "cell_type": "code",
   "execution_count": null,
   "metadata": {},
   "outputs": [],
   "source": [
    "predictions_ARIMA = np.exp(predictions_ARIMA_log)\n",
    "plt.plot(ts)\n",
    "plt.plot(predictions_ARIMA)\n",
    "plt.title('RMSE: %.4f'% np.sqrt(sum((predictions_ARIMA-ts)**2)/len(ts)))"
   ]
  },
  {
   "cell_type": "markdown",
   "metadata": {},
   "source": [
    "### 对分解出来的趋势进行预测"
   ]
  }
 ],
 "metadata": {
  "kernelspec": {
   "display_name": "Python 3",
   "language": "python",
   "name": "python3"
  },
  "language_info": {
   "codemirror_mode": {
    "name": "ipython",
    "version": 3
   },
   "file_extension": ".py",
   "mimetype": "text/x-python",
   "name": "python",
   "nbconvert_exporter": "python",
   "pygments_lexer": "ipython3",
   "version": "3.6.8"
  }
 },
 "nbformat": 4,
 "nbformat_minor": 1
}
